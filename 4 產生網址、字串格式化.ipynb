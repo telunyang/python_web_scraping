{
 "cells": [
  {
   "cell_type": "markdown",
   "metadata": {},
   "source": [
    "# 產生網址"
   ]
  },
  {
   "cell_type": "code",
   "execution_count": null,
   "metadata": {},
   "outputs": [],
   "source": [
    "# 匯入套件\n",
    "from urllib import parse"
   ]
  },
  {
   "cell_type": "code",
   "execution_count": null,
   "metadata": {},
   "outputs": [],
   "source": [
    "# 產生 url\n",
    "string = 'https://www.104.com.tw/jobs/search/?'\n",
    "query = {\n",
    "    \"keyword\": \"python\",\n",
    "    \"order\": 1,\n",
    "    \"jobsource\": \"2018indexpoc\",\n",
    "    \"ro\": 0}\n",
    "result = string + parse.urlencode(query)\n",
    "print(result)"
   ]
  },
  {
   "cell_type": "code",
   "execution_count": null,
   "metadata": {},
   "outputs": [],
   "source": [
    "'''\n",
    "憲法法庭 - 首頁\n",
    "https://cons.judicial.gov.tw/index.aspx\n",
    "\n",
    "憲法法庭 - 解釋\n",
    "https://cons.judicial.gov.tw/judcurrent.aspx?fid=2195\n",
    "\n",
    "設定 URL 範例 - 釋字第 791 號解釋\n",
    "https://cons.judicial.gov.tw/docdata.aspx?fid=100&id=310972\n",
    "'''\n",
    "\n",
    "#最簡單的方式: 透過 formatted string\n",
    "no = 310972\n",
    "result = f\"https://cons.judicial.gov.tw/docdata.aspx?fid=100&id={no}\"\n",
    "print(result)"
   ]
  },
  {
   "cell_type": "code",
   "execution_count": null,
   "metadata": {},
   "outputs": [],
   "source": [
    "'''\n",
    "說明\n",
    "url 只允許部分 ASCII 的字元（數字與部分符號），\n",
    "其它的字元（例如中文字）是不符合 url 標準的，\n",
    "這時候 url 若有其它字元\n",
    "便要進行編碼\n",
    "'''\n",
    "# 編碼 parse.quote()\n",
    "result01 = parse.quote('a=1&b=2')\n",
    "print(result01)\n",
    "\n",
    "# 解碼 parse.unquote()\n",
    "result02 = parse.unquote('a%3D1%26b%3D2')\n",
    "print(result02)"
   ]
  },
  {
   "cell_type": "markdown",
   "metadata": {},
   "source": [
    "---\n",
    "# 字串格式化"
   ]
  },
  {
   "cell_type": "code",
   "execution_count": null,
   "metadata": {},
   "outputs": [],
   "source": [
    "# 百分比 (%)\n",
    "print('整數: %d' % 20) # 格式化整數\n",
    "print('浮點數: %f' % 1.111)  # 預設保留6位小數\n",
    "print('浮點數: %.1f' % 1.111)  # 取1位小數\n",
    "print('My name is %s' % 'Darren') # 格式化字串"
   ]
  },
  {
   "cell_type": "code",
   "execution_count": null,
   "metadata": {},
   "outputs": [],
   "source": [
    "# str.format() => 用法:'{}'.format()\n",
    "name = \"Darren\"\n",
    "age = 18\n",
    "str01 = \"name: {}, age: {}\".format(name, age)\n",
    "print(str01)"
   ]
  },
  {
   "cell_type": "code",
   "execution_count": null,
   "metadata": {},
   "outputs": [],
   "source": [
    "# f-string (又作 formatted string literals, version >= 3.6)\n",
    "name = \"Darren\"\n",
    "age = 18\n",
    "str02 = f\"name: {name}, age: {age}\"\n",
    "print(str02)"
   ]
  }
 ],
 "metadata": {
  "kernelspec": {
   "display_name": "Python 3 (ipykernel)",
   "language": "python",
   "name": "python3"
  },
  "language_info": {
   "codemirror_mode": {
    "name": "ipython",
    "version": 3
   },
   "file_extension": ".py",
   "mimetype": "text/x-python",
   "name": "python",
   "nbconvert_exporter": "python",
   "pygments_lexer": "ipython3",
   "version": "3.9.13"
  },
  "vscode": {
   "interpreter": {
    "hash": "585a938ec471c889bf0cce0aed741a99eaf47ca09c0fa8393793bc5bfe77ba11"
   }
  }
 },
 "nbformat": 4,
 "nbformat_minor": 4
}

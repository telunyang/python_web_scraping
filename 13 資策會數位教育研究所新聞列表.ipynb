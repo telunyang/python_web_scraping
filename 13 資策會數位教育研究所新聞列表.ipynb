{
 "cells": [
  {
   "cell_type": "code",
   "execution_count": null,
   "metadata": {},
   "outputs": [],
   "source": [
    "# 匯入套件\n",
    "from bs4 import BeautifulSoup as bs\n",
    "import requests as req"
   ]
  },
  {
   "cell_type": "code",
   "execution_count": null,
   "metadata": {},
   "outputs": [],
   "source": [
    "# 取得新聞列表\n",
    "url = \"https://www.iiiedu.org.tw/category/news/\" \n",
    "\n",
    "# 用 requests 的 get 方法把網頁抓下來\n",
    "res = req.get(url) \n",
    "\n",
    "# 指定 lxml 作為解析器\n",
    "soup = bs(res.text, \"lxml\") "
   ]
  },
  {
   "cell_type": "code",
   "execution_count": null,
   "metadata": {},
   "outputs": [],
   "source": [
    "# 取得 a 的文字\n",
    "for a in soup.select('article div.entry-content header.entry-header h2.entry-title a'):\n",
    "    print(a.get_text())"
   ]
  },
  {
   "cell_type": "code",
   "execution_count": null,
   "metadata": {},
   "outputs": [],
   "source": [
    "# 建立 list 來放置新聞連結\n",
    "list_news = []\n",
    "\n",
    "# 取得 a 的連結\n",
    "for a in soup.select('article div.entry-content header.entry-header h2.entry-title a'):\n",
    "    list_news.append(a['href'])\n",
    "    \n",
    "# 走訪每一個 a link，並印出網頁內文\n",
    "for index, link in enumerate(list_news):\n",
    "    res = req.get(link)\n",
    "    soup_ = bs(res.text, \"lxml\")\n",
    "    print(soup_.select_one('article div.entry-content').get_text())\n",
    "    print(\"=\" * 50)"
   ]
  }
 ],
 "metadata": {
  "kernelspec": {
   "display_name": "Python 3",
   "language": "python",
   "name": "python3"
  },
  "language_info": {
   "codemirror_mode": {
    "name": "ipython",
    "version": 3
   },
   "file_extension": ".py",
   "mimetype": "text/x-python",
   "name": "python",
   "nbconvert_exporter": "python",
   "pygments_lexer": "ipython3",
   "version": "3.8.8"
  }
 },
 "nbformat": 4,
 "nbformat_minor": 4
}

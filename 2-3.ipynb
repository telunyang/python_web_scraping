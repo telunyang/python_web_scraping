{
 "cells": [
  {
   "cell_type": "code",
   "execution_count": 1,
   "metadata": {},
   "outputs": [
    {
     "name": "stdout",
     "output_type": "stream",
     "text": [
      "{'蘋果': 100, '橘子': 20, '水梨': 50}\n"
     ]
    }
   ],
   "source": [
    "# 初始化 dict {水果名稱: 價格}\n",
    "dict01 = {\"蘋果\": 100, \"橘子\": 20, \"水梨\": 50}\n",
    "print(dict01)"
   ]
  },
  {
   "cell_type": "code",
   "execution_count": 2,
   "metadata": {},
   "outputs": [
    {
     "name": "stdout",
     "output_type": "stream",
     "text": [
      "100\n"
     ]
    }
   ],
   "source": [
    "# 印出蘋果的價格\n",
    "print(dict01[\"蘋果\"])"
   ]
  },
  {
   "cell_type": "code",
   "execution_count": 3,
   "metadata": {},
   "outputs": [
    {
     "name": "stdout",
     "output_type": "stream",
     "text": [
      "30\n"
     ]
    }
   ],
   "source": [
    "# 修改橘子的價格\n",
    "dict01[\"橘子\"] = 30\n",
    "print(dict01[\"橘子\"])"
   ]
  },
  {
   "cell_type": "code",
   "execution_count": 4,
   "metadata": {},
   "outputs": [
    {
     "name": "stdout",
     "output_type": "stream",
     "text": [
      "{'蘋果': 100, '橘子': 30}\n"
     ]
    }
   ],
   "source": [
    "# 刪除 水梨\n",
    "del dict01[\"水梨\"]\n",
    "print(dict01)"
   ]
  },
  {
   "cell_type": "code",
   "execution_count": 5,
   "metadata": {},
   "outputs": [
    {
     "name": "stdout",
     "output_type": "stream",
     "text": [
      "蘋果 的價格是 100 元\n",
      "橘子 的價格是 30 元\n"
     ]
    }
   ],
   "source": [
    "'''格式化成字串來輸出'''\n",
    "\n",
    "# 1. 將所有 keys 轉成 list\n",
    "list_keys = list(dict01.keys())\n",
    "\n",
    "# 2. 將所有 values 轉成 list\n",
    "list_values = list(dict01.values())\n",
    "\n",
    "# 3. 使用迴圈來輸出格式化字串\n",
    "for i in range(len(list_keys)):\n",
    "    print(\"%s 的價格是 %d 元\"%( list_keys[i], list_values[i] ))"
   ]
  }
 ],
 "metadata": {
  "kernelspec": {
   "display_name": "Python 3",
   "language": "python",
   "name": "python3"
  },
  "language_info": {
   "codemirror_mode": {
    "name": "ipython",
    "version": 3
   },
   "file_extension": ".py",
   "mimetype": "text/x-python",
   "name": "python",
   "nbconvert_exporter": "python",
   "pygments_lexer": "ipython3",
   "version": "3.7.9"
  }
 },
 "nbformat": 4,
 "nbformat_minor": 4
}

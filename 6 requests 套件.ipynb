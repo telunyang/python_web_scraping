{
 "cells": [
  {
   "cell_type": "code",
   "execution_count": 1,
   "metadata": {},
   "outputs": [],
   "source": [
    "# 使用 requests 工具\n",
    "import requests\n",
    "\n",
    "# 使用 json 工具\n",
    "import json"
   ]
  },
  {
   "cell_type": "code",
   "execution_count": 2,
   "metadata": {},
   "outputs": [
    {
     "name": "stdout",
     "output_type": "stream",
     "text": [
      "200\n",
      "utf-8\n",
      "{\n",
      "  \"args\": {}, \n",
      "  \"headers\": {\n",
      "    \"Accept\": \"*/*\", \n",
      "    \"Accept-Encoding\": \"gzip, deflate\", \n",
      "    \"Host\": \"httpbin.org\", \n",
      "    \"User-Agent\": \"python-requests/2.31.0\", \n",
      "    \"X-Amzn-Trace-Id\": \"Root=1-64dc687f-3902a5be368c7ac34900916b\"\n",
      "  }, \n",
      "  \"origin\": \"140.122.20.236\", \n",
      "  \"url\": \"https://httpbin.org/get\"\n",
      "}\n",
      "\n"
     ]
    }
   ],
   "source": [
    "# 使用 GET 方式下載普通網頁\n",
    "res = requests.get('https://httpbin.org/get')\n",
    "\n",
    "# 伺服器回應的狀態碼\n",
    "# 參考網頁: https://reurl.cc/2DRpan\n",
    "print(res.status_code)\n",
    "\n",
    "# 回傳資料的編碼\n",
    "print(res.encoding)\n",
    "\n",
    "# 指定回傳資料的編碼\n",
    "# response.encoding = 'utf-8'\n",
    "\n",
    "# 輸出網頁 HTML 原始碼\n",
    "print(res.text)"
   ]
  },
  {
   "cell_type": "code",
   "execution_count": 3,
   "metadata": {},
   "outputs": [
    {
     "name": "stdout",
     "output_type": "stream",
     "text": [
      "https://httpbin.org/get?key1=value1&key2=value2\n",
      "{\n",
      "  \"args\": {\n",
      "    \"key1\": \"value1\", \n",
      "    \"key2\": \"value2\"\n",
      "  }, \n",
      "  \"headers\": {\n",
      "    \"Accept\": \"*/*\", \n",
      "    \"Accept-Encoding\": \"gzip, deflate\", \n",
      "    \"Host\": \"httpbin.org\", \n",
      "    \"User-Agent\": \"python-requests/2.31.0\", \n",
      "    \"X-Amzn-Trace-Id\": \"Root=1-64dc6883-3c2d090876a92ea7283e3038\"\n",
      "  }, \n",
      "  \"origin\": \"140.122.20.236\", \n",
      "  \"url\": \"https://httpbin.org/get?key1=value1&key2=value2\"\n",
      "}\n",
      "\n"
     ]
    }
   ],
   "source": [
    "# GET 方法的 query string\n",
    "my_params = {\n",
    "    'key1': 'value1', \n",
    "    'key2': 'value2'\n",
    "}\n",
    "\n",
    "# 將 query string 加入 GET 請求中\n",
    "res = requests.get('https://httpbin.org/get', params = my_params)\n",
    "\n",
    "# 觀察 URL\n",
    "print(res.url)\n",
    "\n",
    "# 輸出網頁 HTML 原始碼\n",
    "print(res.text)"
   ]
  },
  {
   "cell_type": "code",
   "execution_count": 4,
   "metadata": {},
   "outputs": [
    {
     "name": "stdout",
     "output_type": "stream",
     "text": [
      "{\n",
      "  \"args\": {}, \n",
      "  \"data\": \"\", \n",
      "  \"files\": {}, \n",
      "  \"form\": {\n",
      "    \"key1\": \"value1\", \n",
      "    \"key2\": \"value2\"\n",
      "  }, \n",
      "  \"headers\": {\n",
      "    \"Accept\": \"*/*\", \n",
      "    \"Accept-Encoding\": \"gzip, deflate\", \n",
      "    \"Content-Length\": \"23\", \n",
      "    \"Content-Type\": \"application/x-www-form-urlencoded\", \n",
      "    \"Host\": \"httpbin.org\", \n",
      "    \"User-Agent\": \"python-requests/2.31.0\", \n",
      "    \"X-Amzn-Trace-Id\": \"Root=1-64dc6889-60caff22551dca5b110c2945\"\n",
      "  }, \n",
      "  \"json\": null, \n",
      "  \"origin\": \"140.122.20.236\", \n",
      "  \"url\": \"https://httpbin.org/post\"\n",
      "}\n",
      "\n"
     ]
    }
   ],
   "source": [
    "# POST 方法的 form data\n",
    "my_data = {\n",
    "    'key1': 'value1', \n",
    "    'key2': 'value2'\n",
    "}\n",
    "\n",
    "# 將 form data 加入 POST 請求中\n",
    "res = requests.post('https://httpbin.org/post', data = my_data)\n",
    "\n",
    "# 輸出網頁 HTML 原始碼\n",
    "print(res.text)"
   ]
  },
  {
   "cell_type": "code",
   "execution_count": null,
   "metadata": {},
   "outputs": [],
   "source": [
    "# 要上傳的檔案 (變數名稱為 my_filename)\n",
    "my_files = {\n",
    "    'my_filename': open('turingcerts.jpg', 'rb')\n",
    "}\n",
    "\n",
    "# 將檔案加入 POST 請求中\n",
    "res = requests.post('https://httpbin.org/post', files = my_files)\n",
    "\n",
    "# 輸出網頁 HTML 原始碼\n",
    "print(res.text)"
   ]
  },
  {
   "cell_type": "code",
   "execution_count": 5,
   "metadata": {},
   "outputs": [
    {
     "name": "stdout",
     "output_type": "stream",
     "text": [
      "{\n",
      "  \"args\": {}, \n",
      "  \"headers\": {\n",
      "    \"Accept\": \"*/*\", \n",
      "    \"Accept-Encoding\": \"gzip, deflate\", \n",
      "    \"Host\": \"httpbin.org\", \n",
      "    \"User-Agent\": \"Mozilla/5.0 (Windows NT 10.0; Win64; x64) AppleWebKit/537.36 (KHTML, like Gecko) Chrome/99.0.4844.82 Safari/537.36\", \n",
      "    \"X-Amzn-Trace-Id\": \"Root=1-64dc68c0-3bc57af852a5443027180886\"\n",
      "  }, \n",
      "  \"origin\": \"140.122.20.236\", \n",
      "  \"url\": \"https://httpbin.org/get\"\n",
      "}\n",
      "\n"
     ]
    }
   ],
   "source": [
    "# 自訂標頭\n",
    "my_headers = {\n",
    "    'user-agent': 'Mozilla/5.0 (Windows NT 10.0; Win64; x64) AppleWebKit/537.36 (KHTML, like Gecko) Chrome/99.0.4844.82 Safari/537.36'\n",
    "}\n",
    "\n",
    "# 將自訂標頭加入 GET 請求中\n",
    "res = requests.get('https://httpbin.org/get', headers = my_headers)\n",
    "\n",
    "# 輸出網頁 HTML 原始碼\n",
    "print(res.text)"
   ]
  },
  {
   "cell_type": "code",
   "execution_count": 6,
   "metadata": {},
   "outputs": [
    {
     "name": "stdout",
     "output_type": "stream",
     "text": [
      "{\n",
      "  \"args\": {}, \n",
      "  \"headers\": {\n",
      "    \"Accept\": \"*/*\", \n",
      "    \"Accept-Encoding\": \"gzip, deflate\", \n",
      "    \"Cookie\": \"first_cookie=hello; second_cookie=world\", \n",
      "    \"Host\": \"httpbin.org\", \n",
      "    \"User-Agent\": \"python-requests/2.31.0\", \n",
      "    \"X-Amzn-Trace-Id\": \"Root=1-64dc6910-511f5d7226bf28a32fe89197\"\n",
      "  }, \n",
      "  \"origin\": \"140.122.20.236\", \n",
      "  \"url\": \"https://httpbin.org/get\"\n",
      "}\n",
      "\n"
     ]
    }
   ],
   "source": [
    "# 自訂 cookie 格式\n",
    "my_cookies = {\n",
    "    \"first_cookie\": \"hello\",\n",
    "    \"second_cookie\": \"world\"\n",
    "}\n",
    "\n",
    "# 將 cookie 加入 GET 請求\n",
    "res = requests.get('https://httpbin.org/get', cookies = my_cookies)\n",
    "\n",
    "# 輸出網頁 HTML 原始碼\n",
    "print(res.text)"
   ]
  },
  {
   "cell_type": "code",
   "execution_count": 7,
   "metadata": {},
   "outputs": [
    {
     "name": "stdout",
     "output_type": "stream",
     "text": [
      "Success\n",
      "1700\n",
      "1\n",
      "==================================================\n",
      "Id: 664\n",
      "Name: Aunt Stella 詩特莉\n",
      "Address: 臺北市大安區忠孝東路三段300號B3\n",
      "Latitude: 25.041212\n",
      "Longitude: 121.543057\n",
      "==================================================\n",
      "Id: 236\n",
      "Name: AW Cafe Wine Bistro\n",
      "Address: 臺北市信義區信義路四段115-2號\n",
      "Latitude: 25.033276\n",
      "Longitude: 121.557959\n",
      "==================================================\n",
      "Id: 1581\n",
      "Name: BaganHood 蔬食餐酒館\n",
      "Address: 臺北市信義區忠孝東路四段553巷46弄11號\n",
      "Latitude: 25.04434002\n",
      "Longitude: 121.56349763\n",
      "==================================================\n",
      "Id: 1119\n",
      "Name: Camo咖啡\n",
      "Address: 臺北市大安區和平東路一段129號\n",
      "Latitude: 25.027393\n",
      "Longitude: 121.528641\n",
      "==================================================\n",
      "Id: 652\n",
      "Name: Capricciosa卡布里喬莎(天母SOGO店)\n",
      "Address: 臺北市士林區中山北路六段77號8F\n",
      "Latitude: 25.105007\n",
      "Longitude: 121.524278\n",
      "==================================================\n",
      "Id: 1574\n",
      "Name: Chao・炒炒蔬食熱炒\n",
      "Address: 臺北市大安區大安路一段52巷21號\n",
      "Latitude: 25.04331252\n",
      "Longitude: 121.5451473\n",
      "==================================================\n"
     ]
    }
   ],
   "source": [
    "# 參考網址: https://greenlife.epa.gov.tw/categories/restaurant\n",
    "# 預設連結 https://greenliving.epa.gov.tw/newPublic/APIs/Restaurant4\n",
    "# 分頁連結 https://greenliving.epa.gov.tw/newPublic/APIs/Restaurant4/1\n",
    "\n",
    "# 請求網址\n",
    "url = 'https://greenliving.epa.gov.tw/newPublic/APIs/Restaurant4/1'\n",
    "res = requests.get(url)\n",
    "\n",
    "# 將 json 轉成物件\n",
    "obj = json.loads(res.text) # 或使用 obj = res.json()\n",
    "\n",
    "# 輸出對應節點的文字\n",
    "print(obj['Result'])\n",
    "print(obj['RowsCount'])\n",
    "print(obj['PageIndex'])\n",
    "\n",
    "print(\"=\" * 50)\n",
    "\n",
    "# 輸出部分節點的文字\n",
    "for o in obj['Detail']:\n",
    "    if o['Latitude'] == 0.0 or o['Longitude'] == 0.0: continue\n",
    "    print(f\"Id: {o['Id']}\")\n",
    "    print(f\"Name: {o['Name']}\")\n",
    "    print(f\"Address: {o['Address']}\")\n",
    "    print(f\"Latitude: {o['Latitude']}\")\n",
    "    print(f\"Longitude: {o['Longitude']}\")\n",
    "    print(\"=\" * 50)"
   ]
  }
 ],
 "metadata": {
  "kernelspec": {
   "display_name": "Python 3 (ipykernel)",
   "language": "python",
   "name": "python3"
  },
  "language_info": {
   "codemirror_mode": {
    "name": "ipython",
    "version": 3
   },
   "file_extension": ".py",
   "mimetype": "text/x-python",
   "name": "python",
   "nbconvert_exporter": "python",
   "pygments_lexer": "ipython3",
   "version": "3.10.11"
  }
 },
 "nbformat": 4,
 "nbformat_minor": 4
}

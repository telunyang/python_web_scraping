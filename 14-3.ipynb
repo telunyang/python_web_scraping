{
 "cells": [
  {
   "cell_type": "code",
   "execution_count": null,
   "metadata": {},
   "outputs": [],
   "source": [
    "# 匯入相關套件\n",
    "from selenium import webdriver\n",
    "from time import sleep\n",
    "\n",
    "'''\n",
    "selenium 啓動 Chrome 的進階配置參數\n",
    "參考網址：https://stackoverflow.max-everyday.com/2019/12/selenium-chrome-options/\n",
    "'''\n",
    "# 啟動瀏覽器工具的選項\n",
    "options = webdriver.ChromeOptions()\n",
    "# options.add_argument(\"--headless\")              #不開啟實體瀏覽器背景執行\n",
    "options.add_argument(\"--start-maximized\")         #最大化視窗\n",
    "options.add_argument(\"--incognito\")               #開啟無痕模式\n",
    "options.add_argument(\"--disable-popup-blocking \") #禁用彈出攔截\n",
    "\n",
    "# 使用 Chrome 的 WebDriver\n",
    "driver = webdriver.Chrome(options = options)\n",
    "\n",
    "# 開啟 數位時代 首頁\n",
    "driver.get(\"https://www.bnext.com.tw/\")\n",
    "\n",
    "# 取得檢視原始碼的內容\n",
    "html = driver.page_source\n",
    "\n",
    "# 印出 html\n",
    "print(html)\n",
    "\n",
    "# 關閉瀏覽器\n",
    "driver.quit()"
   ]
  }
 ],
 "metadata": {
  "kernelspec": {
   "display_name": "Python 3",
   "language": "python",
   "name": "python3"
  },
  "language_info": {
   "codemirror_mode": {
    "name": "ipython",
    "version": 3
   },
   "file_extension": ".py",
   "mimetype": "text/x-python",
   "name": "python",
   "nbconvert_exporter": "python",
   "pygments_lexer": "ipython3",
   "version": "3.7.9"
  }
 },
 "nbformat": 4,
 "nbformat_minor": 4
}

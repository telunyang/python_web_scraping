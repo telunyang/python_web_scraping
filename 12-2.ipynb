{
 "cells": [
  {
   "cell_type": "code",
   "execution_count": 1,
   "metadata": {},
   "outputs": [],
   "source": [
    "# 匯入套件\n",
    "from bs4 import BeautifulSoup\n",
    "import requests"
   ]
  },
  {
   "cell_type": "code",
   "execution_count": 2,
   "metadata": {},
   "outputs": [],
   "source": [
    "# 取得新聞列表\n",
    "url = \"https://www.iiiedu.org.tw/category/news/\" \n",
    "\n",
    "# 用 requests 的 get 方法把網頁抓下來\n",
    "response = requests.get(url) \n",
    "\n",
    "# 指定 lxml 作為解析器\n",
    "soup = BeautifulSoup(response.text, \"lxml\") "
   ]
  },
  {
   "cell_type": "code",
   "execution_count": 3,
   "metadata": {},
   "outputs": [
    {
     "name": "stdout",
     "output_type": "stream",
     "text": [
      "台南AI人才培訓  深耕在地產業\n",
      "解決科技人才斷層 經濟部工業局攜手各界響應 2020 SEMICON Taiwan攜手人才循環大聯盟培育高科技人才\n",
      "資策會協辦全國臨床診療技能競賽 虛擬診療訓練系統 助疫情期間培訓不中斷\n",
      "台南AI培訓  跨域學習獲大廠聘用\n",
      "網站維護通知\n",
      "2020 台北遊戲開發者論壇熱鬧登場！ 與Twitch官方首度直播合作，精彩演講線上看\n",
      "資策會聯手彰化縣推科技反毒！新科技反毒行動巡迴車開跑\n",
      "宅生活發威！VR虛擬博物館為疫情寒冬帶來正能量\n",
      "新冠擋不了! 跨國怎麼學AI? 研華科技與資策會共辦「臺泰AI學院」\n",
      "全民防疫E起來 臺灣智慧學習產業鏈不缺席\n"
     ]
    }
   ],
   "source": [
    "# 取得 a 的文字\n",
    "for a in soup.select('article div.entry-content header.entry-header h2.entry-title a'):\n",
    "    print(a.get_text())"
   ]
  }
 ],
 "metadata": {
  "kernelspec": {
   "display_name": "Python 3",
   "language": "python",
   "name": "python3"
  },
  "language_info": {
   "codemirror_mode": {
    "name": "ipython",
    "version": 3
   },
   "file_extension": ".py",
   "mimetype": "text/x-python",
   "name": "python",
   "nbconvert_exporter": "python",
   "pygments_lexer": "ipython3",
   "version": "3.8.8"
  }
 },
 "nbformat": 4,
 "nbformat_minor": 4
}

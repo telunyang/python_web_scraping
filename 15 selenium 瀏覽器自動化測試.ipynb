{
 "cells": [
  {
   "cell_type": "markdown",
   "metadata": {},
   "source": [
    "# 匯入自動測試工具相關套件"
   ]
  },
  {
   "cell_type": "code",
   "execution_count": null,
   "metadata": {},
   "outputs": [],
   "source": [
    "'''\n",
    "匯入套件\n",
    "'''\n",
    "# 操作 browser 的 API\n",
    "from selenium.webdriver.chrome.service import Service\n",
    "from selenium import webdriver\n",
    "\n",
    "# 處理逾時例外的工具\n",
    "from selenium.common.exceptions import TimeoutException\n",
    "\n",
    "# 面對動態網頁，等待某個元素出現的工具，通常與 exptected_conditions 搭配\n",
    "from selenium.webdriver.support.ui import WebDriverWait\n",
    "\n",
    "# 搭配 WebDriverWait 使用，對元素狀態的一種期待條件，若條件發生，則等待結束，往下一行執行\n",
    "from selenium.webdriver.support import expected_conditions as EC\n",
    "\n",
    "# 期待元素出現要透過什麼方式指定，通常與 EC、WebDriverWait 一起使用\n",
    "from selenium.webdriver.common.by import By\n",
    "\n",
    "# 強制等待 (執行期間休息一下)\n",
    "from time import sleep\n",
    "\n",
    "# 整理 json 使用的工具\n",
    "import json\n",
    "\n",
    "# 執行 command 的時候用的\n",
    "import os\n",
    "\n",
    "'''\n",
    "selenium 啓動 Chrome 的進階配置參數\n",
    "參考網址：https://stackoverflow.max-everyday.com/2019/12/selenium-chrome-options/\n",
    "'''\n",
    "# 啟動瀏覽器工具的選項\n",
    "my_options = webdriver.ChromeOptions()\n",
    "# my_options.add_argument(\"--headless\")                #不開啟實體瀏覽器背景執行\n",
    "my_options.add_argument(\"--start-maximized\")         #最大化視窗\n",
    "my_options.add_argument(\"--incognito\")               #開啟無痕模式\n",
    "my_options.add_argument(\"--disable-popup-blocking\") #禁用彈出攔截\n",
    "my_options.add_argument(\"--disable-notifications\")  #取消 chrome 推播通知\n",
    "my_options.add_argument(\"--lang=zh-TW\")  #設定為正體中文\n",
    "\n",
    "\n",
    "# 使用 Chrome 的 WebDriver\n",
    "my_service = Service(executable_path=\"./chromedriver.exe\")\n",
    "driver = webdriver.Chrome(\n",
    "    options = my_options,\n",
    "    service = my_service\n",
    ")"
   ]
  },
  {
   "cell_type": "markdown",
   "metadata": {},
   "source": [
    "# 在瀏覽器中執行自訂 JavaScript 程式"
   ]
  },
  {
   "cell_type": "code",
   "execution_count": null,
   "metadata": {},
   "outputs": [],
   "source": [
    "# 開啟網頁\n",
    "driver.get(\"http://crptransfer.moe.gov.tw/\")\n",
    "\n",
    "# 跳出 alert 視窗 (在 chrome 裡面執行 javascript 語法)\n",
    "driver.execute_script(\"window.alert('這是我們自訂的彈跳視窗');\")\n",
    "\n",
    "# 等個幾秒\n",
    "sleep(3)\n",
    "\n",
    "# 點選彈出裡面的確定按鈕\n",
    "driver.switch_to.alert.accept()"
   ]
  },
  {
   "cell_type": "markdown",
   "metadata": {},
   "source": [
    "# 輸入文字，送出表單"
   ]
  },
  {
   "cell_type": "code",
   "execution_count": null,
   "metadata": {},
   "outputs": [],
   "source": [
    "# 開啟網頁\n",
    "driver.get(\"http://crptransfer.moe.gov.tw/\")\n",
    "\n",
    "# 尋找網頁中的搜尋框\n",
    "inputElement = driver.find_element(By.CSS_SELECTOR, 'input#SN')\n",
    "\n",
    "# 在搜尋框中輸入文字\n",
    "inputElement.send_keys(\"人帥真好\")\n",
    "\n",
    "# 睡個幾秒\n",
    "sleep(2)\n",
    "\n",
    "# 送出搜尋\n",
    "inputElement.submit()\n",
    "\n",
    "# 搜尋結果的 CSS Selector\n",
    "cssSelector = \"body > table > tbody > tr:nth-child(1) > td > main > article > div > table > tbody > tr:nth-child(2) > td\"\n",
    "\n",
    "try:\n",
    "    # 等待網頁搜尋結果\n",
    "    WebDriverWait(driver, 10).until(\n",
    "        EC.presence_of_element_located(\n",
    "            (By.CSS_SELECTOR, cssSelector)\n",
    "        )\n",
    "    )\n",
    "    \n",
    "    # 取得第一頁搜尋結果\n",
    "    element = driver.find_element(By.CSS_SELECTOR, cssSelector)\n",
    "    \n",
    "    # 輸出想要爬取的文字\n",
    "    print(element.text) \n",
    "    print(element.get_attribute('innerText')) # 另一種寫法\n",
    "    \n",
    "    # 睡個幾秒\n",
    "    sleep(3)\n",
    "except TimeoutException:\n",
    "    print('等待逾時！')"
   ]
  },
  {
   "cell_type": "markdown",
   "metadata": {},
   "source": [
    "# 輸入文字，按下送出鈕"
   ]
  },
  {
   "cell_type": "code",
   "execution_count": null,
   "metadata": {},
   "outputs": [],
   "source": [
    "# 開啟網頁\n",
    "driver.get(\"https://www.104.com.tw/jobs/main/\")\n",
    "\n",
    "# 尋找網頁中的搜尋框\n",
    "inputElement = driver.find_element(By.CSS_SELECTOR, 'input#ikeyword')\n",
    "\n",
    "# 在搜尋框中輸入文字\n",
    "inputElement.send_keys(\"python\")\n",
    "\n",
    "# 睡個幾秒\n",
    "sleep(2)\n",
    "\n",
    "# 按鈕選擇器\n",
    "cssSelectorBtn = \"button.btn.btn-primary.js-formCheck\"\n",
    "\n",
    "try:\n",
    "    # 等待元素\n",
    "    WebDriverWait(driver, 10).until(\n",
    "        EC.presence_of_element_located(\n",
    "            (By.CSS_SELECTOR, cssSelectorBtn)\n",
    "        )\n",
    "    )\n",
    "    \n",
    "    # 取得按鈕元素\n",
    "    btn = driver.find_element(By.CSS_SELECTOR, cssSelectorBtn)\n",
    "    \n",
    "    # 按下按鈕\n",
    "    btn.click()\n",
    "    \n",
    "    # 睡個幾秒\n",
    "    sleep(3)\n",
    "except TimeoutException:\n",
    "    print('等待逾時！')"
   ]
  },
  {
   "cell_type": "markdown",
   "metadata": {},
   "source": [
    "# 關閉瀏覽器"
   ]
  },
  {
   "cell_type": "code",
   "execution_count": null,
   "metadata": {},
   "outputs": [],
   "source": [
    "# 關閉瀏覽器\n",
    "driver.quit()"
   ]
  }
 ],
 "metadata": {
  "kernelspec": {
   "display_name": "Python 3.9.12 ('base')",
   "language": "python",
   "name": "python3"
  },
  "language_info": {
   "codemirror_mode": {
    "name": "ipython",
    "version": 3
   },
   "file_extension": ".py",
   "mimetype": "text/x-python",
   "name": "python",
   "nbconvert_exporter": "python",
   "pygments_lexer": "ipython3",
   "version": "3.9.12"
  },
  "vscode": {
   "interpreter": {
    "hash": "585a938ec471c889bf0cce0aed741a99eaf47ca09c0fa8393793bc5bfe77ba11"
   }
  }
 },
 "nbformat": 4,
 "nbformat_minor": 4
}

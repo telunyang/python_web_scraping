{
 "cells": [
  {
   "cell_type": "code",
   "execution_count": null,
   "metadata": {},
   "outputs": [],
   "source": [
    "# 匯入套件\n",
    "import requests, json\n",
    "\n",
    "'''\n",
    "案例：鄉鎮天氣預報-台灣未來1週天氣預報\n",
    "\n",
    "說明頁面: https://opendata.cwb.gov.tw/dataset/statisticAll/F-D0047-091\n",
    "'''\n",
    "\n",
    "# 授權碼\n",
    "auth_code = \"\"\n",
    "\n",
    "response = requests.get(f\"https://opendata.cwb.gov.tw/fileapi/v1/opendataapi/F-D0047-091?Authorization={auth_code}&downloadType=WEB&format=JSON\")\n",
    "\n",
    "# 將 json 轉成物件\n",
    "obj = json.loads(response.text)\n",
    "\n",
    "# 印出每一個縣市的一週天氣\n",
    "for objLocation in obj[\"cwbopendata\"][\"dataset\"][\"locations\"][\"location\"]:\n",
    "    print(f\"=== 縣市名稱: {objLocation['locationName']}, lat: {objLocation['lat']}, lon: {objLocation['lon']} ===\")\n",
    "    for objWeatherElement in objLocation[\"weatherElement\"]:\n",
    "        # 選擇平均溫度來顯示資料\n",
    "        if objWeatherElement['elementName'] == 'T':\n",
    "            print(f\"{objWeatherElement['description']}\")\n",
    "            for objTime in objWeatherElement[\"time\"]:\n",
    "                print(f\"開始時間: {objTime['startTime']}, 結束時間: {objTime['endTime']}\")\n",
    "                print(f\"溫度: {objTime['elementValue']['measures']} {objTime['elementValue']['value']}\")"
   ]
  }
 ],
 "metadata": {
  "kernelspec": {
   "display_name": "Python 3 (ipykernel)",
   "language": "python",
   "name": "python3"
  },
  "language_info": {
   "codemirror_mode": {
    "name": "ipython",
    "version": 3
   },
   "file_extension": ".py",
   "mimetype": "text/x-python",
   "name": "python",
   "nbconvert_exporter": "python",
   "pygments_lexer": "ipython3",
   "version": "3.8.8"
  }
 },
 "nbformat": 4,
 "nbformat_minor": 4
}

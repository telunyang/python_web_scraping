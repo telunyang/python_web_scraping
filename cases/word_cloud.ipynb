{
 "cells": [
  {
   "cell_type": "code",
   "execution_count": null,
   "metadata": {},
   "outputs": [],
   "source": [
    "!pip install wordcloud"
   ]
  },
  {
   "cell_type": "code",
   "execution_count": null,
   "metadata": {},
   "outputs": [],
   "source": [
    "# 匯入套件\n",
    "from wordcloud import WordCloud, STOPWORDS, ImageColorGenerator\n",
    "from os import path\n",
    "from PIL import Image\n",
    "import matplotlib.pyplot as plt\n",
    "import numpy as np\n",
    "\n",
    "# 讀取文本\n",
    "text = open('text_source.txt', 'r', encoding='UTF-8').read()\n",
    "\n",
    "# 讀取圖片\n",
    "# d = path.dirname(__file__) # .py 格式的時候用這個\n",
    "d = path.abspath('') # .ipynb 格式的時候用這個\n",
    "alice_coloring = np.array(Image.open(path.join(d, \"./images/doraemon.png\")))\n",
    "image_colors = ImageColorGenerator(alice_coloring)\n",
    "\n",
    "# 設定字型路徑\n",
    "font = './fonts/msjh.ttc'\n",
    "\n",
    "# 建立詞雲\n",
    "wc = WordCloud(\n",
    "    background_color = \"white\", \n",
    "    font_path = font,  \n",
    "    max_font_size = 60, \n",
    "    random_state = 42,\n",
    "#     mask = alice_coloring,\n",
    "    margin = 1\n",
    ").generate(text)\n",
    "\n",
    "# 輸出圖片\n",
    "plt.imshow(wc)\n",
    "# plt.imshow(wc.recolor(color_func = image_colors), interpolation = \"bilinear\")\n",
    "plt.axis(\"off\")\n",
    "plt.title(\"Word Cloud\")\n",
    "plt.show()"
   ]
  },
  {
   "cell_type": "code",
   "execution_count": null,
   "metadata": {},
   "outputs": [],
   "source": []
  }
 ],
 "metadata": {
  "kernelspec": {
   "display_name": "Python 3",
   "language": "python",
   "name": "python3"
  },
  "language_info": {
   "codemirror_mode": {
    "name": "ipython",
    "version": 3
   },
   "file_extension": ".py",
   "mimetype": "text/x-python",
   "name": "python",
   "nbconvert_exporter": "python",
   "pygments_lexer": "ipython3",
   "version": "3.7.9"
  }
 },
 "nbformat": 4,
 "nbformat_minor": 4
}

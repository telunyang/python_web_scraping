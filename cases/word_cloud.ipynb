{
 "cells": [
  {
   "cell_type": "code",
   "execution_count": null,
   "metadata": {},
   "outputs": [],
   "source": [
    "# 安裝套件\n",
    "!pip install wordcloud"
   ]
  },
  {
   "cell_type": "code",
   "execution_count": null,
   "metadata": {},
   "outputs": [],
   "source": [
    "'''\n",
    "參考資料\n",
    "1. wordcloud\n",
    "    https://www.itread01.com/content/1553252314.html\n",
    "2. figure\n",
    "    https://blog.csdn.net/helunqu2017/article/details/78662877\n",
    "'''\n",
    "\n",
    "# 匯入套件\n",
    "from wordcloud import WordCloud, ImageColorGenerator\n",
    "from os import path\n",
    "from PIL import Image\n",
    "import matplotlib.pyplot as plt\n",
    "import numpy as np\n",
    "\n",
    "# 讀取文本\n",
    "text = open('text_source.txt', 'r', encoding='UTF-8').read()\n",
    "\n",
    "# 讀取圖片\n",
    "# d = path.dirname(__file__) # .py 格式的時候用這個\n",
    "d = path.abspath('') # .ipynb 格式的時候用這個\n",
    "doraemon = np.array(Image.open(path.join(d, \"./images/doraemon.png\")))\n",
    "image_colors = ImageColorGenerator(doraemon)\n",
    "\n",
    "# 設定字型路徑\n",
    "font = './fonts/msjh.ttc'\n",
    "\n",
    "# 建立詞雲\n",
    "wc = WordCloud(\n",
    "    background_color = \"white\", \n",
    "    font_path = font, \n",
    "    width = 1024, \n",
    "    height = 768, \n",
    "#     mask = doraemon,\n",
    "#     scale = 1,\n",
    "    margin = 1).generate(text)\n",
    "\n",
    "# 儲存圖片\n",
    "wc.to_file('wordcloud.png')\n",
    "\n",
    "# 圖片大小 (單位: 英吋，參數: 寬, 高)\n",
    "plt.figure(figsize=(16, 24))\n",
    "\n",
    "# 圖片顯示設定\n",
    "plt.imshow(wc)\n",
    "# plt.imshow(wc.recolor(color_func = image_colors), interpolation = \"bilinear\")\n",
    "\n",
    "# 是否顯示軸線\n",
    "# plt.axis(\"off\")\n",
    "\n",
    "# 圖片標題\n",
    "# plt.title(\"Word Cloud\")\n",
    "\n",
    "# 顯示圖片\n",
    "plt.show()"
   ]
  }
 ],
 "metadata": {
  "kernelspec": {
   "display_name": "Python 3",
   "language": "python",
   "name": "python3"
  },
  "language_info": {
   "codemirror_mode": {
    "name": "ipython",
    "version": 3
   },
   "file_extension": ".py",
   "mimetype": "text/x-python",
   "name": "python",
   "nbconvert_exporter": "python",
   "pygments_lexer": "ipython3",
   "version": "3.7.9"
  }
 },
 "nbformat": 4,
 "nbformat_minor": 4
}

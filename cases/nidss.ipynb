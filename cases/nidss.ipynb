{
 "cells": [
  {
   "cell_type": "code",
   "execution_count": 1,
   "id": "d53b0f01-a3a3-4c6d-b5de-57e1398aef8b",
   "metadata": {},
   "outputs": [],
   "source": [
    "import os\n",
    "from time import sleep\n",
    "from selenium import webdriver\n",
    "from selenium.webdriver.common.by import By"
   ]
  },
  {
   "cell_type": "code",
   "execution_count": 2,
   "id": "0ecf9320-4070-42cd-b736-48eaf27af845",
   "metadata": {},
   "outputs": [],
   "source": [
    "# 新增資料夾\n",
    "folderName = sheetName = 'nidss'\n",
    "folderPath = f'./{folderName}'\n",
    "if not os.path.exists(folderPath):\n",
    "    os.makedirs(folderPath)\n",
    "\n",
    "# 設定下載檔案的路徑 (覆寫 Chrome 預設下載路徑)\n",
    "fullDownloadPath = os.getcwd() + '\\\\' + folderName\n",
    "\n",
    "# Chrome 設定\n",
    "my_options = webdriver.ChromeOptions()\n",
    "my_options.add_argument(\"--start-maximized\")\n",
    "my_options.add_experimental_option(\"prefs\", {\n",
    "    \"download.default_directory\": fullDownloadPath,\n",
    "    \"download.prompt_for_download\": False,\n",
    "    \"download.directory_upgrade\": True,\n",
    "    \"safebrowsing_for_trusted_sources_enabled\": False,\n",
    "    \"safebrowsing.enabled\": False,\n",
    "    \"plugins.always_open_pdf_externally\": True\n",
    "})\n",
    "\n",
    "# 開啟自動化工具(瀏覽器)\n",
    "driver = webdriver.Chrome(options = my_options)"
   ]
  },
  {
   "cell_type": "code",
   "execution_count": 3,
   "id": "ea960884-aecf-4cdf-a2f6-2fb0f7fafaf1",
   "metadata": {},
   "outputs": [],
   "source": [
    "# 全國 嚴重特殊傳染性肺炎(112/3/19以前病例定義版本)\n",
    "driver.get(\"https://nidss.cdc.gov.tw/nndss/disease?id=19CoV\")"
   ]
  },
  {
   "cell_type": "code",
   "execution_count": 4,
   "id": "e7cf8caf-29af-43eb-a2d6-4d3fd0952a4c",
   "metadata": {},
   "outputs": [],
   "source": [
    "# 點選下載圖示\n",
    "driver.find_element(By.CSS_SELECTOR, \"g.highcharts-exporting-group\").click()\n",
    "\n",
    "# 等待 2 秒\n",
    "sleep(2)\n",
    "\n",
    "# 按下 Download CSV，會自動下載到覆寫後的 Chrome 下載路徑\n",
    "driver.find_elements(By.CSS_SELECTOR, \"li.highcharts-menu-item\")[6].click()"
   ]
  },
  {
   "cell_type": "code",
   "execution_count": 5,
   "id": "d91faa21-e533-4489-9363-0014adb0f083",
   "metadata": {},
   "outputs": [],
   "source": [
    "# 關閉瀏覽器\n",
    "driver.quit()"
   ]
  }
 ],
 "metadata": {
  "kernelspec": {
   "display_name": "Python3@dip",
   "language": "python",
   "name": "dip"
  },
  "language_info": {
   "codemirror_mode": {
    "name": "ipython",
    "version": 3
   },
   "file_extension": ".py",
   "mimetype": "text/x-python",
   "name": "python",
   "nbconvert_exporter": "python",
   "pygments_lexer": "ipython3",
   "version": "3.10.13"
  }
 },
 "nbformat": 4,
 "nbformat_minor": 5
}

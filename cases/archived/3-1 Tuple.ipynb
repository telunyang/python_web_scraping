{
 "cells": [
  {
   "cell_type": "markdown",
   "metadata": {},
   "source": [
    "### 補充: Tuple 的用法\n",
    "\n",
    "#### 特點\n",
    "- 有序號、索引概念\n",
    "- 允許重覆\n",
    "- 不可更改組的資料\n",
    "- 使用 for 迴圈讀出一筆筆的資料"
   ]
  },
  {
   "cell_type": "code",
   "execution_count": null,
   "metadata": {},
   "outputs": [],
   "source": [
    "# Tuple 初始化: 第一種\n",
    "myTuple01 = (\"人\", \"帥\", \"得體\")\n",
    "print(myTuple01)\n",
    "\n",
    "# Tuple 初始化: 第二種\n",
    "myTuple02 = \"哆\", \"啦\", \"A\", \"夢\"\n",
    "print(myTuple02)"
   ]
  },
  {
   "cell_type": "code",
   "execution_count": null,
   "metadata": {},
   "outputs": [],
   "source": [
    "# 透過指定索引輸出值\n",
    "print( myTuple01[1] )\n",
    "print( myTuple02[1] )"
   ]
  },
  {
   "cell_type": "code",
   "execution_count": null,
   "metadata": {},
   "outputs": [],
   "source": [
    "# 複數變數修改值\n",
    "a = 10\n",
    "b = 20\n",
    "print(\"交換前: a = {}, b = {}\".format(a, b))\n",
    "a, b = b, a\n",
    "print(\"交換後: a = {}, b = {}\".format(a, b))"
   ]
  },
  {
   "cell_type": "code",
   "execution_count": null,
   "metadata": {},
   "outputs": [],
   "source": [
    "# list 可以修改指定索引的值\n",
    "myList = [\"人\", \"帥\", \"任性\"]\n",
    "myList[2] = \"真好\"\n",
    "print(myList)\n",
    "\n",
    "# tuple 不可以修改指定索引的值\n",
    "myTuple = (\"人\", \"帥\", \"任性\")\n",
    "myTuple[2] = \"真好\"\n",
    "print(myTuple)"
   ]
  },
  {
   "cell_type": "code",
   "execution_count": null,
   "metadata": {},
   "outputs": [],
   "source": [
    "# 用 for 迴圈逐一輸出資料\n",
    "for value in myTuple01:\n",
    "    print(value)"
   ]
  },
  {
   "cell_type": "code",
   "execution_count": null,
   "metadata": {},
   "outputs": [],
   "source": [
    "# 用 len 計算 tuple 資料個數\n",
    "print( len(myTuple02) )"
   ]
  },
  {
   "cell_type": "code",
   "execution_count": null,
   "metadata": {},
   "outputs": [],
   "source": [
    "# 因為無法修改 tuple 的資料，所以也無法指定索引進行刪除\n",
    "del myTuple01[1]\n",
    "print(myTuple01)"
   ]
  },
  {
   "cell_type": "code",
   "execution_count": null,
   "metadata": {},
   "outputs": [],
   "source": [
    "# 只能從記憶體刪除整個 tuple 變數\n",
    "del myTuple01\n",
    "print(myTuple01)"
   ]
  }
 ],
 "metadata": {
  "kernelspec": {
   "display_name": "Python 3 (ipykernel)",
   "language": "python",
   "name": "python3"
  },
  "language_info": {
   "codemirror_mode": {
    "name": "ipython",
    "version": 3
   },
   "file_extension": ".py",
   "mimetype": "text/x-python",
   "name": "python",
   "nbconvert_exporter": "python",
   "pygments_lexer": "ipython3",
   "version": "3.9.13"
  }
 },
 "nbformat": 4,
 "nbformat_minor": 4
}

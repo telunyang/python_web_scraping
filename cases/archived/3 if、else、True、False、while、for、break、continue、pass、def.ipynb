{
 "cells": [
  {
   "cell_type": "code",
   "execution_count": null,
   "metadata": {},
   "outputs": [],
   "source": [
    "'''\n",
    "Python 基礎教學\n",
    "https://www.runoob.com/python/python-tutorial.html\n",
    "'''"
   ]
  },
  {
   "cell_type": "markdown",
   "metadata": {},
   "source": [
    "# if ... else; if ... elif ... else; True 和 False"
   ]
  },
  {
   "cell_type": "code",
   "execution_count": null,
   "metadata": {},
   "outputs": [],
   "source": [
    "# if 敘述\n",
    "num = 10\n",
    "\n",
    "'''\n",
    "可以用以下符號來進行條件判斷\n",
    "== (等於)\n",
    "> (大於)\n",
    ">= (大於等於)\n",
    "< (小於)\n",
    "<= (小於等於)\n",
    "!= (不等於)\n",
    "'''\n",
    "if num > 5:\n",
    "    print(\"num 大於 5\")"
   ]
  },
  {
   "cell_type": "code",
   "execution_count": null,
   "metadata": {},
   "outputs": [],
   "source": [
    "# if else 敘述\n",
    "name = 'apple'\n",
    "\n",
    "if name == 'apple':\n",
    "    print('名稱是 apple')\n",
    "else:\n",
    "    print(\"名稱不是 apple\")"
   ]
  },
  {
   "cell_type": "code",
   "execution_count": null,
   "metadata": {},
   "outputs": [],
   "source": [
    "# if elif else\n",
    "name = 'darren'\n",
    "\n",
    "if name == \"alex\":\n",
    "    print(\"名稱: alex\")\n",
    "elif name == \"bill\":\n",
    "    print(\"名稱: bill\")\n",
    "elif name == \"carl\":\n",
    "    print(\"名稱: carl\")\n",
    "else:\n",
    "    print(\"Not found\")"
   ]
  },
  {
   "cell_type": "code",
   "execution_count": null,
   "metadata": {},
   "outputs": [],
   "source": [
    "# 補充: True (真) 和 False (假、偽)\n",
    "is_available = True\n",
    "\n",
    "if is_available == True:\n",
    "    print(\"真\")\n",
    "else:\n",
    "    print(\"假\")\n",
    "    \n",
    "# 也可以不用加「 == True」\n",
    "if is_available:\n",
    "    print(\"真\")\n",
    "else:\n",
    "    print(\"假\")"
   ]
  },
  {
   "cell_type": "markdown",
   "metadata": {},
   "source": [
    "---\n",
    "# while; for"
   ]
  },
  {
   "cell_type": "code",
   "execution_count": null,
   "metadata": {},
   "outputs": [],
   "source": [
    "# while 迴圈\n",
    "count = 1\n",
    "while count <= 5:\n",
    "    print(count, end=\"\")\n",
    "    count = count + 1  # 或是寫成 count += 1"
   ]
  },
  {
   "cell_type": "code",
   "execution_count": null,
   "metadata": {},
   "outputs": [],
   "source": [
    "# for 迴圈 01\n",
    "'''\n",
    "用法\n",
    "range(n, m-1)\n",
    "\n",
    "說明\n",
    "會走訪 n 到 m-1 的數字\n",
    "'''\n",
    "for i in range(5, 8):\n",
    "    print(i, end = \",\")"
   ]
  },
  {
   "cell_type": "code",
   "execution_count": null,
   "metadata": {},
   "outputs": [],
   "source": [
    "# for 迴圈 02\n",
    "'''\n",
    "用法\n",
    "range(n, m-1, step)\n",
    "\n",
    "說明\n",
    "以每 step 為間距，走訪 n 到 m-1 的數字\n",
    "'''\n",
    "for i in range(5, 20, 2):\n",
    "    print(i, end = \",\")"
   ]
  },
  {
   "cell_type": "markdown",
   "metadata": {},
   "source": [
    "---\n",
    "# break; continue; pass"
   ]
  },
  {
   "cell_type": "code",
   "execution_count": null,
   "metadata": {},
   "outputs": [],
   "source": [
    "# break\n",
    "'''\n",
    "說明\n",
    "當偵測到字母 t 時，就會強制結束迴圈\n",
    "'''\n",
    "for char in 'content':\n",
    "    if char == 't':\n",
    "        break\n",
    "    print(char, end=\"\")"
   ]
  },
  {
   "cell_type": "code",
   "execution_count": null,
   "metadata": {},
   "outputs": [],
   "source": [
    "# continue\n",
    "'''\n",
    "說明\n",
    "當偵測到字母 t 時，\n",
    "會跳過本次迴圈剩下的程式碼 print(char)，\n",
    "但不會結束迴圈，仍然會進入下一圈繼續執行\n",
    "'''\n",
    "for char in 'content':\n",
    "    if char == 't':\n",
    "        continue\n",
    "    print(char, end=\"\")"
   ]
  },
  {
   "cell_type": "code",
   "execution_count": null,
   "metadata": {},
   "outputs": [],
   "source": [
    "# pass\n",
    "'''\n",
    "說明\n",
    "當偵測到字母 t 時，會忽略該條件，繼續像正常迴圈一樣運行程序\n",
    "\n",
    "備註\n",
    "有時候寫 pass，是為了將某塊或某行列入 to-do\n",
    "'''\n",
    "for char in 'content':\n",
    "    if char == 't':\n",
    "        pass\n",
    "    print(char, end=\"\")"
   ]
  },
  {
   "cell_type": "markdown",
   "metadata": {},
   "source": [
    "---\n",
    "\n",
    "# def"
   ]
  },
  {
   "cell_type": "code",
   "execution_count": null,
   "metadata": {},
   "outputs": [],
   "source": [
    "'''\n",
    "函式 (其它程式語言常取名為 function)\n",
    "\n",
    "說明\n",
    "將經常使用的程式碼打包起來，變成一種模組，每執行一次函式，相當於把模組的程式碼全部執行過。\n",
    "\n",
    "更進階的用法，可以參考這裡:\n",
    "[1] [Python教學]5個必知的Python Function觀念整理\n",
    "\n",
    "'''\n",
    "\n",
    "'''不回傳 值'''\n",
    "\n",
    "# 定義函式\n",
    "def show_name():\n",
    "    print(\"Doraemon\")\n",
    "    \n",
    "# 執行函式\n",
    "show_name()"
   ]
  },
  {
   "cell_type": "code",
   "execution_count": null,
   "metadata": {},
   "outputs": [],
   "source": [
    "'''回傳 值'''\n",
    "\n",
    "# 定義函式\n",
    "def get_name():\n",
    "    name = \"Doraemon\"\n",
    "    return name\n",
    "    # 也可以寫成 return \"Doraemon\"\n",
    "    \n",
    "# 執行函式\n",
    "result = get_name()\n",
    "\n",
    "# 輸出回傳結果\n",
    "print(result)"
   ]
  },
  {
   "cell_type": "code",
   "execution_count": null,
   "metadata": {},
   "outputs": [],
   "source": [
    "'''傳遞變數'''\n",
    "\n",
    "# 定義函式\n",
    "def get_greeting(name):\n",
    "    return \"Hello, \" + name\n",
    "\n",
    "# 執行函式\n",
    "result = get_greeting(\"Darren\")\n",
    "\n",
    "# 輸出回傳結果\n",
    "print(result)"
   ]
  },
  {
   "cell_type": "code",
   "execution_count": null,
   "metadata": {},
   "outputs": [],
   "source": [
    "'''全域變數 & 區域變數'''\n",
    "\n",
    "# 全域變數\n",
    "name = \"Bill\"\n",
    "\n",
    "# 定義函式\n",
    "def set_name():\n",
    "    # 區域變數\n",
    "    name = \"Doraemon\"\n",
    "    \n",
    "# 執行函式\n",
    "set_name()\n",
    "\n",
    "# 輸出結果\n",
    "print(name)"
   ]
  },
  {
   "cell_type": "code",
   "execution_count": null,
   "metadata": {},
   "outputs": [],
   "source": [
    "'''全域變數 & 區域變數'''\n",
    "\n",
    "name = \"Bill\"\n",
    "\n",
    "# 定義函式\n",
    "def set_name():\n",
    "    '''\n",
    "    想在函式內部使用、修改外部變數的值，\n",
    "    必須在變數前加上 global 關鍵字，\n",
    "    但是不能在加上 global 的時候進行變數初始化 \n",
    "    '''\n",
    "    global name\n",
    "    name = \"Doraemon\"\n",
    "    \n",
    "# 執行函式\n",
    "set_name()\n",
    "\n",
    "# 輸出結果\n",
    "print(name)"
   ]
  }
 ],
 "metadata": {
  "kernelspec": {
   "display_name": "Python 3 (ipykernel)",
   "language": "python",
   "name": "python3"
  },
  "language_info": {
   "codemirror_mode": {
    "name": "ipython",
    "version": 3
   },
   "file_extension": ".py",
   "mimetype": "text/x-python",
   "name": "python",
   "nbconvert_exporter": "python",
   "pygments_lexer": "ipython3",
   "version": "3.9.13"
  }
 },
 "nbformat": 4,
 "nbformat_minor": 4
}

{
 "cells": [
  {
   "cell_type": "code",
   "execution_count": null,
   "metadata": {},
   "outputs": [],
   "source": [
    "!pip install flask"
   ]
  },
  {
   "cell_type": "code",
   "execution_count": 19,
   "metadata": {},
   "outputs": [
    {
     "name": "stdout",
     "output_type": "stream",
     "text": [
      "dict_items([('link', 'cccc'), ('id', 2)])\n",
      "(('link', 'cccc'), ('id', 2))\n",
      "dict_items([('link', 'bbbb'), ('id', 1)])\n",
      "(('link', 'bbbb'), ('id', 1))\n",
      "dict_items([('link', 'aaa'), ('id', 3)])\n",
      "(('link', 'aaa'), ('id', 3))\n",
      "dict_items([('link', 'cccc'), ('id', 2)])\n",
      "(('link', 'cccc'), ('id', 2))\n",
      "dict_items([('link', 'bbbb'), ('id', 1)])\n",
      "(('link', 'bbbb'), ('id', 1))\n",
      "=============================================\n",
      "(('link', 'aaa'), ('id', 3))\n",
      "{'link': 'aaa', 'id': 3}\n",
      "(('link', 'cccc'), ('id', 2))\n",
      "{'link': 'cccc', 'id': 2}\n",
      "(('link', 'bbbb'), ('id', 1))\n",
      "{'link': 'bbbb', 'id': 1}\n",
      "=============================================\n",
      "[{'link': 'aaa', 'id': 3}, {'link': 'cccc', 'id': 2}, {'link': 'bbbb', 'id': 1}]\n"
     ]
    }
   ],
   "source": [
    "listLineStickers = [\n",
    "    {\"link\": \"cccc\", \"id\": 2},\n",
    "    {\"link\": \"bbbb\", \"id\": 1},\n",
    "    {\"link\": \"aaa\", \"id\": 3},\n",
    "    {\"link\": \"cccc\", \"id\": 2},\n",
    "    {\"link\": \"bbbb\", \"id\": 1}\n",
    "]\n",
    "\n",
    "s = set()\n",
    "\n",
    "for obj in listLineStickers:\n",
    "    print(obj.items())\n",
    "    print(tuple(obj.items()))\n",
    "    s.add(tuple(obj.items()))\n",
    "\n",
    "print(\"=\" * 45)\n",
    "\n",
    "listResult = []\n",
    "\n",
    "for t in s:\n",
    "    print(t)\n",
    "    print(dict(t))\n",
    "    listResult.append(dict(t))\n",
    "    \n",
    "print(\"=\" * 45)\n",
    "\n",
    "print(listResult)"
   ]
  },
  {
   "cell_type": "code",
   "execution_count": 7,
   "metadata": {},
   "outputs": [
    {
     "name": "stdout",
     "output_type": "stream",
     "text": [
      "Hello World!\n",
      "ed076287532e86365e841e92bfc50d8c\n",
      "01e5447c5e164414ec3386ff46b0cca1\n"
     ]
    }
   ],
   "source": [
    "import hashlib\n",
    "\n",
    "# 建立雜湊值\n",
    "def _md5(string):\n",
    "    '''\n",
    "    說明：\n",
    "    建立雜湊機制\n",
    "\n",
    "    用法：\n",
    "    m = hashlib.md5()              # 建立 MD5 物件\n",
    "    str = 'yourValue'              # 建立想要雜湊的值\n",
    "    m.update(str.encode(\"utf-8\"))  # 更新 MD5 雜湊值\n",
    "    strHash = m.hexdigest()        # 取得 MD5 雜湊值\n",
    "    '''\n",
    "    m = hashlib.md5()\n",
    "    m.update(string.encode(\"utf-8\"))\n",
    "    strKey = m.hexdigest()\n",
    "    return strKey \n",
    "\n",
    "# 原始資料\n",
    "strOrigin = 'Hello World!'\n",
    "\n",
    "# 輸出原始資料\n",
    "print(strOrigin)\n",
    "\n",
    "# 用 md5 雜湊 strOrigin\n",
    "print( _md5(strOrigin) )\n",
    "\n",
    "# 突然有人把 strOrigin 改了\n",
    "strOrigin = 'Show me the money!'\n",
    "\n",
    "# 再次用 md5 雜湊改掉後的 strOrigin\n",
    "print( _md5(strOrigin) )"
   ]
  },
  {
   "cell_type": "code",
   "execution_count": 1,
   "metadata": {},
   "outputs": [
    {
     "name": "stdout",
     "output_type": "stream",
     "text": [
      "Collecting browsermob-proxy\n",
      "  Downloading browsermob-proxy-0.8.0.tar.gz (8.5 kB)\n",
      "Requirement already satisfied: requests>=2.9.1 in c:\\users\\owner\\anaconda3\\lib\\site-packages (from browsermob-proxy) (2.24.0)\n",
      "Requirement already satisfied: idna<3,>=2.5 in c:\\users\\owner\\anaconda3\\lib\\site-packages (from requests>=2.9.1->browsermob-proxy) (2.10)\n",
      "Requirement already satisfied: certifi>=2017.4.17 in c:\\users\\owner\\anaconda3\\lib\\site-packages (from requests>=2.9.1->browsermob-proxy) (2020.6.20)\n",
      "Requirement already satisfied: urllib3!=1.25.0,!=1.25.1,<1.26,>=1.21.1 in c:\\users\\owner\\anaconda3\\lib\\site-packages (from requests>=2.9.1->browsermob-proxy) (1.25.11)\n",
      "Requirement already satisfied: chardet<4,>=3.0.2 in c:\\users\\owner\\anaconda3\\lib\\site-packages (from requests>=2.9.1->browsermob-proxy) (3.0.4)\n",
      "Building wheels for collected packages: browsermob-proxy\n",
      "  Building wheel for browsermob-proxy (setup.py): started\n",
      "  Building wheel for browsermob-proxy (setup.py): finished with status 'done'\n",
      "  Created wheel for browsermob-proxy: filename=browsermob_proxy-0.8.0-py3-none-any.whl size=7818 sha256=af7d4e175c33dad986ce1cb41a4ed19c1665384d82524cce014d16d5bc310146\n",
      "  Stored in directory: c:\\users\\owner\\appdata\\local\\pip\\cache\\wheels\\82\\ae\\32\\3ef91408bde85dad08aace6ad44772604a01e1fb1ef7664493\n",
      "Successfully built browsermob-proxy\n",
      "Installing collected packages: browsermob-proxy\n",
      "Successfully installed browsermob-proxy-0.8.0\n"
     ]
    }
   ],
   "source": [
    "'''\n",
    "browsermob-proxy-2.1.5\n",
    "參考網址：https://github.com/lightbody/browsermob-proxy/releases\n",
    "'''\n",
    "!pip install browsermob-proxy"
   ]
  }
 ],
 "metadata": {
  "kernelspec": {
   "display_name": "Python 3",
   "language": "python",
   "name": "python3"
  },
  "language_info": {
   "codemirror_mode": {
    "name": "ipython",
    "version": 3
   },
   "file_extension": ".py",
   "mimetype": "text/x-python",
   "name": "python",
   "nbconvert_exporter": "python",
   "pygments_lexer": "ipython3",
   "version": "3.8.8"
  }
 },
 "nbformat": 4,
 "nbformat_minor": 4
}

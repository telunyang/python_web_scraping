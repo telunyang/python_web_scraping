{
 "cells": [
  {
   "cell_type": "code",
   "execution_count": 19,
   "metadata": {},
   "outputs": [
    {
     "name": "stdout",
     "output_type": "stream",
     "text": [
      "dict_items([('link', 'cccc'), ('id', 2)])\n",
      "(('link', 'cccc'), ('id', 2))\n",
      "dict_items([('link', 'bbbb'), ('id', 1)])\n",
      "(('link', 'bbbb'), ('id', 1))\n",
      "dict_items([('link', 'aaa'), ('id', 3)])\n",
      "(('link', 'aaa'), ('id', 3))\n",
      "dict_items([('link', 'cccc'), ('id', 2)])\n",
      "(('link', 'cccc'), ('id', 2))\n",
      "dict_items([('link', 'bbbb'), ('id', 1)])\n",
      "(('link', 'bbbb'), ('id', 1))\n",
      "=============================================\n",
      "(('link', 'aaa'), ('id', 3))\n",
      "{'link': 'aaa', 'id': 3}\n",
      "(('link', 'cccc'), ('id', 2))\n",
      "{'link': 'cccc', 'id': 2}\n",
      "(('link', 'bbbb'), ('id', 1))\n",
      "{'link': 'bbbb', 'id': 1}\n",
      "=============================================\n",
      "[{'link': 'aaa', 'id': 3}, {'link': 'cccc', 'id': 2}, {'link': 'bbbb', 'id': 1}]\n"
     ]
    }
   ],
   "source": [
    "listLineStickers = [\n",
    "    {\"link\": \"cccc\", \"id\": 2},\n",
    "    {\"link\": \"bbbb\", \"id\": 1},\n",
    "    {\"link\": \"aaa\", \"id\": 3},\n",
    "    {\"link\": \"cccc\", \"id\": 2},\n",
    "    {\"link\": \"bbbb\", \"id\": 1}\n",
    "]\n",
    "\n",
    "s = set()\n",
    "\n",
    "for obj in listLineStickers:\n",
    "    print(obj.items())\n",
    "    print(tuple(obj.items()))\n",
    "    s.add(tuple(obj.items()))\n",
    "\n",
    "print(\"=\" * 45)\n",
    "\n",
    "listResult = []\n",
    "\n",
    "for t in s:\n",
    "    print(t)\n",
    "    print(dict(t))\n",
    "    listResult.append(dict(t))\n",
    "    \n",
    "print(\"=\" * 45)\n",
    "\n",
    "print(listResult)"
   ]
  }
 ],
 "metadata": {
  "kernelspec": {
   "display_name": "Python 3",
   "language": "python",
   "name": "python3"
  },
  "language_info": {
   "codemirror_mode": {
    "name": "ipython",
    "version": 3
   },
   "file_extension": ".py",
   "mimetype": "text/x-python",
   "name": "python",
   "nbconvert_exporter": "python",
   "pygments_lexer": "ipython3",
   "version": "3.7.9"
  }
 },
 "nbformat": 4,
 "nbformat_minor": 4
}

{
 "cells": [
  {
   "cell_type": "code",
   "execution_count": 1,
   "metadata": {},
   "outputs": [],
   "source": [
    "# 匯入套件\n",
    "from urllib import parse"
   ]
  },
  {
   "cell_type": "code",
   "execution_count": 2,
   "metadata": {},
   "outputs": [
    {
     "name": "stdout",
     "output_type": "stream",
     "text": [
      "https://www.104.com.tw/jobs/search/?ro=1&kwop=7&keyword=python&order=13&asc=0&page=1&mode=s&jobsource=2018indexpoc\n"
     ]
    }
   ],
   "source": [
    "# 產生 url\n",
    "string = 'https://www.104.com.tw/jobs/search/?'\n",
    "query = {\n",
    "    \"ro\": 1, \n",
    "    \"kwop\": 7, \n",
    "    \"keyword\": \"python\",\n",
    "    \"order\": 13,\n",
    "    \"asc\": 0,\n",
    "    \"page\": 1,\n",
    "    \"mode\": \"s\",\n",
    "    \"jobsource\": \"2018indexpoc\"}\n",
    "result = string + parse.urlencode(query)\n",
    "print(result)"
   ]
  },
  {
   "cell_type": "code",
   "execution_count": 3,
   "metadata": {},
   "outputs": [
    {
     "name": "stdout",
     "output_type": "stream",
     "text": [
      "https://cons.judicial.gov.tw/jcc/zh-tw/jep03/show?expno=791\n"
     ]
    }
   ],
   "source": [
    "'''\n",
    "大法官解釋清單\n",
    "https://cons.judicial.gov.tw/jcc/modify/wall.html\n",
    "\n",
    "設定 URL 範例\n",
    "https://cons.judicial.gov.tw/jcc/zh-tw/jep03/show?expno=1\n",
    "'''\n",
    "\n",
    "# 產生 url\n",
    "string = 'https://cons.judicial.gov.tw/jcc/zh-tw/jep03/show?'\n",
    "query = {\n",
    "    'expno': 791\n",
    "}\n",
    "result = string + parse.urlencode(query)\n",
    "print(result)"
   ]
  },
  {
   "cell_type": "code",
   "execution_count": 4,
   "metadata": {},
   "outputs": [
    {
     "name": "stdout",
     "output_type": "stream",
     "text": [
      "https://cons.judicial.gov.tw/jcc/zh-tw/jep03/show?expno=791\n"
     ]
    }
   ],
   "source": [
    "'''最簡單的方式: 透過 formatted string'''\n",
    "expno = 791\n",
    "result = f\"https://cons.judicial.gov.tw/jcc/zh-tw/jep03/show?expno={expno}\"\n",
    "print(result)"
   ]
  }
 ],
 "metadata": {
  "kernelspec": {
   "display_name": "Python 3",
   "language": "python",
   "name": "python3"
  },
  "language_info": {
   "codemirror_mode": {
    "name": "ipython",
    "version": 3
   },
   "file_extension": ".py",
   "mimetype": "text/x-python",
   "name": "python",
   "nbconvert_exporter": "python",
   "pygments_lexer": "ipython3",
   "version": "3.8.8"
  }
 },
 "nbformat": 4,
 "nbformat_minor": 4
}

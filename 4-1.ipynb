{
 "cells": [
  {
   "cell_type": "code",
   "execution_count": 10,
   "metadata": {},
   "outputs": [],
   "source": [
    "# 匯入套件\n",
    "from urllib import parse"
   ]
  },
  {
   "cell_type": "code",
   "execution_count": 11,
   "metadata": {},
   "outputs": [
    {
     "name": "stdout",
     "output_type": "stream",
     "text": [
      "分析 URLs 成為 components:\n",
      "ParseResult(scheme='https', netloc='docs.python.org', path='/3.7/search.html', params='', query='q=parse&check_keywords=yes&area=default', fragment='')\n"
     ]
    }
   ],
   "source": [
    "# urlparse\n",
    "url = 'https://docs.python.org/3.7/search.html?q=parse&check_keywords=yes&area=default'\n",
    "parseResult = parse.urlparse(url)\n",
    "print(\"分析 URLs 成為 components:\\n{}\".format(parseResult))"
   ]
  },
  {
   "cell_type": "code",
   "execution_count": 12,
   "metadata": {},
   "outputs": [
    {
     "name": "stdout",
     "output_type": "stream",
     "text": [
      "https\n"
     ]
    }
   ],
   "source": [
    "# 印出 scheme\n",
    "print(parseResult.scheme)"
   ]
  },
  {
   "cell_type": "code",
   "execution_count": 13,
   "metadata": {},
   "outputs": [
    {
     "name": "stdout",
     "output_type": "stream",
     "text": [
      "q=parse&check_keywords=yes&area=default\n"
     ]
    }
   ],
   "source": [
    "# 印出 query\n",
    "print(parseResult.query)"
   ]
  },
  {
   "cell_type": "code",
   "execution_count": 14,
   "metadata": {},
   "outputs": [
    {
     "name": "stdout",
     "output_type": "stream",
     "text": [
      "https://www.104.com.tw/jobs/search/?ro=1&kwop=7&keyword=python&order=13&asc=0&page=1&mode=s&jobsource=2018indexpoc\n"
     ]
    }
   ],
   "source": [
    "# 產生 url\n",
    "string = 'https://www.104.com.tw/jobs/search/?'\n",
    "query = {\n",
    "    \"ro\": 1, \n",
    "    \"kwop\": 7, \n",
    "    \"keyword\": \"python\",\n",
    "    \"order\": 13,\n",
    "    \"asc\": 0,\n",
    "    \"page\": 1,\n",
    "    \"mode\": \"s\",\n",
    "    \"jobsource\": \"2018indexpoc\"}\n",
    "result = string + parse.urlencode(query)\n",
    "print(result)"
   ]
  }
 ],
 "metadata": {
  "kernelspec": {
   "display_name": "Python 3",
   "language": "python",
   "name": "python3"
  },
  "language_info": {
   "codemirror_mode": {
    "name": "ipython",
    "version": 3
   },
   "file_extension": ".py",
   "mimetype": "text/x-python",
   "name": "python",
   "nbconvert_exporter": "python",
   "pygments_lexer": "ipython3",
   "version": "3.7.9"
  }
 },
 "nbformat": 4,
 "nbformat_minor": 4
}

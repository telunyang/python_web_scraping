{
 "cells": [
  {
   "cell_type": "code",
   "execution_count": null,
   "id": "5a441807",
   "metadata": {},
   "outputs": [],
   "source": [
    "'''\n",
    "參考網頁\n",
    "[1] Python 使用 Beautiful Soup 抓取與解析網頁資料，開發網路爬蟲教學\n",
    "https://blog.gtwang.org/programming/python-beautiful-soup-module-scrape-web-pages-tutorial/2/\n",
    "'''\n",
    "\n",
    "import requests as req\n",
    "from bs4 import BeautifulSoup as bs\n",
    "from pprint import pprint\n",
    "\n",
    " # PTT NBA 板\n",
    "url = \"https://www.ptt.cc/bbs/NBA/index.html\"\n",
    "\n",
    "# 用 requests 的 get 方法把網頁抓下來\n",
    "res = req.get(url) \n",
    "\n",
    "# 指定 lxml 作為解析器\n",
    "soup = bs(res.text, \"lxml\") "
   ]
  },
  {
   "cell_type": "code",
   "execution_count": null,
   "id": "33639bed",
   "metadata": {},
   "outputs": [],
   "source": [
    "# 第一個 <a></a>\n",
    "print(soup.find(\"a\")) \n",
    "\n",
    "# 全部 <a></a>，此時回傳 list\n",
    "print(soup.find_all(\"a\")) \n",
    "\n",
    "# 指定 list 某個元素的 html\n",
    "print(soup.find_all(\"a\")[2]) "
   ]
  },
  {
   "cell_type": "code",
   "execution_count": null,
   "id": "532d85f1",
   "metadata": {},
   "outputs": [],
   "source": [
    "# 取得 id 為 logo 的元素\n",
    "logo = soup.find(id = \"logo\")\n",
    "print(logo)\n",
    "\n",
    "# 取得所有 div，類別名稱為 r-ent，回傳為 list\n",
    "posts = soup.find_all(\"div\", class_ = \"r-ent\")\n",
    "print(posts)"
   ]
  },
  {
   "cell_type": "code",
   "execution_count": null,
   "id": "9c1ddf9a",
   "metadata": {},
   "outputs": [],
   "source": [
    "'''\n",
    "以下透過 CSS selector 取得元素，\n",
    "回傳格式為 list\n",
    "'''\n",
    "# 輸出 title\n",
    "print(soup.select_one('title'))\n",
    "\n",
    "# 輸出 a\n",
    "print(soup.select('a'))\n",
    "\n",
    "# 透過 class 名稱取得元素\n",
    "print(soup.select(\"a.board\"))\n",
    "\n",
    "# 透過 id 名稱取得元素\n",
    "print(soup.select_one(\"#logo\"))\n",
    "\n",
    "# 透過 attribute 取得元素\n",
    "print(soup.select('a[class=\"board\"]'))"
   ]
  },
  {
   "cell_type": "code",
   "execution_count": null,
   "id": "77efcd15",
   "metadata": {},
   "outputs": [],
   "source": [
    "# 取得單一節點的文字內容 (select_one 會回傳單一 bs element 物件，select 會回傳 list)\n",
    "print(soup.select_one('title').get_text())\n",
    "print(soup.select('a')[0].get_text())"
   ]
  },
  {
   "cell_type": "code",
   "execution_count": null,
   "id": "59d702d3",
   "metadata": {},
   "outputs": [],
   "source": [
    "# 透過迭代取得所有 a 的文字內容\n",
    "for a in soup.select('a'):\n",
    "    print(a.get_text())"
   ]
  },
  {
   "cell_type": "code",
   "execution_count": null,
   "id": "8b5ccf58",
   "metadata": {},
   "outputs": [],
   "source": [
    "# 透過迭代取得所有 a 的屬性 href\n",
    "for a in soup.select('a'):\n",
    "    if a.has_attr('href'):\n",
    "        print(a['href']) # a.get(\"href\")\n",
    "    else:\n",
    "        print(\"=\" * 50)\n",
    "        print(f\"連結[{a.get_text()}] 沒有 href 屬性\")\n",
    "        print(\"=\" * 50)"
   ]
  }
 ],
 "metadata": {
  "kernelspec": {
   "display_name": "Python 3.9.12 ('base')",
   "language": "python",
   "name": "python3"
  },
  "language_info": {
   "codemirror_mode": {
    "name": "ipython",
    "version": 3
   },
   "file_extension": ".py",
   "mimetype": "text/x-python",
   "name": "python",
   "nbconvert_exporter": "python",
   "pygments_lexer": "ipython3",
   "version": "3.9.12"
  },
  "vscode": {
   "interpreter": {
    "hash": "585a938ec471c889bf0cce0aed741a99eaf47ca09c0fa8393793bc5bfe77ba11"
   }
  }
 },
 "nbformat": 4,
 "nbformat_minor": 5
}

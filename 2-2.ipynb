{
 "cells": [
  {
   "cell_type": "code",
   "execution_count": 1,
   "metadata": {},
   "outputs": [
    {
     "name": "stdout",
     "output_type": "stream",
     "text": [
      "目前 list 內容: [1, 2, 3, 4, 5, 6]\n"
     ]
    }
   ],
   "source": [
    "# 初始化一個 list\n",
    "ids = [1, 2, 3, 4, 5, 6]\n",
    "\n",
    "print(\"目前 list 內容: {}\".format(ids))"
   ]
  },
  {
   "cell_type": "code",
   "execution_count": 2,
   "metadata": {},
   "outputs": [
    {
     "name": "stdout",
     "output_type": "stream",
     "text": [
      "目前 list 內容: [1, 2, 3, 4, 5, 6, 7]\n"
     ]
    }
   ],
   "source": [
    "# 新增元素在 list 尾端\n",
    "ids.append(7)\n",
    "\n",
    "print(\"目前 list 內容: {}\".format(ids))"
   ]
  },
  {
   "cell_type": "code",
   "execution_count": 3,
   "metadata": {},
   "outputs": [
    {
     "name": "stdout",
     "output_type": "stream",
     "text": [
      "目前 list 內容: [1, 2, 3, 4, 99, 6, 7]\n"
     ]
    }
   ],
   "source": [
    "# 修改索引位置的元素\n",
    "ids[4] = 99\n",
    "\n",
    "print(\"目前 list 內容: {}\".format(ids))"
   ]
  },
  {
   "cell_type": "code",
   "execution_count": 4,
   "metadata": {},
   "outputs": [
    {
     "name": "stdout",
     "output_type": "stream",
     "text": [
      "目前 list 內容: [1, 2, 3, 4, 6, 7]\n"
     ]
    }
   ],
   "source": [
    "# 刪除索引位置的元素\n",
    "ids.pop(4)\n",
    "\n",
    "print(\"目前 list 內容: {}\".format(ids))"
   ]
  },
  {
   "cell_type": "code",
   "execution_count": 5,
   "metadata": {
    "scrolled": true
   },
   "outputs": [
    {
     "name": "stdout",
     "output_type": "stream",
     "text": [
      "目前 list 內容: [1, 9, 2, 3, 4, 6, 7]\n"
     ]
    }
   ],
   "source": [
    "# 新增元素在指定索引，其餘元素往後移\n",
    "ids.insert(1, 9)\n",
    "\n",
    "'''\n",
    "用法\n",
    "list.insert(index, elememt)\n",
    "\n",
    "說明\n",
    "在指定的 index 處，新增 element，原先位置的索引往後移\n",
    "'''\n",
    "\n",
    "print(\"目前 list 內容: {}\".format(ids))"
   ]
  },
  {
   "cell_type": "code",
   "execution_count": 6,
   "metadata": {},
   "outputs": [
    {
     "name": "stdout",
     "output_type": "stream",
     "text": [
      "目前 list 內容: [1, 2, 3, 4, 6, 7]\n"
     ]
    }
   ],
   "source": [
    "# 移除指定的值\n",
    "ids.remove(9)\n",
    "\n",
    "print(\"目前 list 內容: {}\".format(ids))"
   ]
  },
  {
   "cell_type": "markdown",
   "metadata": {},
   "source": [
    "## 序列物件分割（Slicing）\n",
    "- 序列物件包含 String、List 及 Tuple等，我們可透過其順序取得元素\n",
    "- 中括號為常見物件的索引值取值（Indexing）或分割之語法\n",
    "  - 索引值取值指的是取出一個值\n",
    "  - 分割指的是取出一部分值\n",
    "\n",
    "|索引值：|  0  |  1  |  2  |  3  |  4  |  5  |  6  |  7  |  8  |  9  | 10  | 11  |\n",
    "|:---:|:---:|:---:|:---:|:---:|:---:|:---:|:---:|:---:|:---:|:---:|:---:|:---:|\n",
    "|     | 'H' | 'e' | 'l' | 'l' | 'o' | ',' | 'W' | 'o' | 'r' | 'l' | 'd' | '!' |\n",
    "|索引值：| -12 | -11 | -10 | -9  | -8  | -7  | -6  | -5  | -4  | -3  | -2  | -1  |"
   ]
  },
  {
   "cell_type": "code",
   "execution_count": 7,
   "metadata": {},
   "outputs": [],
   "source": [
    "# 初始化一個字串\n",
    "myStr = 'Hello,World!'"
   ]
  },
  {
   "cell_type": "code",
   "execution_count": 8,
   "metadata": {},
   "outputs": [
    {
     "name": "stdout",
     "output_type": "stream",
     "text": [
      "Hello\n",
      "orld!\n",
      "or\n"
     ]
    }
   ],
   "source": [
    "'''\n",
    "透過冒號（:）進行分割\n",
    "'''\n",
    "# 從頭取到 5（不包含第 5 個元素）\n",
    "print( myStr[:5] ) # 冒號前面留空\n",
    "\n",
    "# 從 7 取到尾\n",
    "print( myStr[7:] )  # 冒號後面留空\n",
    "\n",
    "# 從 7 取到 9（不包含第 9 個元素）\n",
    "print( myStr[7:9] )"
   ]
  },
  {
   "cell_type": "code",
   "execution_count": 9,
   "metadata": {},
   "outputs": [
    {
     "name": "stdout",
     "output_type": "stream",
     "text": [
      "llo\n",
      "orld!\n",
      "Hello\n"
     ]
    }
   ],
   "source": [
    "'''\n",
    "使用負號\n",
    "'''\n",
    "# 從倒數第 10 取到倒數第 7（不包含倒數第 7 的元素）\n",
    "print( myStr[-10:-7] )\n",
    "\n",
    "# 從倒數第 5 取到尾\n",
    "print( myStr[-5:] )\n",
    "\n",
    "# 從頭取到倒數第 7（不包含倒數第 7 的元素）\n",
    "print( myStr[:-7] )"
   ]
  }
 ],
 "metadata": {
  "kernelspec": {
   "display_name": "Python 3",
   "language": "python",
   "name": "python3"
  },
  "language_info": {
   "codemirror_mode": {
    "name": "ipython",
    "version": 3
   },
   "file_extension": ".py",
   "mimetype": "text/x-python",
   "name": "python",
   "nbconvert_exporter": "python",
   "pygments_lexer": "ipython3",
   "version": "3.8.8"
  }
 },
 "nbformat": 4,
 "nbformat_minor": 4
}

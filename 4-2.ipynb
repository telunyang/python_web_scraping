{
 "cells": [
  {
   "cell_type": "code",
   "execution_count": 13,
   "metadata": {},
   "outputs": [
    {
     "data": {
      "text/plain": [
       "'\\n說明\\nurl 只允許部分 ASCII 的字元（數字與部分符號），\\n其它的字元（例如中文字）是不符合 url 標準的，\\n這時候 url 若有其它字元\\n便要進行編碼\\n'"
      ]
     },
     "execution_count": 13,
     "metadata": {},
     "output_type": "execute_result"
    }
   ],
   "source": [
    "# 匯入套件\n",
    "from urllib import parse\n",
    "'''\n",
    "說明\n",
    "url 只允許部分 ASCII 的字元（數字與部分符號），\n",
    "其它的字元（例如中文字）是不符合 url 標準的，\n",
    "這時候 url 若有其它字元\n",
    "便要進行編碼\n",
    "'''"
   ]
  },
  {
   "cell_type": "code",
   "execution_count": 14,
   "metadata": {},
   "outputs": [
    {
     "name": "stdout",
     "output_type": "stream",
     "text": [
      "a%3D1%26b%3D2\n"
     ]
    }
   ],
   "source": [
    "# 編碼 parse.quote()\n",
    "result01 = parse.quote('a=1&b=2')\n",
    "print(result01)"
   ]
  },
  {
   "cell_type": "code",
   "execution_count": 15,
   "metadata": {},
   "outputs": [
    {
     "name": "stdout",
     "output_type": "stream",
     "text": [
      "a=1&b=2\n"
     ]
    }
   ],
   "source": [
    "# 解碼 parse.unquote()\n",
    "result02 = parse.unquote('a%3D1%26b%3D2')\n",
    "print(result02)"
   ]
  },
  {
   "cell_type": "markdown",
   "metadata": {},
   "source": [
    "![urllib.parse.urlsplit用法](https://i.imgur.com/pezosFp.png \"urllib.parse.urlsplit(urlstring, scheme='', allow_fragments=True)\")"
   ]
  },
  {
   "cell_type": "code",
   "execution_count": 16,
   "metadata": {
    "scrolled": true
   },
   "outputs": [
    {
     "name": "stdout",
     "output_type": "stream",
     "text": [
      "SplitResult(scheme='https', netloc='video.ftpe7-3.fna.fbcdn.net', path='/v/t39.25447-2/10000000_530429381470164_2413522859635243008_n.webm', query='_nc_cat=103&ccb=1-3&_nc_sid=5aebc0&efg=eyJ2ZW5jb2RlX3RhZyI6ImRhc2hfdnA5XzVzZWNnb3BfbWlucmVzX2hhbG9fNzUwa19mcmFnXzJfdmlkZW8ifQ%3D%3D&_nc_ohc=z4hBReCvVxIAX8VO9W5&_nc_ht=video.ftpe7-3.fna&oh=2f77b7d2c3814254e1cbc8ddc4af4c9d&oe=60EEE264&bytestart=0&byteend=9999999999999999999999', fragment='')\n",
      "==================================================\n",
      "'_nc_cat=103&ccb=1-3&_nc_sid=5aebc0&efg=eyJ2ZW5jb2RlX3RhZyI6ImRhc2hfdnA5XzVzZWNnb3BfbWlucmVzX2hhbG9fNzUwa19mcmFnXzJfdmlkZW8ifQ%3D%3D&_nc_ohc=z4hBReCvVxIAX8VO9W5&_nc_ht=video.ftpe7-3.fna&oh=2f77b7d2c3814254e1cbc8ddc4af4c9d&oe=60EEE264&bytestart=0&byteend=9999999999999999999999'\n",
      "==================================================\n",
      "[('_nc_cat', '103'),\n",
      " ('ccb', '1-3'),\n",
      " ('_nc_sid', '5aebc0'),\n",
      " ('efg',\n",
      "  'eyJ2ZW5jb2RlX3RhZyI6ImRhc2hfdnA5XzVzZWNnb3BfbWlucmVzX2hhbG9fNzUwa19mcmFnXzJfdmlkZW8ifQ=='),\n",
      " ('_nc_ohc', 'z4hBReCvVxIAX8VO9W5'),\n",
      " ('_nc_ht', 'video.ftpe7-3.fna'),\n",
      " ('oh', '2f77b7d2c3814254e1cbc8ddc4af4c9d'),\n",
      " ('oe', '60EEE264'),\n",
      " ('bytestart', '0'),\n",
      " ('byteend', '9999999999999999999999')]\n",
      "==================================================\n",
      "{'_nc_cat': '103',\n",
      " '_nc_ht': 'video.ftpe7-3.fna',\n",
      " '_nc_ohc': 'z4hBReCvVxIAX8VO9W5',\n",
      " '_nc_sid': '5aebc0',\n",
      " 'byteend': '9999999999999999999999',\n",
      " 'bytestart': '0',\n",
      " 'ccb': '1-3',\n",
      " 'efg': 'eyJ2ZW5jb2RlX3RhZyI6ImRhc2hfdnA5XzVzZWNnb3BfbWlucmVzX2hhbG9fNzUwa19mcmFnXzJfdmlkZW8ifQ==',\n",
      " 'oe': '60EEE264',\n",
      " 'oh': '2f77b7d2c3814254e1cbc8ddc4af4c9d'}\n"
     ]
    }
   ],
   "source": [
    "'''\n",
    "1. 透過 parse.urlsplit 取得 SplitResult 物件\n",
    "2. 透過 parse.urlsplit(url).query 取得 Query String\n",
    "3. parse.parse_qsl(parse.urlsplit(url).query) 轉成 tuple\n",
    "4. dict(parse.parse_qsl(parse.urlsplit(url).query)) 將 Query String 轉成 dict 型態\n",
    "'''\n",
    "\n",
    "from pprint import pprint\n",
    "\n",
    "# 將 query string 變成 dict 格式\n",
    "url = 'https://video.ftpe7-3.fna.fbcdn.net/v/t39.25447-2/10000000_530429381470164_2413522859635243008_n.webm?_nc_cat=103&ccb=1-3&_nc_sid=5aebc0&efg=eyJ2ZW5jb2RlX3RhZyI6ImRhc2hfdnA5XzVzZWNnb3BfbWlucmVzX2hhbG9fNzUwa19mcmFnXzJfdmlkZW8ifQ%3D%3D&_nc_ohc=z4hBReCvVxIAX8VO9W5&_nc_ht=video.ftpe7-3.fna&oh=2f77b7d2c3814254e1cbc8ddc4af4c9d&oe=60EEE264&bytestart=0&byteend=9999999999999999999999'\n",
    "\n",
    "# 變成 SplitResult 物件\n",
    "sr = parse.urlsplit(url)\n",
    "pprint( sr )\n",
    "\n",
    "print(\"=\" * 50)\n",
    "\n",
    "# 取得 SplitResult 物件其中 query 屬性的值\n",
    "pprint( sr.query )\n",
    "\n",
    "print(\"=\" * 50)\n",
    "\n",
    "# 將 query 屬性的值，其中的 key-value 字串格式轉為 tuple \n",
    "pprint( parse.parse_qsl(sr.query) )\n",
    "\n",
    "print(\"=\" * 50)\n",
    "\n",
    "# 將所有 tuple 一起轉換成 dict 格式\n",
    "pprint( dict(parse.parse_qsl(sr.query)) )"
   ]
  },
  {
   "cell_type": "code",
   "execution_count": 17,
   "metadata": {},
   "outputs": [
    {
     "name": "stdout",
     "output_type": "stream",
     "text": [
      "https://video.ftpe7-3.fna.fbcdn.net/v/t39.25447-2/10000000_530429381470164_2413522859635243008_n.webm?_nc_cat=103&_nc_ht=video.ftpe7-3.fna&_nc_ohc=z4hBReCvVxIAX8VO9W5&_nc_sid=5aebc0&byteend=9999999999999999999999&bytestart=0&ccb=1-3&efg=eyJ2ZW5jb2RlX3RhZyI6ImRhc2hfdnA5XzVzZWNnb3BfbWlucmVzX2hhbG9fNzUwa19mcmFnXzJfdmlkZW8ifQ%3D%3D&oe=60EEE264&oh=2f77b7d2c3814254e1cbc8ddc4af4c9d\n"
     ]
    }
   ],
   "source": [
    "'''將 query string (dict 格式)，整合在自訂的網址後面'''\n",
    "\n",
    "dictQuery = {\n",
    "    '_nc_cat': '103',\n",
    "     '_nc_ht': 'video.ftpe7-3.fna',\n",
    "     '_nc_ohc': 'z4hBReCvVxIAX8VO9W5',\n",
    "     '_nc_sid': '5aebc0',\n",
    "     'byteend': '9999999999999999999999',\n",
    "     'bytestart': '0',\n",
    "     'ccb': '1-3',\n",
    "     'efg': 'eyJ2ZW5jb2RlX3RhZyI6ImRhc2hfdnA5XzVzZWNnb3BfbWlucmVzX2hhbG9fNzUwa19mcmFnXzJfdmlkZW8ifQ==',\n",
    "     'oe': '60EEE264',\n",
    "     'oh': '2f77b7d2c3814254e1cbc8ddc4af4c9d'\n",
    "}\n",
    "\n",
    "url = 'https://video.ftpe7-3.fna.fbcdn.net/v/t39.25447-2/10000000_530429381470164_2413522859635243008_n.webm'\n",
    "\n",
    "full_url = url + '?' + parse.urlencode(dictQuery)\n",
    "\n",
    "print(full_url)"
   ]
  }
 ],
 "metadata": {
  "kernelspec": {
   "display_name": "Python 3",
   "language": "python",
   "name": "python3"
  },
  "language_info": {
   "codemirror_mode": {
    "name": "ipython",
    "version": 3
   },
   "file_extension": ".py",
   "mimetype": "text/x-python",
   "name": "python",
   "nbconvert_exporter": "python",
   "pygments_lexer": "ipython3",
   "version": "3.8.8"
  }
 },
 "nbformat": 4,
 "nbformat_minor": 4
}

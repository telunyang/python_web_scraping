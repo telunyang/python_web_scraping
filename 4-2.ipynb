{
 "cells": [
  {
   "cell_type": "code",
   "execution_count": null,
   "metadata": {},
   "outputs": [],
   "source": [
    "# 匯入套件\n",
    "from urllib import parse\n",
    "'''\n",
    "說明\n",
    "url 只允許部分 ASCII 的字元（數字與部分符號），\n",
    "其它的字元（例如中文字）是不符合 url 標準的，\n",
    "這時候 url 若有其它字元\n",
    "便要進行編碼\n",
    "'''"
   ]
  },
  {
   "cell_type": "code",
   "execution_count": 2,
   "metadata": {},
   "outputs": [
    {
     "name": "stdout",
     "output_type": "stream",
     "text": [
      "a%3D1%26b%3D2\n"
     ]
    }
   ],
   "source": [
    "# quote\n",
    "result01 = parse.quote('a=1&b=2')\n",
    "print(result01)"
   ]
  },
  {
   "cell_type": "code",
   "execution_count": 3,
   "metadata": {},
   "outputs": [
    {
     "name": "stdout",
     "output_type": "stream",
     "text": [
      "a=1&b=2\n"
     ]
    }
   ],
   "source": [
    "# unquote\n",
    "result02 = parse.unquote('a%3D1%26b%3D2')\n",
    "print(result02)"
   ]
  }
 ],
 "metadata": {
  "kernelspec": {
   "display_name": "Python 3",
   "language": "python",
   "name": "python3"
  },
  "language_info": {
   "codemirror_mode": {
    "name": "ipython",
    "version": 3
   },
   "file_extension": ".py",
   "mimetype": "text/x-python",
   "name": "python",
   "nbconvert_exporter": "python",
   "pygments_lexer": "ipython3",
   "version": "3.7.9"
  }
 },
 "nbformat": 4,
 "nbformat_minor": 4
}

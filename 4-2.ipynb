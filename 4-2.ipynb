{
 "cells": [
  {
   "cell_type": "code",
   "execution_count": 1,
   "metadata": {},
   "outputs": [
    {
     "data": {
      "text/plain": [
       "'\\n說明\\nurl 只允許部分 ASCII 的字元（數字與部分符號），\\n其它的字元（例如中文字）是不符合 url 標準的，\\n這時候 url 若有其它字元\\n便要進行編碼\\n'"
      ]
     },
     "execution_count": 1,
     "metadata": {},
     "output_type": "execute_result"
    }
   ],
   "source": [
    "# 匯入套件\n",
    "from urllib import parse\n",
    "'''\n",
    "說明\n",
    "url 只允許部分 ASCII 的字元（數字與部分符號），\n",
    "其它的字元（例如中文字）是不符合 url 標準的，\n",
    "這時候 url 若有其它字元\n",
    "便要進行編碼\n",
    "'''"
   ]
  },
  {
   "cell_type": "code",
   "execution_count": 2,
   "metadata": {},
   "outputs": [
    {
     "name": "stdout",
     "output_type": "stream",
     "text": [
      "a%3D1%26b%3D2\n"
     ]
    }
   ],
   "source": [
    "# 編碼 parse.quote()\n",
    "result01 = parse.quote('a=1&b=2')\n",
    "print(result01)"
   ]
  },
  {
   "cell_type": "code",
   "execution_count": 3,
   "metadata": {},
   "outputs": [
    {
     "name": "stdout",
     "output_type": "stream",
     "text": [
      "a=1&b=2\n"
     ]
    }
   ],
   "source": [
    "# 解碼 parse.unquote()\n",
    "result02 = parse.unquote('a%3D1%26b%3D2')\n",
    "print(result02)"
   ]
  },
  {
   "cell_type": "code",
   "execution_count": 4,
   "metadata": {},
   "outputs": [
    {
     "name": "stdout",
     "output_type": "stream",
     "text": [
      "SplitResult(scheme='https', netloc='video.ftpe8-4.fna.fbcdn.net', path='/v/t39.25447-2/10000000_752513172102438_5944738312565069466_n.webm', query='_nc_cat=110&ccb=1-3&_nc_sid=5aebc0&efg=eyJ2ZW5jb2RlX3RhZyI6ImRhc2hfdnA5XzVzZWNnb3BfbWlucmVzX2hhbG9fMjYwMGtfZnJhZ18yX3ZpZGVvIn0%3D&_nc_ohc=J0HZTqYzQPUAX_5AiAp&_nc_ht=video.ftpe8-4.fna&oh=b4185fa43e71bb2f9883aba7b8ff7460&oe=60C795F5&bytestart=4704469&byteend=7897261', fragment='')\n",
      "==================================================\n",
      "'_nc_cat=110&ccb=1-3&_nc_sid=5aebc0&efg=eyJ2ZW5jb2RlX3RhZyI6ImRhc2hfdnA5XzVzZWNnb3BfbWlucmVzX2hhbG9fMjYwMGtfZnJhZ18yX3ZpZGVvIn0%3D&_nc_ohc=J0HZTqYzQPUAX_5AiAp&_nc_ht=video.ftpe8-4.fna&oh=b4185fa43e71bb2f9883aba7b8ff7460&oe=60C795F5&bytestart=4704469&byteend=7897261'\n",
      "==================================================\n",
      "[('_nc_cat', '110'),\n",
      " ('ccb', '1-3'),\n",
      " ('_nc_sid', '5aebc0'),\n",
      " ('efg',\n",
      "  'eyJ2ZW5jb2RlX3RhZyI6ImRhc2hfdnA5XzVzZWNnb3BfbWlucmVzX2hhbG9fMjYwMGtfZnJhZ18yX3ZpZGVvIn0='),\n",
      " ('_nc_ohc', 'J0HZTqYzQPUAX_5AiAp'),\n",
      " ('_nc_ht', 'video.ftpe8-4.fna'),\n",
      " ('oh', 'b4185fa43e71bb2f9883aba7b8ff7460'),\n",
      " ('oe', '60C795F5'),\n",
      " ('bytestart', '4704469'),\n",
      " ('byteend', '7897261')]\n",
      "==================================================\n",
      "{'_nc_cat': '110',\n",
      " '_nc_ht': 'video.ftpe8-4.fna',\n",
      " '_nc_ohc': 'J0HZTqYzQPUAX_5AiAp',\n",
      " '_nc_sid': '5aebc0',\n",
      " 'byteend': '7897261',\n",
      " 'bytestart': '4704469',\n",
      " 'ccb': '1-3',\n",
      " 'efg': 'eyJ2ZW5jb2RlX3RhZyI6ImRhc2hfdnA5XzVzZWNnb3BfbWlucmVzX2hhbG9fMjYwMGtfZnJhZ18yX3ZpZGVvIn0=',\n",
      " 'oe': '60C795F5',\n",
      " 'oh': 'b4185fa43e71bb2f9883aba7b8ff7460'}\n"
     ]
    }
   ],
   "source": [
    "from pprint import pprint\n",
    "\n",
    "# 將 query string 變成 dict 格式\n",
    "url = 'https://video.ftpe8-4.fna.fbcdn.net/v/t39.25447-2/10000000_752513172102438_5944738312565069466_n.webm?_nc_cat=110&ccb=1-3&_nc_sid=5aebc0&efg=eyJ2ZW5jb2RlX3RhZyI6ImRhc2hfdnA5XzVzZWNnb3BfbWlucmVzX2hhbG9fMjYwMGtfZnJhZ18yX3ZpZGVvIn0%3D&_nc_ohc=J0HZTqYzQPUAX_5AiAp&_nc_ht=video.ftpe8-4.fna&oh=b4185fa43e71bb2f9883aba7b8ff7460&oe=60C795F5&bytestart=4704469&byteend=7897261'\n",
    "\n",
    "# 變成 SplitResult 物件\n",
    "pprint( parse.urlsplit(url) )\n",
    "\n",
    "print(\"=\" * 50)\n",
    "\n",
    "# 取得 SplitResult 物件其中 query 屬性的值\n",
    "pprint( parse.urlsplit(url).query )\n",
    "\n",
    "print(\"=\" * 50)\n",
    "\n",
    "# 將 query 屬性的值，其中的 key-value 字串格式轉為 tuple \n",
    "pprint( parse.parse_qsl(parse.urlsplit(url).query) )\n",
    "\n",
    "print(\"=\" * 50)\n",
    "\n",
    "# 將所有 tuple 一起轉換成 dict 格式\n",
    "pprint( dict(parse.parse_qsl(parse.urlsplit(url).query)) )"
   ]
  },
  {
   "cell_type": "code",
   "execution_count": 5,
   "metadata": {},
   "outputs": [
    {
     "name": "stdout",
     "output_type": "stream",
     "text": [
      "https://video.ftpe8-4.fna.fbcdn.net/v/t39.25447-2/10000000_752513172102438_5944738312565069466_n.webm?_nc_cat=110&_nc_ht=video.ftpe8-4.fna&_nc_ohc=J0HZTqYzQPUAX_5AiAp&_nc_sid=5aebc0&byteend=0&bytestart=4704469&ccb=1-3&efg=eyJ2ZW5jb2RlX3RhZyI6ImRhc2hfdnA5XzVzZWNnb3BfbWlucmVzX2hhbG9fMjYwMGtfZnJhZ18yX3ZpZGVvIn0%3D&oe=60C795F5&oh=b4185fa43e71bb2f9883aba7b8ff7460\n"
     ]
    }
   ],
   "source": [
    "# 將 query string (dict 格式)，整合在自訂的網址後面\n",
    "\n",
    "dictQuery = {\n",
    "    '_nc_cat': '110',\n",
    "    '_nc_ht': 'video.ftpe8-4.fna',\n",
    "    '_nc_ohc': 'J0HZTqYzQPUAX_5AiAp',\n",
    "    '_nc_sid': '5aebc0',\n",
    "    'byteend': '0', #這邊刻意改成 0\n",
    "    'bytestart': '4704469',\n",
    "    'ccb': '1-3',\n",
    "    'efg': 'eyJ2ZW5jb2RlX3RhZyI6ImRhc2hfdnA5XzVzZWNnb3BfbWlucmVzX2hhbG9fMjYwMGtfZnJhZ18yX3ZpZGVvIn0=',\n",
    "    'oe': '60C795F5',\n",
    "    'oh': 'b4185fa43e71bb2f9883aba7b8ff7460'\n",
    "}\n",
    "\n",
    "url = 'https://video.ftpe8-4.fna.fbcdn.net/v/t39.25447-2/10000000_752513172102438_5944738312565069466_n.webm'\n",
    "\n",
    "full_url = url + '?' + parse.urlencode(dictQuery)\n",
    "\n",
    "print(full_url)"
   ]
  }
 ],
 "metadata": {
  "kernelspec": {
   "display_name": "Python 3",
   "language": "python",
   "name": "python3"
  },
  "language_info": {
   "codemirror_mode": {
    "name": "ipython",
    "version": 3
   },
   "file_extension": ".py",
   "mimetype": "text/x-python",
   "name": "python",
   "nbconvert_exporter": "python",
   "pygments_lexer": "ipython3",
   "version": "3.8.8"
  }
 },
 "nbformat": 4,
 "nbformat_minor": 4
}

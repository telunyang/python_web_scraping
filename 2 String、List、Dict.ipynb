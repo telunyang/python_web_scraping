{
 "cells": [
  {
   "cell_type": "markdown",
   "metadata": {},
   "source": [
    "# 註解"
   ]
  },
  {
   "cell_type": "code",
   "execution_count": null,
   "metadata": {},
   "outputs": [],
   "source": [
    "# 單行註解\n",
    "\n",
    "'''\n",
    "多行註解\n",
    "多行註解\n",
    "多行註解\n",
    "'''\n",
    "\n",
    "\"\"\"\n",
    "這也是多行註解\n",
    "這也是多行註解\n",
    "\"\"\""
   ]
  },
  {
   "cell_type": "markdown",
   "metadata": {},
   "source": [
    "---"
   ]
  },
  {
   "cell_type": "markdown",
   "metadata": {},
   "source": [
    "# 變數"
   ]
  },
  {
   "cell_type": "code",
   "execution_count": null,
   "metadata": {},
   "outputs": [],
   "source": [
    "'''\n",
    "變數: 值(如字串、數值等)的容器\n",
    "\n",
    "\n",
    "變數命名方式:\n",
    "原則上是「英文、數字和底線(_)」的組合，\n",
    "例如 my_name、getName、age，\n",
    "但不能是「數字」開頭\n",
    "'''\n",
    "my_age = 18\n",
    "123_my_age = 18"
   ]
  },
  {
   "cell_type": "markdown",
   "metadata": {},
   "source": [
    "---"
   ]
  },
  {
   "cell_type": "markdown",
   "metadata": {},
   "source": [
    "# String\n",
    "- 「字串」(string) 如同一串字，同時由兩個以上的字元 (character) 組成。\n",
    "- 字串需要用「兩個單引號」或「兩個雙引號」包起來，例如 '星期日' 或 \"星期日\"。\n",
    "- 包住字串的兩個引號一定要一樣，不能一個單引號、一個雙引號，要同時都是單引號，或是同時都是雙引號。\n",
    "- 如果包住的字只有一個，則稱之為「字元」(character)。"
   ]
  },
  {
   "cell_type": "code",
   "execution_count": null,
   "metadata": {},
   "outputs": [],
   "source": [
    "# 字串變數初始化\n",
    "string01 = \"1,2,3,4\"\n",
    "print(string01)"
   ]
  },
  {
   "cell_type": "code",
   "execution_count": null,
   "metadata": {},
   "outputs": [],
   "source": [
    "# 替換字串\n",
    "'''\n",
    "用法\n",
    "string.replace(str1, str2)\n",
    "說明\n",
    "將s中的str1替換成str2\n",
    "'''\n",
    "string02 = \"Alex\"\n",
    "string02 = string02.replace('ex', 'len')\n",
    "print(string02)"
   ]
  },
  {
   "cell_type": "code",
   "execution_count": null,
   "metadata": {},
   "outputs": [],
   "source": [
    "# 去除字串兩側空格\n",
    "'''\n",
    "用法\n",
    "string.strip()\n",
    "說明\n",
    "去除字串s左、右兩邊的空格\n",
    "'''\n",
    "string03 = \"        ___ccc___         \"\n",
    "print(string03)\n",
    "print(string03.strip())"
   ]
  },
  {
   "cell_type": "code",
   "execution_count": null,
   "metadata": {},
   "outputs": [],
   "source": [
    "# 字串變成小寫\n",
    "'''\n",
    "用法\n",
    "string.lower()\n",
    "說明\n",
    "將字串s裡的字母全部改成小寫\n",
    "'''\n",
    "print(\"CAR\".lower())\n",
    "\n",
    "# 字串變成大寫\n",
    "'''\n",
    "用法\n",
    "string.upper()\n",
    "說明\n",
    "將字串s裡的字母全部改成大寫\n",
    "'''\n",
    "print(\"good\".upper())"
   ]
  },
  {
   "cell_type": "markdown",
   "metadata": {},
   "source": [
    "---"
   ]
  },
  {
   "cell_type": "markdown",
   "metadata": {},
   "source": [
    "# List\n",
    "- 稱為「串列」或「列表」，跟其它程式語言當中的「陣列」(Array) 很類似。\n",
    "- 使用中括號 \\[ \\] 將資料儲存起來。\n",
    "- 可以想像成一個七天份的藥盒子，從星期天開始。\n",
    "- 例如【'星期天', '星期一', '星期二', '星期三', '星期四', '星期五', '星期六'】。\n",
    "- 這個藥盒子內，有各自存取的代號(位置)，例如 0 代表「星期天」，1 代表「星期一」，2 代表「星期二」，依此類推。\n",
    "- 這個存取的代號 0、1、2…等等，稱之為「索引」(index)。\n",
    "- 可以儲存各種資料型態。"
   ]
  },
  {
   "cell_type": "code",
   "execution_count": null,
   "metadata": {},
   "outputs": [],
   "source": [
    "# 初始化一個 list\n",
    "ids = [1, 2, 3, 4, 5, 6]\n",
    "print(ids)\n",
    "\n",
    "\n",
    "# 新增元素在 list 尾端\n",
    "ids.append(7)\n",
    "print(ids)\n",
    "\n",
    "\n",
    "# 修改索引位置的元素\n",
    "ids[4] = 99\n",
    "print(ids)\n",
    "\n",
    "\n",
    "# 刪除索引位置的元素\n",
    "ids.pop(4)\n",
    "print(ids)\n",
    "\n",
    "\n",
    "# 新增元素 9 在指定索引 1，其餘元素往後移\n",
    "ids.insert(1, 9)\n",
    "print(ids)\n",
    "\n",
    "\n",
    "# 移除指定的值\n",
    "ids.remove(9)\n",
    "print(ids)"
   ]
  },
  {
   "cell_type": "code",
   "execution_count": null,
   "metadata": {},
   "outputs": [],
   "source": [
    "# 補充: 字串分割成 list\n",
    "'''\n",
    "用法\n",
    "string.split()\n",
    "說明\n",
    "默認以空格、換行字元分割字串s，返回 list\n",
    "'''\n",
    "string04 = \"1,2,3,4\"\n",
    "list04 = string04.split(',')\n",
    "print(list04)"
   ]
  },
  {
   "cell_type": "code",
   "execution_count": null,
   "metadata": {},
   "outputs": [],
   "source": [
    "# 補充: 將 list 元素合併成字串\n",
    "'''\n",
    "用法\n",
    "string.join(seq)\n",
    "說明\n",
    "以string為分隔符，將seq中的元素串起來成為一個新的字串\n",
    "'''\n",
    "list05 = ['古道', '西風', '瘦馬']\n",
    "\n",
    "string05 = '-'.join(list05)\n",
    "print(string05)\n",
    "\n",
    "string05 = ''.join(list05)\n",
    "print(string05)"
   ]
  },
  {
   "cell_type": "markdown",
   "metadata": {},
   "source": [
    "## 序列物件分割（Slicing）\n",
    "- 序列物件包含 String、List 及 Tuple等，我們可透過其順序取得元素\n",
    "- 中括號為常見物件的索引值取值（Indexing）或分割之語法\n",
    "  - 索引值取值指的是取出一個值\n",
    "  - 分割指的是取出一部分值\n",
    "\n",
    "|索引值：|  0  |  1  |  2  |  3  |  4  |  5  |  6  |  7  |  8  |  9  | 10  | 11  |\n",
    "|:---:|:---:|:---:|:---:|:---:|:---:|:---:|:---:|:---:|:---:|:---:|:---:|:---:|\n",
    "|     | 'H' | 'e' | 'l' | 'l' | 'o' | ',' | 'W' | 'o' | 'r' | 'l' | 'd' | '!' |\n",
    "|索引值：| -12 | -11 | -10 | -9  | -8  | -7  | -6  | -5  | -4  | -3  | -2  | -1  |"
   ]
  },
  {
   "cell_type": "code",
   "execution_count": null,
   "metadata": {},
   "outputs": [],
   "source": [
    "# 初始化一個字串\n",
    "myStr = 'Hello,World!'"
   ]
  },
  {
   "cell_type": "code",
   "execution_count": null,
   "metadata": {},
   "outputs": [],
   "source": [
    "'''\n",
    "透過冒號（:）進行分割\n",
    "'''\n",
    "# 從頭取到 5（不包含第 5 個元素，實際為 0 ~ 4）\n",
    "print( myStr[0:5] ) # 索引從 0 開始，到 5 - 1 的索引位置\n",
    "\n",
    "# 從頭取到 5（不包含第 5 個元素，實際為 0 ~ 4）\n",
    "print( myStr[:5] ) # 冒號前面留空，效果跟 [0:5] 一樣\n",
    "\n",
    "# 從 7 取到尾\n",
    "print( myStr[7:] )  # 冒號後面留空\n",
    "\n",
    "# 從 7 取到 9（不包含第 9 個元素，實際為 7 ~ 8）\n",
    "print( myStr[7:9] )"
   ]
  },
  {
   "cell_type": "code",
   "execution_count": null,
   "metadata": {},
   "outputs": [],
   "source": [
    "'''\n",
    "使用負號\n",
    "'''\n",
    "# 從倒數第 10 取到倒數第 7（不包含倒數第 7 的元素）\n",
    "print( myStr[-10:-7] )\n",
    "\n",
    "# 從倒數第 5 取到尾\n",
    "print( myStr[-5:] )\n",
    "\n",
    "# 從頭取到倒數第 7（不包含倒數第 7 的元素）\n",
    "print( myStr[:-7] )"
   ]
  },
  {
   "cell_type": "code",
   "execution_count": null,
   "metadata": {},
   "outputs": [],
   "source": [
    "# 取得檔案全名\n",
    "string06 = \"/home/darren/ebook.txt\"\n",
    "list06 = string06.split(\"/\")\n",
    "print(list06[-1])"
   ]
  },
  {
   "cell_type": "code",
   "execution_count": null,
   "metadata": {},
   "outputs": [],
   "source": [
    "# 搜尋字串\n",
    "string07 = 'believe'\n",
    "result07 = string07.find('lie')\n",
    "'''\n",
    "用法\n",
    "string.find(str)\n",
    "說明\n",
    "返回s第一次在字串s中出現的index，若找不到則返回-1\n",
    "'''\n",
    "print(result07)"
   ]
  },
  {
   "cell_type": "markdown",
   "metadata": {},
   "source": [
    "---"
   ]
  },
  {
   "cell_type": "markdown",
   "metadata": {},
   "source": [
    "# Dict\n",
    "- 稱為「字典」，跟其它程式語言的「物件」(Object) 很類似。\n",
    "- 透過大括號 { } 來存放資料。\n",
    "- 結構以 key:value 來儲存資料，key 可以想像成一個變數。\n",
    "- 一個字典可以放置多組 key:value，每組之間用逗號 (,) 分隔。\n",
    "- 例如 {'name': 'Darren', 'age': 18, 'height': 172, 'weight': 100}\n",
    "- 其中 'name' 就是字典其中的 key，而 'Darren' 就是此 key 對應的 value。\n",
    "- 與 List 不同的是，Dict 通常是透過 key 來存取 value，沒有特定的 index。"
   ]
  },
  {
   "cell_type": "code",
   "execution_count": null,
   "metadata": {},
   "outputs": [],
   "source": [
    "# 初始化 dict\n",
    "dict01 = {\"蘋果\": 100, \"橘子\": 20, \"水梨\": 50}\n",
    "print(dict01)\n",
    "\n",
    "'''\n",
    "也可以透過排版，寫成:\n",
    "\n",
    "dict01 = {\n",
    "    \"蘋果\": 100, \n",
    "    \"橘子\": 20, \n",
    "    \"水梨\": 50\n",
    "}\n",
    "'''"
   ]
  },
  {
   "cell_type": "code",
   "execution_count": null,
   "metadata": {},
   "outputs": [],
   "source": [
    "# 印出蘋果的價格\n",
    "print(dict01[\"蘋果\"])"
   ]
  },
  {
   "cell_type": "code",
   "execution_count": null,
   "metadata": {},
   "outputs": [],
   "source": [
    "# 修改橘子的價格\n",
    "dict01[\"橘子\"] = 30\n",
    "print(dict01[\"橘子\"])"
   ]
  },
  {
   "cell_type": "code",
   "execution_count": null,
   "metadata": {},
   "outputs": [],
   "source": [
    "# 刪除 水梨\n",
    "del dict01[\"水梨\"]\n",
    "print(dict01)"
   ]
  }
 ],
 "metadata": {
  "kernelspec": {
   "display_name": "Python 3 (ipykernel)",
   "language": "python",
   "name": "python3"
  },
  "language_info": {
   "codemirror_mode": {
    "name": "ipython",
    "version": 3
   },
   "file_extension": ".py",
   "mimetype": "text/x-python",
   "name": "python",
   "nbconvert_exporter": "python",
   "pygments_lexer": "ipython3",
   "version": "3.9.13"
  },
  "vscode": {
   "interpreter": {
    "hash": "585a938ec471c889bf0cce0aed741a99eaf47ca09c0fa8393793bc5bfe77ba11"
   }
  }
 },
 "nbformat": 4,
 "nbformat_minor": 4
}

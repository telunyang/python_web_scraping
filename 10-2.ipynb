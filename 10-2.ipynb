{
 "cells": [
  {
   "cell_type": "code",
   "execution_count": 1,
   "metadata": {},
   "outputs": [],
   "source": [
    "# 匯入 requests 套件\n",
    "import requests"
   ]
  },
  {
   "cell_type": "code",
   "execution_count": 2,
   "metadata": {},
   "outputs": [
    {
     "name": "stdout",
     "output_type": "stream",
     "text": [
      "{\n",
      "  \"args\": {}, \n",
      "  \"headers\": {\n",
      "    \"Accept\": \"*/*\", \n",
      "    \"Accept-Encoding\": \"gzip, deflate\", \n",
      "    \"Host\": \"httpbin.org\", \n",
      "    \"User-Agent\": \"my-requeest/1.0.0\", \n",
      "    \"X-Amzn-Trace-Id\": \"Root=1-60349c37-050297730aa68648462107ab\"\n",
      "  }, \n",
      "  \"origin\": \"114.43.166.57\", \n",
      "  \"url\": \"https://httpbin.org/get\"\n",
      "}\n",
      "\n"
     ]
    }
   ],
   "source": [
    "# 自訂標頭\n",
    "my_headers = {'user-agent': 'my-requeest/1.0.0'}\n",
    "\n",
    "# 將自訂標頭加入 GET 請求中\n",
    "r = requests.get('https://httpbin.org/get', headers = my_headers)\n",
    "\n",
    "# 輸出網頁 HTML 原始碼\n",
    "print(r.text)"
   ]
  },
  {
   "cell_type": "code",
   "execution_count": 3,
   "metadata": {},
   "outputs": [
    {
     "name": "stdout",
     "output_type": "stream",
     "text": [
      "{\n",
      "  \"args\": {}, \n",
      "  \"headers\": {\n",
      "    \"Accept\": \"*/*\", \n",
      "    \"Accept-Encoding\": \"gzip, deflate\", \n",
      "    \"Cookie\": \"first_cookie=hello; second_cookie=world\", \n",
      "    \"Host\": \"httpbin.org\", \n",
      "    \"User-Agent\": \"python-requests/2.24.0\", \n",
      "    \"X-Amzn-Trace-Id\": \"Root=1-60349c3a-716930bc6ebce21d356cbd39\"\n",
      "  }, \n",
      "  \"origin\": \"114.43.166.57\", \n",
      "  \"url\": \"https://httpbin.org/get\"\n",
      "}\n",
      "\n"
     ]
    }
   ],
   "source": [
    "# 自訂 cookie 格式\n",
    "# jar = requests.cookies.RequestsCookieJar()\n",
    "# jar.set(\"first_cookie\", \"hello\", domain=\"httpbin.org\")\n",
    "# jar.set(\"second_cookie\", \"world\", domain=\"httpbin.org\")\n",
    "\n",
    "# 自訂 cookie 格式\n",
    "my_cookies = {\n",
    "    \"first_cookie\": \"hello\",\n",
    "    \"second_cookie\": \"world\"\n",
    "}\n",
    "\n",
    "# 將 cookie 加入 GET 請求\n",
    "r = requests.get('https://httpbin.org/get', cookies = my_cookies)\n",
    "\n",
    "# 輸出網頁 HTML 原始碼\n",
    "print(r.text)"
   ]
  },
  {
   "cell_type": "code",
   "execution_count": 4,
   "metadata": {},
   "outputs": [
    {
     "name": "stdout",
     "output_type": "stream",
     "text": [
      "<RequestsCookieJar[<Cookie myCookieName=super_mario for httpbin.org/>]>\n",
      "super_mario\n"
     ]
    }
   ],
   "source": [
    "# 開啟 session\n",
    "session = requests.Session()\n",
    "\n",
    "# 透過 session 建立 cookie\n",
    "session.get('https://httpbin.org/cookies/set/myCookieName/super_mario')\n",
    "\n",
    "# 印出所有 cookies\n",
    "print(session.cookies)\n",
    "\n",
    "# 印出自訂的 cookie\n",
    "print(session.cookies['myCookieName'])"
   ]
  }
 ],
 "metadata": {
  "kernelspec": {
   "display_name": "Python 3",
   "language": "python",
   "name": "python3"
  },
  "language_info": {
   "codemirror_mode": {
    "name": "ipython",
    "version": 3
   },
   "file_extension": ".py",
   "mimetype": "text/x-python",
   "name": "python",
   "nbconvert_exporter": "python",
   "pygments_lexer": "ipython3",
   "version": "3.7.9"
  }
 },
 "nbformat": 4,
 "nbformat_minor": 4
}

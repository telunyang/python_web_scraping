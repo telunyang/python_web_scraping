{
 "cells": [
  {
   "cell_type": "code",
   "execution_count": null,
   "metadata": {},
   "outputs": [],
   "source": [
    "'''\n",
    "載入預設套件\n",
    "'''\n",
    "# basic\n",
    "import numpy as np\n",
    "import pandas as pd\n",
    "\n",
    "# get data\n",
    "import pandas_datareader as pdr\n",
    "\n",
    "# visual\n",
    "import matplotlib.pyplot as plt\n",
    "import mpl_finance as mpf\n",
    "import seaborn as sns\n",
    "\n",
    "#time\n",
    "import datetime as datetime"
   ]
  },
  {
   "cell_type": "code",
   "execution_count": null,
   "metadata": {},
   "outputs": [],
   "source": [
    "# 使用pandas_datareader抓取某個股票，這邊使用台積電(2330)\n",
    "start = datetime.datetime(2020,1,1)\n",
    "\n",
    "# 取得 data frame\n",
    "df_2330 = pdr.DataReader('2330.TW', 'yahoo', start=start)\n",
    "\n",
    "# 預覽 data frame\n",
    "df_2330"
   ]
  },
  {
   "cell_type": "code",
   "execution_count": null,
   "metadata": {},
   "outputs": [],
   "source": [
    "# 設定index格式\n",
    "df_2330.index = df_2330.index.format(formatter=lambda x: x.strftime('%Y-%m-%d')) \n",
    "\n",
    "fig = plt.figure(figsize=(24, 8))\n",
    "\n",
    "ax = fig.add_subplot(1, 1, 1)\n",
    "\n",
    "# 設定 x 軸標籤\n",
    "ax.set_xticks(range(0, len(df_2330.index), 10))\n",
    "ax.set_xticklabels(df_2330.index[::10])\n",
    "\n",
    "# 使用mpf.candlestick2_ochl來繪製 K 線圖\n",
    "mpf.candlestick2_ochl(ax, df_2330['Open'], df_2330['Close'], df_2330['High'],\n",
    "                      df_2330['Low'], width=0.6, colorup='r', colordown='g', alpha=0.75); "
   ]
  }
 ],
 "metadata": {
  "kernelspec": {
   "display_name": "Python 3",
   "language": "python",
   "name": "python3"
  },
  "language_info": {
   "codemirror_mode": {
    "name": "ipython",
    "version": 3
   },
   "file_extension": ".py",
   "mimetype": "text/x-python",
   "name": "python",
   "nbconvert_exporter": "python",
   "pygments_lexer": "ipython3",
   "version": "3.7.9"
  }
 },
 "nbformat": 4,
 "nbformat_minor": 4
}

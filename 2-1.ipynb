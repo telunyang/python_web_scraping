{
 "cells": [
  {
   "cell_type": "code",
   "execution_count": 1,
   "metadata": {},
   "outputs": [
    {
     "name": "stdout",
     "output_type": "stream",
     "text": [
      "1,2,3,4\n"
     ]
    }
   ],
   "source": [
    "# 初始化\n",
    "string01 = \"1,2,3,4\"\n",
    "print(string01)"
   ]
  },
  {
   "cell_type": "code",
   "execution_count": 2,
   "metadata": {},
   "outputs": [
    {
     "name": "stdout",
     "output_type": "stream",
     "text": [
      "['1', '2', '3', '4']\n"
     ]
    }
   ],
   "source": [
    "# 字串分割\n",
    "'''\n",
    "用法\n",
    "string.split()\n",
    "說明\n",
    "默認以空格、換行字元分割字串s，返回 list\n",
    "'''\n",
    "list01 = string01.split(',')\n",
    "print(list01)"
   ]
  },
  {
   "cell_type": "code",
   "execution_count": 3,
   "metadata": {},
   "outputs": [
    {
     "name": "stdout",
     "output_type": "stream",
     "text": [
      "將 list 元素合併成字串的結果: 1-2-3-4\n",
      "將 list 元素合併成字串的結果: 1234\n"
     ]
    }
   ],
   "source": [
    "# 將 list 元素合併成字串\n",
    "'''\n",
    "用法\n",
    "string.join(seq)\n",
    "說明\n",
    "以string為分隔符，將seq中的元素串起來成為一個新的字串\n",
    "'''\n",
    "string02 = '-'.join(list01)\n",
    "print(\"將 list 元素合併成字串的結果: {}\".format(string02))\n",
    "\n",
    "string02 = ''.join(list01)\n",
    "print(\"將 list 元素合併成字串的結果: {}\".format(string02))"
   ]
  },
  {
   "cell_type": "code",
   "execution_count": 4,
   "metadata": {},
   "outputs": [
    {
     "name": "stdout",
     "output_type": "stream",
     "text": [
      "2\n"
     ]
    }
   ],
   "source": [
    "# 搜尋字串\n",
    "string03 = 'believe'\n",
    "result03 = string03.find('lie')\n",
    "'''\n",
    "用法\n",
    "string.find(str)\n",
    "說明\n",
    "返回s第一次在字串s中出現的index，若找不到則返回-1\n",
    "'''\n",
    "print(result03)"
   ]
  },
  {
   "cell_type": "code",
   "execution_count": 5,
   "metadata": {},
   "outputs": [
    {
     "name": "stdout",
     "output_type": "stream",
     "text": [
      "Allen\n"
     ]
    }
   ],
   "source": [
    "# 替換字串\n",
    "'''\n",
    "用法\n",
    "string.replace(str1, str2)\n",
    "說明\n",
    "將s中的str1替換成str2\n",
    "'''\n",
    "string04 = \"Alex\"\n",
    "string04 = string04.replace('lex', 'llen')\n",
    "print(string04)"
   ]
  },
  {
   "cell_type": "code",
   "execution_count": 6,
   "metadata": {},
   "outputs": [
    {
     "name": "stdout",
     "output_type": "stream",
     "text": [
      "car\n"
     ]
    }
   ],
   "source": [
    "# 字串變成小寫\n",
    "'''\n",
    "用法\n",
    "string.lower()\n",
    "說明\n",
    "將字串s裡的字母全部改成小寫\n",
    "'''\n",
    "print(\"CAR\".lower())"
   ]
  },
  {
   "cell_type": "code",
   "execution_count": 7,
   "metadata": {},
   "outputs": [
    {
     "name": "stdout",
     "output_type": "stream",
     "text": [
      "GOOD\n"
     ]
    }
   ],
   "source": [
    "# 字串變成大寫\n",
    "'''\n",
    "用法\n",
    "string.upper()\n",
    "說明\n",
    "將字串s裡的字母全部改成大寫\n",
    "'''\n",
    "print(\"good\".upper())"
   ]
  },
  {
   "cell_type": "code",
   "execution_count": 8,
   "metadata": {},
   "outputs": [
    {
     "name": "stdout",
     "output_type": "stream",
     "text": [
      "原先的字串:          ___ccc___\n",
      "去除左邊空格後: ___ccc___\n"
     ]
    }
   ],
   "source": [
    "# 去除字串左邊空格\n",
    "'''\n",
    "用法\n",
    "string.lstrip()\n",
    "說明\n",
    "去除字串s左邊的空格\n",
    "'''\n",
    "string05 = \"         ___ccc___\"\n",
    "print(\"原先的字串: {}\".format(string05))\n",
    "print(\"去除左邊空格後: {}\".format( string05.lstrip() ))"
   ]
  },
  {
   "cell_type": "code",
   "execution_count": 9,
   "metadata": {},
   "outputs": [
    {
     "name": "stdout",
     "output_type": "stream",
     "text": [
      "原先的字串: ___ccc___         \n",
      "去除左邊空格後: ___ccc___\n"
     ]
    }
   ],
   "source": [
    "# 去除字串右邊空格\n",
    "'''\n",
    "用法\n",
    "string.rstrip()\n",
    "說明\n",
    "去除字串s右邊的空格\n",
    "'''\n",
    "string06 = \"___ccc___         \"\n",
    "print(\"原先的字串: {}\".format(string06))\n",
    "print(\"去除左邊空格後: {}\".format( string06.rstrip() ))"
   ]
  },
  {
   "cell_type": "code",
   "execution_count": 10,
   "metadata": {},
   "outputs": [
    {
     "name": "stdout",
     "output_type": "stream",
     "text": [
      "原先的字串:         ___ccc___         \n",
      "去除左邊空格後: ___ccc___\n"
     ]
    }
   ],
   "source": [
    "# 去除字串兩側空格\n",
    "'''\n",
    "用法\n",
    "string.strip()\n",
    "說明\n",
    "去除字串s左、右兩邊的空格\n",
    "'''\n",
    "string07= \"        ___ccc___         \"\n",
    "print(\"原先的字串: {}\".format(string07))\n",
    "print(\"去除左邊空格後: {}\".format( string07.strip() ))"
   ]
  }
 ],
 "metadata": {
  "kernelspec": {
   "display_name": "Python 3",
   "language": "python",
   "name": "python3"
  },
  "language_info": {
   "codemirror_mode": {
    "name": "ipython",
    "version": 3
   },
   "file_extension": ".py",
   "mimetype": "text/x-python",
   "name": "python",
   "nbconvert_exporter": "python",
   "pygments_lexer": "ipython3",
   "version": "3.7.9"
  }
 },
 "nbformat": 4,
 "nbformat_minor": 4
}

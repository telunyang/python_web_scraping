{
 "cells": [
  {
   "cell_type": "code",
   "execution_count": 1,
   "metadata": {},
   "outputs": [],
   "source": [
    "# 匯入套件\n",
    "from bs4 import BeautifulSoup\n",
    "import requests"
   ]
  },
  {
   "cell_type": "code",
   "execution_count": 2,
   "metadata": {},
   "outputs": [],
   "source": [
    "# PTT NBA 板\n",
    "url = \"https://www.ptt.cc/bbs/NBA/index.html\" \n",
    "\n",
    "# 用 requests 的 get 方法把網頁抓下來\n",
    "response = requests.get(url) \n",
    "\n",
    "# 指定 lxml 作為解析器\n",
    "soup = BeautifulSoup(response.text, \"lxml\") "
   ]
  },
  {
   "cell_type": "code",
   "execution_count": null,
   "metadata": {},
   "outputs": [],
   "source": [
    "# 搜尋所有 div，類別名稱為 r-ent，回傳為 list\n",
    "posts = soup.find_all(\"div\", class_ = \"r-ent\")\n",
    "\n",
    "# 印出 list 內容\n",
    "print(posts)\n",
    "\n",
    "# 檢視物件的型態，在這裡是一個 ResultSet\n",
    "print(type(posts))"
   ]
  },
  {
   "cell_type": "code",
   "execution_count": 4,
   "metadata": {},
   "outputs": [
    {
     "name": "stdout",
     "output_type": "stream",
     "text": [
      "['yniori', 'Induction', 'blesstw', 'Induction', 'hvariables', 'hanson90244', 'KINMENKING', 'forever920fv', 'laptic', 'laptic', 'Induction', 'Induction', 'Induction']\n"
     ]
    }
   ],
   "source": [
    "'''\n",
    "一般我們使用迴圈將裡面的每一個元素再抓出來，\n",
    "準備收集作者 id\n",
    "'''\n",
    "# 建立一個空的 list 來放置作者 id\n",
    "author_ids = [] \n",
    "\n",
    "# 搜尋 class name 為 r-ent 的 div 集合 \n",
    "posts = soup.find_all(\"div\", class_ = \"r-ent\")\n",
    "\n",
    "# 透過迭代方式一個一個將 author 擷取回來\n",
    "for post in posts:\n",
    "    # .extend() 是加入「資料集合」到 list 的尾端\n",
    "    author_ids.extend(post.find(\"div\", class_ = \"author\"))\n",
    "\n",
    "print(author_ids)"
   ]
  },
  {
   "cell_type": "code",
   "execution_count": null,
   "metadata": {},
   "outputs": [],
   "source": [
    "'''\n",
    "以下透過 CSS selector 取得元素，\n",
    "回傳格式為 list\n",
    "'''\n",
    "# 輸出 title\n",
    "print(soup.select_one('title'))\n",
    "\n",
    "# 輸出 a，\n",
    "print(soup.select('a'))\n",
    "\n",
    "# 透過 class 名稱取得元素\n",
    "print(soup.select(\"a.board\"))\n",
    "\n",
    "# 透過 id 名稱取得元素\n",
    "print(soup.select_one(\"#logo\"))"
   ]
  },
  {
   "cell_type": "code",
   "execution_count": 6,
   "metadata": {},
   "outputs": [
    {
     "name": "stdout",
     "output_type": "stream",
     "text": [
      "[<a class=\"btn wide\" href=\"/bbs/NBA/index1.html\">最舊</a>, <a class=\"btn wide\" href=\"/bbs/NBA/index6506.html\">‹ 上頁</a>, <a class=\"btn wide\" href=\"/bbs/NBA/index.html\">最新</a>]\n"
     ]
    }
   ],
   "source": [
    "# 透過 attribute 取得元素\n",
    "print(soup.select('a[class=\"btn wide\"]'))"
   ]
  }
 ],
 "metadata": {
  "kernelspec": {
   "display_name": "Python 3",
   "language": "python",
   "name": "python3"
  },
  "language_info": {
   "codemirror_mode": {
    "name": "ipython",
    "version": 3
   },
   "file_extension": ".py",
   "mimetype": "text/x-python",
   "name": "python",
   "nbconvert_exporter": "python",
   "pygments_lexer": "ipython3",
   "version": "3.8.8"
  }
 },
 "nbformat": 4,
 "nbformat_minor": 4
}

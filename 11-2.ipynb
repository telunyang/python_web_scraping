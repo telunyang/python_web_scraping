{
 "cells": [
  {
   "cell_type": "code",
   "execution_count": 1,
   "metadata": {},
   "outputs": [],
   "source": [
    "# 匯入套件\n",
    "from bs4 import BeautifulSoup\n",
    "import requests"
   ]
  },
  {
   "cell_type": "code",
   "execution_count": 2,
   "metadata": {},
   "outputs": [],
   "source": [
    "# PTT NBA 板\n",
    "url = \"https://www.ptt.cc/bbs/NBA/index.html\" \n",
    "\n",
    "# 用 requests 的 get 方法把網頁抓下來\n",
    "response = requests.get(url) \n",
    "\n",
    "# 指定 lxml 作為解析器\n",
    "soup = BeautifulSoup(response.text, \"lxml\") "
   ]
  },
  {
   "cell_type": "code",
   "execution_count": 3,
   "metadata": {},
   "outputs": [
    {
     "name": "stdout",
     "output_type": "stream",
     "text": [
      "[<div class=\"r-ent\">\n",
      "<div class=\"nrec\"><span class=\"hl f3\">13</span></div>\n",
      "<div class=\"title\">\n",
      "<a href=\"/bbs/NBA/M.1633390721.A.D7E.html\">[Live] 熱身賽   七六人隊 VS 暴龍隊</a>\n",
      "</div>\n",
      "<div class=\"meta\">\n",
      "<div class=\"author\">thnlkj0665</div>\n",
      "<div class=\"article-menu\">\n",
      "<div class=\"trigger\">⋯</div>\n",
      "<div class=\"dropdown\">\n",
      "<div class=\"item\"><a href=\"/bbs/NBA/search?q=thread%3A%5BLive%5D+%E7%86%B1%E8%BA%AB%E8%B3%BD+++%E4%B8%83%E5%85%AD%E4%BA%BA%E9%9A%8A+VS+%E6%9A%B4%E9%BE%8D%E9%9A%8A\">搜尋同標題文章</a></div>\n",
      "<div class=\"item\"><a href=\"/bbs/NBA/search?q=author%3Athnlkj0665\">搜尋看板內 thnlkj0665 的文章</a></div>\n",
      "</div>\n",
      "</div>\n",
      "<div class=\"date\">10/05</div>\n",
      "<div class=\"mark\"></div>\n",
      "</div>\n",
      "</div>, <div class=\"r-ent\">\n",
      "<div class=\"nrec\"></div>\n",
      "<div class=\"title\">\n",
      "<a href=\"/bbs/NBA/M.1633393661.A.6A6.html\">[情報] 富保羅告知76人西門在費城感到內心非常</a>\n",
      "</div>\n",
      "<div class=\"meta\">\n",
      "<div class=\"author\">arod1414</div>\n",
      "<div class=\"article-menu\">\n",
      "<div class=\"trigger\">⋯</div>\n",
      "<div class=\"dropdown\">\n",
      "<div class=\"item\"><a href=\"/bbs/NBA/search?q=thread%3A%5B%E6%83%85%E5%A0%B1%5D+%E5%AF%8C%E4%BF%9D%E7%BE%85%E5%91%8A%E7%9F%A576%E4%BA%BA%E8%A5%BF%E9%96%80%E5%9C%A8%E8%B2%BB%E5%9F%8E%E6%84%9F%E5%88%B0%E5%85%A7%E5%BF%83%E9%9D%9E%E5%B8%B8\">搜尋同標題文章</a></div>\n",
      "<div class=\"item\"><a href=\"/bbs/NBA/search?q=author%3Aarod1414\">搜尋看板內 arod1414 的文章</a></div>\n",
      "</div>\n",
      "</div>\n",
      "<div class=\"date\">10/05</div>\n",
      "<div class=\"mark\"></div>\n",
      "</div>\n",
      "</div>, <div class=\"r-ent\">\n",
      "<div class=\"nrec\"></div>\n",
      "<div class=\"title\">\n",
      "<a href=\"/bbs/NBA/M.1623237350.A.918.html\">[公告] 板規v8.6</a>\n",
      "</div>\n",
      "<div class=\"meta\">\n",
      "<div class=\"author\">Induction</div>\n",
      "<div class=\"article-menu\">\n",
      "<div class=\"trigger\">⋯</div>\n",
      "<div class=\"dropdown\">\n",
      "<div class=\"item\"><a href=\"/bbs/NBA/search?q=thread%3A%5B%E5%85%AC%E5%91%8A%5D+%E6%9D%BF%E8%A6%8Fv8.6\">搜尋同標題文章</a></div>\n",
      "<div class=\"item\"><a href=\"/bbs/NBA/search?q=author%3AInduction\">搜尋看板內 Induction 的文章</a></div>\n",
      "</div>\n",
      "</div>\n",
      "<div class=\"date\"> 6/09</div>\n",
      "<div class=\"mark\">!</div>\n",
      "</div>\n",
      "</div>, <div class=\"r-ent\">\n",
      "<div class=\"nrec\"><span class=\"hl f3\">13</span></div>\n",
      "<div class=\"title\">\n",
      "<a href=\"/bbs/NBA/M.1626883322.A.872.html\">[公告] NBA板救濟專案啟動 &amp; 借用板主位置</a>\n",
      "</div>\n",
      "<div class=\"meta\">\n",
      "<div class=\"author\">Vedan</div>\n",
      "<div class=\"article-menu\">\n",
      "<div class=\"trigger\">⋯</div>\n",
      "<div class=\"dropdown\">\n",
      "<div class=\"item\"><a href=\"/bbs/NBA/search?q=thread%3A%5B%E5%85%AC%E5%91%8A%5D+NBA%E6%9D%BF%E6%95%91%E6%BF%9F%E5%B0%88%E6%A1%88%E5%95%9F%E5%8B%95+%26+%E5%80%9F%E7%94%A8%E6%9D%BF%E4%B8%BB%E4%BD%8D%E7%BD%AE\">搜尋同標題文章</a></div>\n",
      "<div class=\"item\"><a href=\"/bbs/NBA/search?q=author%3AVedan\">搜尋看板內 Vedan 的文章</a></div>\n",
      "</div>\n",
      "</div>\n",
      "<div class=\"date\"> 7/22</div>\n",
      "<div class=\"mark\">M</div>\n",
      "</div>\n",
      "</div>, <div class=\"r-ent\">\n",
      "<div class=\"nrec\"><span class=\"hl f3\">90</span></div>\n",
      "<div class=\"title\">\n",
      "<a href=\"/bbs/NBA/M.1627458582.A.571.html\">[情報] 2021-22 自由市場 開市總整理   (9/3)</a>\n",
      "</div>\n",
      "<div class=\"meta\">\n",
      "<div class=\"author\">laigei</div>\n",
      "<div class=\"article-menu\">\n",
      "<div class=\"trigger\">⋯</div>\n",
      "<div class=\"dropdown\">\n",
      "<div class=\"item\"><a href=\"/bbs/NBA/search?q=thread%3A%5B%E6%83%85%E5%A0%B1%5D+2021-22+%E8%87%AA%E7%94%B1%E5%B8%82%E5%A0%B4+%E9%96%8B%E5%B8%82%E7%B8%BD%E6%95%B4%E7%90%86+++%289%2F3%29\">搜尋同標題文章</a></div>\n",
      "<div class=\"item\"><a href=\"/bbs/NBA/search?q=author%3Alaigei\">搜尋看板內 laigei 的文章</a></div>\n",
      "</div>\n",
      "</div>\n",
      "<div class=\"date\"> 7/28</div>\n",
      "<div class=\"mark\">M</div>\n",
      "</div>\n",
      "</div>, <div class=\"r-ent\">\n",
      "<div class=\"nrec\"><span class=\"hl f3\">69</span></div>\n",
      "<div class=\"title\">\n",
      "<a href=\"/bbs/NBA/M.1627629263.A.65C.html\">[情報] 2021-22 自由市場 球隊異動表格 (9/3)</a>\n",
      "</div>\n",
      "<div class=\"meta\">\n",
      "<div class=\"author\">laigei</div>\n",
      "<div class=\"article-menu\">\n",
      "<div class=\"trigger\">⋯</div>\n",
      "<div class=\"dropdown\">\n",
      "<div class=\"item\"><a href=\"/bbs/NBA/search?q=thread%3A%5B%E6%83%85%E5%A0%B1%5D+2021-22+%E8%87%AA%E7%94%B1%E5%B8%82%E5%A0%B4+%E7%90%83%E9%9A%8A%E7%95%B0%E5%8B%95%E8%A1%A8%E6%A0%BC+%289%2F3%29\">搜尋同標題文章</a></div>\n",
      "<div class=\"item\"><a href=\"/bbs/NBA/search?q=author%3Alaigei\">搜尋看板內 laigei 的文章</a></div>\n",
      "</div>\n",
      "</div>\n",
      "<div class=\"date\"> 7/30</div>\n",
      "<div class=\"mark\">M</div>\n",
      "</div>\n",
      "</div>, <div class=\"r-ent\">\n",
      "<div class=\"nrec\"><span class=\"hl f3\">22</span></div>\n",
      "<div class=\"title\">\n",
      "<a href=\"/bbs/NBA/M.1632707110.A.6D0.html\">[情報] 季前熱身賽賽程 21–22</a>\n",
      "</div>\n",
      "<div class=\"meta\">\n",
      "<div class=\"author\">laptic</div>\n",
      "<div class=\"article-menu\">\n",
      "<div class=\"trigger\">⋯</div>\n",
      "<div class=\"dropdown\">\n",
      "<div class=\"item\"><a href=\"/bbs/NBA/search?q=thread%3A%5B%E6%83%85%E5%A0%B1%5D+%E5%AD%A3%E5%89%8D%E7%86%B1%E8%BA%AB%E8%B3%BD%E8%B3%BD%E7%A8%8B+21%E2%80%9322\">搜尋同標題文章</a></div>\n",
      "<div class=\"item\"><a href=\"/bbs/NBA/search?q=author%3Alaptic\">搜尋看板內 laptic 的文章</a></div>\n",
      "</div>\n",
      "</div>\n",
      "<div class=\"date\"> 9/27</div>\n",
      "<div class=\"mark\"></div>\n",
      "</div>\n",
      "</div>]\n",
      "<class 'bs4.element.ResultSet'>\n"
     ]
    }
   ],
   "source": [
    "# 搜尋所有 div，類別名稱為 r-ent，回傳為 list\n",
    "posts = soup.find_all(\"div\", class_ = \"r-ent\")\n",
    "\n",
    "# 印出 list 內容\n",
    "print(posts)\n",
    "\n",
    "# 檢視物件的型態，在這裡是一個 ResultSet\n",
    "print(type(posts))"
   ]
  },
  {
   "cell_type": "code",
   "execution_count": 4,
   "metadata": {},
   "outputs": [
    {
     "name": "stdout",
     "output_type": "stream",
     "text": [
      "[<div class=\"author\">thnlkj0665</div>, <div class=\"author\">arod1414</div>, <div class=\"author\">Induction</div>, <div class=\"author\">Vedan</div>, <div class=\"author\">laigei</div>, <div class=\"author\">laigei</div>, <div class=\"author\">laptic</div>]\n"
     ]
    }
   ],
   "source": [
    "'''\n",
    "一般我們使用迴圈將裡面的每一個元素再抓出來，\n",
    "準備收集作者 id\n",
    "'''\n",
    "# 建立一個空的 list 來放置作者 id\n",
    "author_ids = [] \n",
    "\n",
    "# 搜尋 class name 為 r-ent 的 div 集合 \n",
    "posts = soup.find_all(\"div\", class_ = \"r-ent\")\n",
    "\n",
    "# 透過迭代方式一個一個將 author 擷取回來\n",
    "for post in posts:\n",
    "    author_ids.append(post.find(\"div\", class_ = \"author\"))\n",
    "\n",
    "print(author_ids)"
   ]
  },
  {
   "cell_type": "code",
   "execution_count": 5,
   "metadata": {},
   "outputs": [
    {
     "name": "stdout",
     "output_type": "stream",
     "text": [
      "<title>看板 NBA 文章列表 - 批踢踢實業坊</title>\n",
      "[<a href=\"/bbs/\" id=\"logo\">批踢踢實業坊</a>, <a class=\"board\" href=\"/bbs/NBA/index.html\"><span class=\"board-label\">看板 </span>NBA</a>, <a class=\"right small\" href=\"/about.html\">關於我們</a>, <a class=\"right small\" href=\"/contact.html\">聯絡資訊</a>, <a class=\"btn selected\" href=\"/bbs/NBA/index.html\">看板</a>, <a class=\"btn\" href=\"/man/NBA/index.html\">精華區</a>, <a class=\"btn wide\" href=\"/bbs/NBA/index1.html\">最舊</a>, <a class=\"btn wide\" href=\"/bbs/NBA/index6497.html\">‹ 上頁</a>, <a class=\"btn wide disabled\">下頁 ›</a>, <a class=\"btn wide\" href=\"/bbs/NBA/index.html\">最新</a>, <a href=\"/bbs/NBA/M.1633390721.A.D7E.html\">[Live] 熱身賽   七六人隊 VS 暴龍隊</a>, <a href=\"/bbs/NBA/search?q=thread%3A%5BLive%5D+%E7%86%B1%E8%BA%AB%E8%B3%BD+++%E4%B8%83%E5%85%AD%E4%BA%BA%E9%9A%8A+VS+%E6%9A%B4%E9%BE%8D%E9%9A%8A\">搜尋同標題文章</a>, <a href=\"/bbs/NBA/search?q=author%3Athnlkj0665\">搜尋看板內 thnlkj0665 的文章</a>, <a href=\"/bbs/NBA/M.1633393661.A.6A6.html\">[情報] 富保羅告知76人西門在費城感到內心非常</a>, <a href=\"/bbs/NBA/search?q=thread%3A%5B%E6%83%85%E5%A0%B1%5D+%E5%AF%8C%E4%BF%9D%E7%BE%85%E5%91%8A%E7%9F%A576%E4%BA%BA%E8%A5%BF%E9%96%80%E5%9C%A8%E8%B2%BB%E5%9F%8E%E6%84%9F%E5%88%B0%E5%85%A7%E5%BF%83%E9%9D%9E%E5%B8%B8\">搜尋同標題文章</a>, <a href=\"/bbs/NBA/search?q=author%3Aarod1414\">搜尋看板內 arod1414 的文章</a>, <a href=\"/bbs/NBA/M.1623237350.A.918.html\">[公告] 板規v8.6</a>, <a href=\"/bbs/NBA/search?q=thread%3A%5B%E5%85%AC%E5%91%8A%5D+%E6%9D%BF%E8%A6%8Fv8.6\">搜尋同標題文章</a>, <a href=\"/bbs/NBA/search?q=author%3AInduction\">搜尋看板內 Induction 的文章</a>, <a href=\"/bbs/NBA/M.1626883322.A.872.html\">[公告] NBA板救濟專案啟動 &amp; 借用板主位置</a>, <a href=\"/bbs/NBA/search?q=thread%3A%5B%E5%85%AC%E5%91%8A%5D+NBA%E6%9D%BF%E6%95%91%E6%BF%9F%E5%B0%88%E6%A1%88%E5%95%9F%E5%8B%95+%26+%E5%80%9F%E7%94%A8%E6%9D%BF%E4%B8%BB%E4%BD%8D%E7%BD%AE\">搜尋同標題文章</a>, <a href=\"/bbs/NBA/search?q=author%3AVedan\">搜尋看板內 Vedan 的文章</a>, <a href=\"/bbs/NBA/M.1627458582.A.571.html\">[情報] 2021-22 自由市場 開市總整理   (9/3)</a>, <a href=\"/bbs/NBA/search?q=thread%3A%5B%E6%83%85%E5%A0%B1%5D+2021-22+%E8%87%AA%E7%94%B1%E5%B8%82%E5%A0%B4+%E9%96%8B%E5%B8%82%E7%B8%BD%E6%95%B4%E7%90%86+++%289%2F3%29\">搜尋同標題文章</a>, <a href=\"/bbs/NBA/search?q=author%3Alaigei\">搜尋看板內 laigei 的文章</a>, <a href=\"/bbs/NBA/M.1627629263.A.65C.html\">[情報] 2021-22 自由市場 球隊異動表格 (9/3)</a>, <a href=\"/bbs/NBA/search?q=thread%3A%5B%E6%83%85%E5%A0%B1%5D+2021-22+%E8%87%AA%E7%94%B1%E5%B8%82%E5%A0%B4+%E7%90%83%E9%9A%8A%E7%95%B0%E5%8B%95%E8%A1%A8%E6%A0%BC+%289%2F3%29\">搜尋同標題文章</a>, <a href=\"/bbs/NBA/search?q=author%3Alaigei\">搜尋看板內 laigei 的文章</a>, <a href=\"/bbs/NBA/M.1632707110.A.6D0.html\">[情報] 季前熱身賽賽程 21–22</a>, <a href=\"/bbs/NBA/search?q=thread%3A%5B%E6%83%85%E5%A0%B1%5D+%E5%AD%A3%E5%89%8D%E7%86%B1%E8%BA%AB%E8%B3%BD%E8%B3%BD%E7%A8%8B+21%E2%80%9322\">搜尋同標題文章</a>, <a href=\"/bbs/NBA/search?q=author%3Alaptic\">搜尋看板內 laptic 的文章</a>]\n",
      "[<a class=\"board\" href=\"/bbs/NBA/index.html\"><span class=\"board-label\">看板 </span>NBA</a>]\n",
      "<a href=\"/bbs/\" id=\"logo\">批踢踢實業坊</a>\n"
     ]
    }
   ],
   "source": [
    "'''\n",
    "以下透過 CSS selector 取得元素，\n",
    "回傳格式為 list\n",
    "'''\n",
    "# 輸出 title\n",
    "print(soup.select_one('title'))\n",
    "\n",
    "# 輸出 a，\n",
    "print(soup.select('a'))\n",
    "\n",
    "# 透過 class 名稱取得元素\n",
    "print(soup.select(\"a.board\"))\n",
    "\n",
    "# 透過 id 名稱取得元素\n",
    "print(soup.select_one(\"#logo\"))"
   ]
  },
  {
   "cell_type": "code",
   "execution_count": 6,
   "metadata": {},
   "outputs": [
    {
     "name": "stdout",
     "output_type": "stream",
     "text": [
      "[<a class=\"btn wide\" href=\"/bbs/NBA/index1.html\">最舊</a>, <a class=\"btn wide\" href=\"/bbs/NBA/index6497.html\">‹ 上頁</a>, <a class=\"btn wide\" href=\"/bbs/NBA/index.html\">最新</a>]\n"
     ]
    }
   ],
   "source": [
    "# 透過 attribute 取得元素\n",
    "print(soup.select('a[class=\"btn wide\"]'))"
   ]
  }
 ],
 "metadata": {
  "kernelspec": {
   "display_name": "Python 3",
   "language": "python",
   "name": "python3"
  },
  "language_info": {
   "codemirror_mode": {
    "name": "ipython",
    "version": 3
   },
   "file_extension": ".py",
   "mimetype": "text/x-python",
   "name": "python",
   "nbconvert_exporter": "python",
   "pygments_lexer": "ipython3",
   "version": "3.8.8"
  }
 },
 "nbformat": 4,
 "nbformat_minor": 4
}

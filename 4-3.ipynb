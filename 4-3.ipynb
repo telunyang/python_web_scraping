{
 "cells": [
  {
   "cell_type": "code",
   "execution_count": 1,
   "metadata": {},
   "outputs": [
    {
     "name": "stdout",
     "output_type": "stream",
     "text": [
      "20\n",
      "1.110000\n",
      "1.1\n",
      "My name is Darren\n"
     ]
    }
   ],
   "source": [
    "# 百分比(%)\n",
    "print('%d' % 20) # 格式化整數\n",
    "print('%f' % 1.11)  # 預設保留6位小數\n",
    "print('%.1f' % 1.11)  # 取1位小數\n",
    "print('My name is %s' % 'Darren') # 格式化字串"
   ]
  },
  {
   "cell_type": "code",
   "execution_count": 2,
   "metadata": {},
   "outputs": [
    {
     "name": "stdout",
     "output_type": "stream",
     "text": [
      "My name is Darren and my age is 18\n"
     ]
    }
   ],
   "source": [
    "# str.format => 作法:'{}'.format()\n",
    "name = \"Darren\"\n",
    "age = 18\n",
    "str01 = \"My name is {} and my age is {}\".format(name, age)\n",
    "print(str01)"
   ]
  },
  {
   "cell_type": "code",
   "execution_count": 3,
   "metadata": {},
   "outputs": [
    {
     "name": "stdout",
     "output_type": "stream",
     "text": [
      "My name is Darren and my age is 18\n"
     ]
    }
   ],
   "source": [
    "# f-string(又作 formatted string literals, version >= 3.6)\n",
    "name = \"Darren\"\n",
    "age = 18\n",
    "str02 = f\"My name is {name} and my age is {age}\"\n",
    "print(str02)"
   ]
  }
 ],
 "metadata": {
  "kernelspec": {
   "display_name": "Python 3",
   "language": "python",
   "name": "python3"
  },
  "language_info": {
   "codemirror_mode": {
    "name": "ipython",
    "version": 3
   },
   "file_extension": ".py",
   "mimetype": "text/x-python",
   "name": "python",
   "nbconvert_exporter": "python",
   "pygments_lexer": "ipython3",
   "version": "3.8.8"
  }
 },
 "nbformat": 4,
 "nbformat_minor": 4
}

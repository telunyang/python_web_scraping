{
 "cells": [
  {
   "cell_type": "code",
   "execution_count": null,
   "metadata": {},
   "outputs": [],
   "source": [
    "'''\n",
    "Python 基礎教學\n",
    "https://www.runoob.com/python/python-tutorial.html\n",
    "'''"
   ]
  },
  {
   "cell_type": "markdown",
   "metadata": {},
   "source": [
    "# if ... else; if ... elif ... else"
   ]
  },
  {
   "cell_type": "code",
   "execution_count": null,
   "metadata": {},
   "outputs": [],
   "source": [
    "# if 敘述\n",
    "num = 10\n",
    "\n",
    "'''\n",
    "可以用以下符號來進行條件判斷\n",
    "== (等於)\n",
    "> (大於)\n",
    ">= (大於等於)\n",
    "< (小於)\n",
    "<= (小於等於)\n",
    "!= (不等於)\n",
    "'''\n",
    "if num > 5:\n",
    "    print(\"num 大於 5\")"
   ]
  },
  {
   "cell_type": "code",
   "execution_count": null,
   "metadata": {},
   "outputs": [],
   "source": [
    "# if else 敘述\n",
    "name = 'apple'\n",
    "\n",
    "if name == 'apple':\n",
    "    print('名稱是 apple')\n",
    "else:\n",
    "    print(\"名稱不是 apple\")"
   ]
  },
  {
   "cell_type": "code",
   "execution_count": null,
   "metadata": {},
   "outputs": [],
   "source": [
    "# if elif else\n",
    "name = 'darren'\n",
    "\n",
    "if name == \"alex\":\n",
    "    print(\"名稱: alex\")\n",
    "elif name == \"bill\":\n",
    "    print(\"名稱: bill\")\n",
    "elif name == \"carl\":\n",
    "    print(\"名稱: carl\")\n",
    "elif name == \"darren\":\n",
    "    print(\"名稱: darren\")\n",
    "else:\n",
    "    print(\"Not found\")"
   ]
  },
  {
   "cell_type": "markdown",
   "metadata": {},
   "source": [
    "---\n",
    "# while; for"
   ]
  },
  {
   "cell_type": "code",
   "execution_count": null,
   "metadata": {},
   "outputs": [],
   "source": [
    "# while 迴圈\n",
    "count = 1\n",
    "while count <= 5:\n",
    "    print(count, end=\"\")\n",
    "    count = count + 1"
   ]
  },
  {
   "cell_type": "code",
   "execution_count": null,
   "metadata": {},
   "outputs": [],
   "source": [
    "# for 迴圈 01\n",
    "'''\n",
    "用法\n",
    "range(n, m)\n",
    "說明\n",
    "會走訪 n 到 m-1 的數字\n",
    "'''\n",
    "for i in range(5,8):\n",
    "    print(i, end = \",\")"
   ]
  },
  {
   "cell_type": "code",
   "execution_count": null,
   "metadata": {},
   "outputs": [],
   "source": [
    "# for 迴圈 02\n",
    "'''\n",
    "用法\n",
    "range(n, m, step)\n",
    "說明\n",
    "以每step為間距，走訪 n 到 m-1 的數字\n",
    "'''\n",
    "for i in range(5,20,2):\n",
    "    print(i, end = \",\")"
   ]
  },
  {
   "cell_type": "markdown",
   "metadata": {},
   "source": [
    "---\n",
    "# break; continue; pass"
   ]
  },
  {
   "cell_type": "code",
   "execution_count": null,
   "metadata": {},
   "outputs": [],
   "source": [
    "# break\n",
    "'''\n",
    "說明\n",
    "當偵測到字母 t 時，就會強制結束迴圈\n",
    "'''\n",
    "for char in 'content':\n",
    "    if char == 't':\n",
    "        break\n",
    "    print(char, end=\"\")"
   ]
  },
  {
   "cell_type": "code",
   "execution_count": null,
   "metadata": {},
   "outputs": [],
   "source": [
    "# continue\n",
    "'''\n",
    "說明\n",
    "當偵測到字母 t 時，\n",
    "會跳過本次迴圈剩下的程式碼 print(string)，\n",
    "但不會結束迴圈，仍然會進入下一圈繼續執行\n",
    "'''\n",
    "for char in 'content':\n",
    "    if char == 't':\n",
    "        continue\n",
    "    print(char, end=\"\")"
   ]
  },
  {
   "cell_type": "code",
   "execution_count": null,
   "metadata": {},
   "outputs": [],
   "source": [
    "# pass\n",
    "'''\n",
    "說明\n",
    "當偵測到字母 t 時，會忽略該條件，繼續像正常迴圈一樣運行程序\n",
    "備註\n",
    "有時候寫 pass，是為了將某塊或某行列入 to-do\n",
    "'''\n",
    "for char in 'content':\n",
    "    if char == 't':\n",
    "        pass\n",
    "    print(char, end=\"\")"
   ]
  }
 ],
 "metadata": {
  "kernelspec": {
   "display_name": "Python 3",
   "language": "python",
   "name": "python3"
  },
  "language_info": {
   "codemirror_mode": {
    "name": "ipython",
    "version": 3
   },
   "file_extension": ".py",
   "mimetype": "text/x-python",
   "name": "python",
   "nbconvert_exporter": "python",
   "pygments_lexer": "ipython3",
   "version": "3.8.8"
  }
 },
 "nbformat": 4,
 "nbformat_minor": 4
}

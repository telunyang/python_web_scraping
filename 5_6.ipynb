{
 "cells": [
  {
   "cell_type": "markdown",
   "metadata": {},
   "source": [
    "# 正規表達式 Regular Expression"
   ]
  },
  {
   "cell_type": "code",
   "execution_count": null,
   "metadata": {},
   "outputs": [],
   "source": [
    "# 匯入 regex 套件\n",
    "import re\n",
    "\n",
    "'''\n",
    "更多操作，可以參考這裡\n",
    "https://www.runoob.com/python3/python3-reg-expressions.html\n",
    "'''"
   ]
  },
  {
   "cell_type": "code",
   "execution_count": null,
   "metadata": {},
   "outputs": [],
   "source": [
    "# search\n",
    "'''\n",
    "說明\n",
    "re.search 會將整個字串進行搜尋，\n",
    "但只會比對到第一組，\n",
    "match[0]是regex所代表的整個完整比對的字串，\n",
    "match[1]是第一組()中的內容，\n",
    "match[2]是第二組()中的內容...\n",
    "'''\n",
    "regex01 = r'[a-zA-Z]([12])\\d{8}'\n",
    "string01 = \"A123456789, S299888777\"\n",
    "match01 = re.search(regex01, string01)\n",
    "print(match01)\n",
    "print(match01[0])\n",
    "print(match01[1])\n",
    "'''\n",
    "match.group() 或 match.group(0) 是regex所代表的整個完整比對的字串，\n",
    "match.group(1)是第一組()中的內容，\n",
    "match.group(2)是第二組()中的內容...\n",
    "'''\n",
    "print(match01.group(0))\n",
    "print(match01.group(1))"
   ]
  },
  {
   "cell_type": "code",
   "execution_count": null,
   "metadata": {},
   "outputs": [],
   "source": [
    "# findall\n",
    "'''\n",
    "說明\n",
    "re.findall 會將所有配對到的字串\n",
    "回傳成一個 list\n",
    "'''\n",
    "regex02 = r'[0-9]+'\n",
    "string02 = \"0911111111, 0922222222, 0933333333\"\n",
    "listMatch02 = re.findall(regex02, string02)\n",
    "print(listMatch02)\n",
    "print(listMatch02[0])\n",
    "print(listMatch02[2])"
   ]
  },
  {
   "cell_type": "code",
   "execution_count": null,
   "metadata": {},
   "outputs": [],
   "source": [
    "# finditer\n",
    "'''\n",
    "說明\n",
    "re.finditer 會將所有配對到的字串\n",
    "以迭代的方式呈現，若沒有配對到，則回傳 None\n",
    "'''\n",
    "regex03 = r'[0-9]+'\n",
    "string03 = \"0911111111, 0922222222, 0933333333\"\n",
    "iterableMatch03 = re.finditer(regex03, string03)\n",
    "if iterableMatch03 != None:\n",
    "    for match in iterableMatch03:\n",
    "        print(match[0])"
   ]
  },
  {
   "cell_type": "code",
   "execution_count": null,
   "metadata": {},
   "outputs": [],
   "source": [
    "# match\n",
    "'''\n",
    "說明\n",
    "re.match 與 re.search 的差別，\n",
    "在於 match 會從字串的「開頭」開始比對，\n",
    "比對不到，便回傳 None\n",
    "'''\n",
    "regex04 = r'2[0-9]{3}\\/[0-1]?[0-9]{1}\\/([0-3]?[0-9])'\n",
    "string04 = \"2020/06/10\"\n",
    "match04 = re.match(regex04, string04)\n",
    "print(match04)\n",
    "print(match04[0])\n",
    "print(match04[1])"
   ]
  },
  {
   "cell_type": "code",
   "execution_count": null,
   "metadata": {},
   "outputs": [],
   "source": [
    "# split\n",
    "'''\n",
    "說明\n",
    "re.split 類似 string.split('separator')，\n",
    "只是用正規表達式來作為 separator，\n",
    "並回傳 list\n",
    "'''\n",
    "regex06 = r'\\d'\n",
    "string06 = \"One1Two2Three3Four4\"\n",
    "listMatch06 = re.split(regex06, string06)\n",
    "print(listMatch06)"
   ]
  },
  {
   "cell_type": "code",
   "execution_count": null,
   "metadata": {},
   "outputs": [],
   "source": [
    "# sub\n",
    "'''\n",
    "說明\n",
    "re.sub(regex, replace_string, test_string)\n",
    "將 regex 所代表的文字，改成 replace_string，文字來源是 test_string\n",
    "'''\n",
    "regex07 = r\"\\D\"\n",
    "string07 = \"2022-02-14 #1314\"\n",
    "strResult = re.sub(regex07, \"\", string07)\n",
    "print(strResult)"
   ]
  },
  {
   "cell_type": "markdown",
   "metadata": {},
   "source": [
    "---\n",
    "# 具名群組"
   ]
  },
  {
   "cell_type": "code",
   "execution_count": null,
   "metadata": {},
   "outputs": [],
   "source": [
    "# named group\n",
    "regex01 = r'https?:\\/\\/(?P<domain_name>[a-z]+\\.[a-z]+\\.[a-z]+)+\\/(?P<ig_id>[a-z.]+)\\/'\n",
    "string01 = \"https://www.instagram.com/darreninfo.cc/\"\n",
    "match01 = re.match(regex01, string01)\n",
    "'''\n",
    "說明\n",
    "除了 .group(n) 以外，\n",
    "還可以做用 name，\n",
    "作為 key 來存取 group()\n",
    "'''\n",
    "print(match01.group())\n",
    "print(match01.group('domain_name'))\n",
    "print(match01.group('ig_id'))\n",
    "print(match01['domain_name'])\n",
    "print(match01['ig_id'])\n",
    "print(match01[1])\n",
    "print(match01[2])"
   ]
  },
  {
   "cell_type": "code",
   "execution_count": null,
   "metadata": {},
   "outputs": [],
   "source": [
    "# E-mail\n",
    "'''\n",
    "說明\n",
    "透過 named group 取得 username、domain name\n",
    "'''\n",
    "regex02 = r'(?P<username>[a-zA-Z0-9]+)@(?P<domain_name>[0-9A-Za-z]+\\.[0-9A-Za-z]+)'\n",
    "string02 = \"darren@darreninfo.cc\"\n",
    "match02 = re.match(regex02, string02)\n",
    "print(match02.group())\n",
    "print(match02.group('username'))\n",
    "print(match02.group('domain_name'))"
   ]
  },
  {
   "cell_type": "code",
   "execution_count": null,
   "metadata": {},
   "outputs": [],
   "source": [
    "# url\n",
    "regex03 = r'https?:\\/\\/(?P<domain_name>[a-z.]+)\\/(?P<username>[a-z.]+)\\/'\n",
    "string03 = \"https://www.instagram.com/darreninfo.cc/\"\n",
    "match03 = re.match(regex03, string03)\n",
    "print(match03.group())\n",
    "print(match03.group('domain_name'))\n",
    "print(match03.group('username'))"
   ]
  },
  {
   "cell_type": "markdown",
   "metadata": {},
   "source": [
    "# 參考資料\n",
    "1. [正則表達式-全型英數中文字、常用符號unicode對照表](https://blog.typeart.cc/%E6%AD%A3%E5%89%87%E8%A1%A8%E9%81%94%E5%BC%8F-%E5%85%A8%E5%9E%8B%E8%8B%B1%E6%95%B8%E4%B8%AD%E6%96%87%E5%AD%97%E3%80%81%E5%B8%B8%E7%94%A8%E7%AC%A6%E8%99%9Funicode%E5%B0%8D%E7%85%A7%E8%A1%A8/ \"正則表達式-全型英數中文字、常用符號unicode對照表\")\n",
    "2. [匹配中文字符的正則表達式： [/u4e00-/u9fa5]](https://www.itread01.com/content/1513168876.html \"匹配中文字符的正則表達式： [/u4e00-/u9fa5]\")"
   ]
  }
 ],
 "metadata": {
  "kernelspec": {
   "display_name": "Python 3",
   "language": "python",
   "name": "python3"
  },
  "language_info": {
   "codemirror_mode": {
    "name": "ipython",
    "version": 3
   },
   "file_extension": ".py",
   "mimetype": "text/x-python",
   "name": "python",
   "nbconvert_exporter": "python",
   "pygments_lexer": "ipython3",
   "version": "3.8.8"
  }
 },
 "nbformat": 4,
 "nbformat_minor": 4
}

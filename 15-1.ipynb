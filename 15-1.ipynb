{
 "cells": [
  {
   "cell_type": "code",
   "execution_count": 6,
   "metadata": {},
   "outputs": [],
   "source": [
    "from selenium import webdriver\n",
    "from selenium.common.exceptions import TimeoutException\n",
    "from selenium.webdriver.support.ui import WebDriverWait\n",
    "from selenium.webdriver.support import expected_conditions as EC\n",
    "from selenium.webdriver.common.by import By\n",
    "from time import sleep\n",
    "\n",
    "# 使用 Chrome 的 WebDriver\n",
    "driver = webdriver.Chrome()\n",
    "\n",
    "# 開啟網頁\n",
    "driver.get(\"http://crptransfer.moe.gov.tw/\")\n",
    "\n",
    "# 跳出 alert 視窗\n",
    "driver.execute_script(\"window.alert('這是我們自訂的彈跳視窗');\")\n",
    "\n",
    "# 等個幾秒\n",
    "sleep(3)\n",
    "\n",
    "# 點選彈出裡面的確定按鈕\n",
    "driver.switch_to.alert.accept()\n",
    "\n",
    "# 等個幾秒\n",
    "sleep(3)\n",
    "\n",
    "# 關閉瀏覽器\n",
    "driver.quit()"
   ]
  }
 ],
 "metadata": {
  "kernelspec": {
   "display_name": "Python 3",
   "language": "python",
   "name": "python3"
  },
  "language_info": {
   "codemirror_mode": {
    "name": "ipython",
    "version": 3
   },
   "file_extension": ".py",
   "mimetype": "text/x-python",
   "name": "python",
   "nbconvert_exporter": "python",
   "pygments_lexer": "ipython3",
   "version": "3.8.8"
  }
 },
 "nbformat": 4,
 "nbformat_minor": 4
}

{
 "cells": [
  {
   "cell_type": "code",
   "execution_count": 1,
   "metadata": {
    "scrolled": true
   },
   "outputs": [],
   "source": [
    "from selenium import webdriver\n",
    "from selenium.common.exceptions import TimeoutException\n",
    "from selenium.webdriver.support.ui import WebDriverWait\n",
    "from selenium.webdriver.support import expected_conditions as EC\n",
    "from selenium.webdriver.common.by import By\n",
    "from time import sleep\n",
    "\n",
    "# 使用 Chrome 的 WebDriver\n",
    "driver = webdriver.Chrome()\n",
    "\n",
    "# 開啟網頁\n",
    "driver.get(\"https://www.104.com.tw/jobs/main/\")\n",
    "\n",
    "# 尋找網頁中的搜尋框\n",
    "inputElement = driver.find_element_by_id(\"ikeyword\")\n",
    "\n",
    "# 在搜尋框中輸入文字\n",
    "inputElement.send_keys(\"python\")\n",
    "\n",
    "# 睡個幾秒\n",
    "sleep(2)\n",
    "\n",
    "# 按鈕選擇器\n",
    "cssSelectorBtn = \"button.btn.btn-primary.js-formCheck\"\n",
    "\n",
    "try:\n",
    "    # 等待網頁搜尋結果\n",
    "    WebDriverWait(driver, 10).until(EC.visibility_of_element_located((By.CSS_SELECTOR, cssSelectorBtn)))\n",
    "    \n",
    "    # 按鈕 Web Element (型態為 list)\n",
    "    btn = driver.find_elements_by_css_selector(cssSelectorBtn)\n",
    "    \n",
    "    # 按下按鈕\n",
    "    btn[0].click()\n",
    "    \n",
    "    # 睡個幾秒\n",
    "    sleep(3)\n",
    "except TimeoutException:\n",
    "    print('等待逾時！')\n",
    "finally:\n",
    "    # 關閉瀏覽器\n",
    "    driver.quit()"
   ]
  }
 ],
 "metadata": {
  "kernelspec": {
   "display_name": "Python 3",
   "language": "python",
   "name": "python3"
  },
  "language_info": {
   "codemirror_mode": {
    "name": "ipython",
    "version": 3
   },
   "file_extension": ".py",
   "mimetype": "text/x-python",
   "name": "python",
   "nbconvert_exporter": "python",
   "pygments_lexer": "ipython3",
   "version": "3.8.8"
  }
 },
 "nbformat": 4,
 "nbformat_minor": 4
}

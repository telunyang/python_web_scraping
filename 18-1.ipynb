{
 "cells": [
  {
   "cell_type": "code",
   "execution_count": null,
   "metadata": {},
   "outputs": [],
   "source": [
    "'''\n",
    "載入預設套件\n",
    "'''\n",
    "# basic\n",
    "import numpy as np\n",
    "import pandas as pd\n",
    "\n",
    "# get data\n",
    "import pandas_datareader as pdr\n",
    "\n",
    "# visual\n",
    "import matplotlib.pyplot as plt\n",
    "import mpl_finance as mpf\n",
    "import seaborn as sns\n",
    "\n",
    "#time\n",
    "import datetime as datetime"
   ]
  },
  {
   "cell_type": "code",
   "execution_count": null,
   "metadata": {},
   "outputs": [],
   "source": [
    "# 使用 pandas_datareader 抓取某個股票，這邊使用台積電(2330)\n",
    "start = datetime.datetime(2020,1,1)\n",
    "\n",
    "# 取得 data frame\n",
    "df_2330 = pdr.DataReader('2330.TW', 'yahoo', start=start)\n",
    "\n",
    "# 預覽 data frame\n",
    "df_2330"
   ]
  }
 ],
 "metadata": {
  "kernelspec": {
   "display_name": "Python 3",
   "language": "python",
   "name": "python3"
  },
  "language_info": {
   "codemirror_mode": {
    "name": "ipython",
    "version": 3
   },
   "file_extension": ".py",
   "mimetype": "text/x-python",
   "name": "python",
   "nbconvert_exporter": "python",
   "pygments_lexer": "ipython3",
   "version": "3.7.9"
  }
 },
 "nbformat": 4,
 "nbformat_minor": 4
}

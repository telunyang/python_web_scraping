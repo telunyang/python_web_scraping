{
 "cells": [
  {
   "cell_type": "code",
   "execution_count": 1,
   "metadata": {},
   "outputs": [],
   "source": [
    "# 引入 requests 模組\n",
    "import requests"
   ]
  },
  {
   "cell_type": "code",
   "execution_count": 3,
   "metadata": {},
   "outputs": [
    {
     "name": "stdout",
     "output_type": "stream",
     "text": [
      "200\n",
      "OK\n",
      "{\n",
      "  \"args\": {}, \n",
      "  \"headers\": {\n",
      "    \"Accept\": \"*/*\", \n",
      "    \"Accept-Encoding\": \"gzip, deflate\", \n",
      "    \"Host\": \"httpbin.org\", \n",
      "    \"User-Agent\": \"python-requests/2.24.0\", \n",
      "    \"X-Amzn-Trace-Id\": \"Root=1-5fad5383-679ff26c439bb8ff3d09daa5\"\n",
      "  }, \n",
      "  \"origin\": \"114.43.211.109\", \n",
      "  \"url\": \"https://httpbin.org/get\"\n",
      "}\n",
      "\n"
     ]
    }
   ],
   "source": [
    "# 使用 GET 方式下載普通網頁\n",
    "r = requests.get('https://httpbin.org/get')\n",
    "\n",
    "# 伺服器回應的狀態碼\n",
    "print(r.status_code)\n",
    "\n",
    "# 檢查狀態碼是否 OK\n",
    "if r.status_code == requests.codes.ok:\n",
    "  print(\"OK\")\n",
    "\n",
    "# 輸出網頁 HTML 原始碼\n",
    "print(r.text)"
   ]
  },
  {
   "cell_type": "code",
   "execution_count": 6,
   "metadata": {},
   "outputs": [
    {
     "name": "stdout",
     "output_type": "stream",
     "text": [
      "https://httpbin.org/get?key1=value1&key2=value2\n",
      "{\n",
      "  \"args\": {\n",
      "    \"key1\": \"value1\", \n",
      "    \"key2\": \"value2\"\n",
      "  }, \n",
      "  \"headers\": {\n",
      "    \"Accept\": \"*/*\", \n",
      "    \"Accept-Encoding\": \"gzip, deflate\", \n",
      "    \"Host\": \"httpbin.org\", \n",
      "    \"User-Agent\": \"python-requests/2.24.0\", \n",
      "    \"X-Amzn-Trace-Id\": \"Root=1-5fad5493-3e3b60b2195f9bec3d1c42c4\"\n",
      "  }, \n",
      "  \"origin\": \"114.43.211.109\", \n",
      "  \"url\": \"https://httpbin.org/get?key1=value1&key2=value2\"\n",
      "}\n",
      "\n"
     ]
    }
   ],
   "source": [
    "# GET 方法的 query string\n",
    "my_params = {\n",
    "    'key1': 'value1', \n",
    "    'key2': 'value2'\n",
    "}\n",
    "\n",
    "# 將 query string 加入 GET 請求中\n",
    "r = requests.get('https://httpbin.org/get', params = my_params)\n",
    "\n",
    "# 觀察 URL\n",
    "print(r.url)\n",
    "\n",
    "# 輸出網頁 HTML 原始碼\n",
    "print(r.text)"
   ]
  },
  {
   "cell_type": "code",
   "execution_count": null,
   "metadata": {},
   "outputs": [],
   "source": [
    "'''\n",
    "如果你有 GitHub 帳號，\n",
    "可以透過這個 Web API，\n",
    "來取得個人資料\n",
    "'''\n",
    "\n",
    "# 需要帳號登入的網頁\n",
    "r = requests.get('https://api.github.com/user', auth=('帳號', '密碼'))\n",
    "\n",
    "# 輸出網頁 HTML 原始碼\n",
    "print(r.text)"
   ]
  },
  {
   "cell_type": "code",
   "execution_count": 7,
   "metadata": {},
   "outputs": [
    {
     "name": "stdout",
     "output_type": "stream",
     "text": [
      "{\n",
      "  \"args\": {}, \n",
      "  \"data\": \"\", \n",
      "  \"files\": {}, \n",
      "  \"form\": {\n",
      "    \"key1\": \"value1\", \n",
      "    \"key2\": \"value2\"\n",
      "  }, \n",
      "  \"headers\": {\n",
      "    \"Accept\": \"*/*\", \n",
      "    \"Accept-Encoding\": \"gzip, deflate\", \n",
      "    \"Content-Length\": \"23\", \n",
      "    \"Content-Type\": \"application/x-www-form-urlencoded\", \n",
      "    \"Host\": \"httpbin.org\", \n",
      "    \"User-Agent\": \"python-requests/2.24.0\", \n",
      "    \"X-Amzn-Trace-Id\": \"Root=1-5fad54de-319fbc201ae876af2b8fad45\"\n",
      "  }, \n",
      "  \"json\": null, \n",
      "  \"origin\": \"114.43.211.109\", \n",
      "  \"url\": \"https://httpbin.org/post\"\n",
      "}\n",
      "\n"
     ]
    }
   ],
   "source": [
    "# POST 方法的 form data\n",
    "my_data = {\n",
    "    'key1': 'value1', \n",
    "    'key2': 'value2'\n",
    "}\n",
    "\n",
    "# 將 form data 加入 POST 請求中\n",
    "r = requests.post('https://httpbin.org/post', data = my_data)\n",
    "\n",
    "# 輸出網頁 HTML 原始碼\n",
    "print(r.text)"
   ]
  },
  {
   "cell_type": "code",
   "execution_count": null,
   "metadata": {},
   "outputs": [],
   "source": [
    "# 要上傳的檔案 (變數名稱為 my_filename)\n",
    "my_files = {\n",
    "    'my_filename': open('turingcerts.jpg', 'rb')\n",
    "}\n",
    "\n",
    "# 將檔案加入 POST 請求中\n",
    "r = requests.post('https://httpbin.org/post', files = my_files)\n",
    "\n",
    "# 輸出網頁 HTML 原始碼\n",
    "print(r.text)"
   ]
  },
  {
   "cell_type": "code",
   "execution_count": 8,
   "metadata": {},
   "outputs": [
    {
     "name": "stdout",
     "output_type": "stream",
     "text": [
      "415fa67947b951ada65358e82085bbee355f751b5cb889ab39a4fb583fd2a7cd:ef775ae0-24fb-11eb-b1d7-b98207575929\n"
     ]
    }
   ],
   "source": [
    "'''\n",
    "如果伺服器傳回的網頁資料中含有 cookies，requests 也可以輕鬆取出 cookies 的資料\n",
    "'''\n",
    "\n",
    "# 含有 cookie 的內容\n",
    "r = requests.get(\"https://www.wine-searcher.com/\")\n",
    "\n",
    "# 印出其中一個 cookie\n",
    "print(r.cookies['_pxhd'])"
   ]
  }
 ],
 "metadata": {
  "kernelspec": {
   "display_name": "Python 3",
   "language": "python",
   "name": "python3"
  },
  "language_info": {
   "codemirror_mode": {
    "name": "ipython",
    "version": 3
   },
   "file_extension": ".py",
   "mimetype": "text/x-python",
   "name": "python",
   "nbconvert_exporter": "python",
   "pygments_lexer": "ipython3",
   "version": "3.7.9"
  }
 },
 "nbformat": 4,
 "nbformat_minor": 4
}

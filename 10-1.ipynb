{
 "cells": [
  {
   "cell_type": "code",
   "execution_count": 1,
   "metadata": {},
   "outputs": [
    {
     "name": "stdout",
     "output_type": "stream",
     "text": [
      "200\n",
      "OK\n",
      "{\n",
      "  \"args\": {}, \n",
      "  \"headers\": {\n",
      "    \"Accept\": \"*/*\", \n",
      "    \"Accept-Encoding\": \"gzip, deflate\", \n",
      "    \"Host\": \"httpbin.org\", \n",
      "    \"User-Agent\": \"python-requests/2.24.0\", \n",
      "    \"X-Amzn-Trace-Id\": \"Root=1-5fa00415-79e61bd075fd9082200950ce\"\n",
      "  }, \n",
      "  \"origin\": \"114.43.211.202\", \n",
      "  \"url\": \"https://httpbin.org/get\"\n",
      "}\n",
      "\n"
     ]
    }
   ],
   "source": [
    "# 引入 requests 模組\n",
    "import requests\n",
    "\n",
    "# 使用 GET 方式下載普通網頁\n",
    "r = requests.get('https://httpbin.org/get')\n",
    "\n",
    "# 伺服器回應的狀態碼\n",
    "print(r.status_code)\n",
    "\n",
    "# 檢查狀態碼是否 OK\n",
    "if r.status_code == requests.codes.ok:\n",
    "  print(\"OK\")\n",
    "\n",
    "# 輸出網頁 HTML 原始碼\n",
    "print(r.text)"
   ]
  },
  {
   "cell_type": "code",
   "execution_count": 2,
   "metadata": {},
   "outputs": [
    {
     "name": "stdout",
     "output_type": "stream",
     "text": [
      "https://httpbin.org/get?key1=value1&key2=value2\n",
      "{\n",
      "  \"args\": {\n",
      "    \"key1\": \"value1\", \n",
      "    \"key2\": \"value2\"\n",
      "  }, \n",
      "  \"headers\": {\n",
      "    \"Accept\": \"*/*\", \n",
      "    \"Accept-Encoding\": \"gzip, deflate\", \n",
      "    \"Host\": \"httpbin.org\", \n",
      "    \"User-Agent\": \"python-requests/2.24.0\", \n",
      "    \"X-Amzn-Trace-Id\": \"Root=1-5fa00418-59993893401202a427aa7a96\"\n",
      "  }, \n",
      "  \"origin\": \"114.43.211.202\", \n",
      "  \"url\": \"https://httpbin.org/get?key1=value1&key2=value2\"\n",
      "}\n",
      "\n"
     ]
    }
   ],
   "source": [
    "# 查詢參數\n",
    "my_params = {'key1': 'value1', 'key2': 'value2'}\n",
    "\n",
    "# 將查詢參數加入 GET 請求中\n",
    "r = requests.get('https://httpbin.org/get', params = my_params)\n",
    "\n",
    "# 觀察 URL\n",
    "print(r.url)\n",
    "\n",
    "# 輸出網頁 HTML 原始碼\n",
    "print(r.text)"
   ]
  },
  {
   "cell_type": "code",
   "execution_count": null,
   "metadata": {},
   "outputs": [],
   "source": [
    "'''\n",
    "如果你有 GitHub 帳號，\n",
    "可以透過這個 Web API，\n",
    "來取得個人資料\n",
    "'''\n",
    "\n",
    "# 需要帳號登入的網頁\n",
    "r = requests.get('https://api.github.com/user', auth=('帳號', '密碼'))\n",
    "\n",
    "# 輸出網頁 HTML 原始碼\n",
    "print(r.text)"
   ]
  },
  {
   "cell_type": "code",
   "execution_count": 3,
   "metadata": {},
   "outputs": [
    {
     "name": "stdout",
     "output_type": "stream",
     "text": [
      "{\n",
      "  \"args\": {}, \n",
      "  \"data\": \"\", \n",
      "  \"files\": {}, \n",
      "  \"form\": {\n",
      "    \"key1\": \"value1\", \n",
      "    \"key2\": \"value2\"\n",
      "  }, \n",
      "  \"headers\": {\n",
      "    \"Accept\": \"*/*\", \n",
      "    \"Accept-Encoding\": \"gzip, deflate\", \n",
      "    \"Content-Length\": \"23\", \n",
      "    \"Content-Type\": \"application/x-www-form-urlencoded\", \n",
      "    \"Host\": \"httpbin.org\", \n",
      "    \"User-Agent\": \"python-requests/2.24.0\", \n",
      "    \"X-Amzn-Trace-Id\": \"Root=1-5fa0041b-47fe83c5402b0f3d23b1b1c1\"\n",
      "  }, \n",
      "  \"json\": null, \n",
      "  \"origin\": \"114.43.211.202\", \n",
      "  \"url\": \"https://httpbin.org/post\"\n",
      "}\n",
      "\n"
     ]
    }
   ],
   "source": [
    "# 資料\n",
    "my_data = {'key1': 'value1', 'key2': 'value2'}\n",
    "\n",
    "# 將資料加入 POST 請求中\n",
    "r = requests.post('https://httpbin.org/post', data = my_data)\n",
    "\n",
    "# 輸出網頁 HTML 原始碼\n",
    "print(r.text)"
   ]
  },
  {
   "cell_type": "code",
   "execution_count": null,
   "metadata": {},
   "outputs": [],
   "source": [
    "# 要上傳的檔案\n",
    "my_files = {'my_filename': open('turingcerts.jpg', 'rb')}\n",
    "\n",
    "# 將檔案加入 POST 請求中\n",
    "r = requests.post('https://httpbin.org/post', files = my_files)\n",
    "\n",
    "# 輸出網頁 HTML 原始碼\n",
    "print(r.text)"
   ]
  },
  {
   "cell_type": "code",
   "execution_count": 6,
   "metadata": {},
   "outputs": [
    {
     "name": "stdout",
     "output_type": "stream",
     "text": [
      "dd5968172887a7eb14cc41d2318cc9210ad8d2635834d4f498ce260fa5dc82b6:8d47ad31-1d0c-11eb-b6aa-25443e4640ae\n"
     ]
    }
   ],
   "source": [
    "'''\n",
    "如果伺服器傳回的網頁資料中含有 cookies，requests 也可以輕鬆取出 cookies 的資料\n",
    "'''\n",
    "\n",
    "# 含有 cookie 的內容\n",
    "r = requests.get(\"https://www.wine-searcher.com/\")\n",
    "\n",
    "# 印出其中一個 cookie\n",
    "print(r.cookies['_pxhd'])"
   ]
  }
 ],
 "metadata": {
  "kernelspec": {
   "display_name": "Python 3",
   "language": "python",
   "name": "python3"
  },
  "language_info": {
   "codemirror_mode": {
    "name": "ipython",
    "version": 3
   },
   "file_extension": ".py",
   "mimetype": "text/x-python",
   "name": "python",
   "nbconvert_exporter": "python",
   "pygments_lexer": "ipython3",
   "version": "3.7.9"
  }
 },
 "nbformat": 4,
 "nbformat_minor": 4
}

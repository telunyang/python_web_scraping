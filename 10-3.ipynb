{
 "cells": [
  {
   "cell_type": "code",
   "execution_count": 1,
   "metadata": {},
   "outputs": [
    {
     "name": "stdout",
     "output_type": "stream",
     "text": [
      "財團法人台北市文化基金會\n",
      "台北市文化基金會（台北偶戲館樓上）\n"
     ]
    }
   ],
   "source": [
    "# 匯入套件\n",
    "import requests, json\n",
    "\n",
    "# 參考網址: https://data.taipei/#/application\n",
    "r = requests.get('https://data.taipei/opendata/datalist/apiAccess?scope=resourceAquire&rid=35aa3c53-28fb-423c-91b6-2c22432d0d70&limit=100&offset=0');\n",
    "\n",
    "# 將 json 轉成物件\n",
    "obj = json.loads(r.text)\n",
    "\n",
    "# 輸出對應節點的文字\n",
    "print(obj['result']['results'][0]['ShowGroupName'])\n",
    "print(obj['result']['results'][0]['Location'])"
   ]
  },
  {
   "cell_type": "code",
   "execution_count": 2,
   "metadata": {},
   "outputs": [
    {
     "name": "stdout",
     "output_type": "stream",
     "text": [
      "==================================================\n",
      "Location: 台北市文化基金會（台北偶戲館樓上）, ShowGroupName: 財團法人台北市文化基金會\n",
      "Location: 中華民國象棋文化協會名揚分會, ShowGroupName: 中華民國象棋文化協會名揚分會\n",
      "Location: 中華民國象棋文化協會名揚分會, ShowGroupName: 中華民國象棋文化協會名揚分會\n",
      "Location: 名揚象棋會館, ShowGroupName: 中華民國象棋文化協會名揚分會\n",
      "Location: 中華民國象棋文化協會名揚分會會館, ShowGroupName: 中華民國象棋文化協會名揚分會\n"
     ]
    }
   ],
   "source": [
    "print(\"=\" * 50)\n",
    "\n",
    "# 輸出部分節點的文字\n",
    "for index, result in enumerate(obj['result']['results']):\n",
    "    if index == 5:\n",
    "        break\n",
    "    print(f\"Location: {result['Location']}, ShowGroupName: {result['ShowGroupName']}\")"
   ]
  },
  {
   "cell_type": "code",
   "execution_count": 3,
   "metadata": {},
   "outputs": [
    {
     "name": "stdout",
     "output_type": "stream",
     "text": [
      "{'Server': 'nginx', 'Date': 'Sun, 11 Apr 2021 14:37:27 GMT', 'Content-Type': 'application/json', 'Content-Length': '337775', 'Connection': 'keep-alive', 'Set-Cookie': 'PHPSESSID=25hk3p1r26j615a8vmepvspdr9; path=/', 'Expires': 'Thu, 19 Nov 1981 08:52:00 GMT', 'Cache-Control': 'no-store, no-cache, must-revalidate', 'Pragma': 'no-cache', 'Access-Control-Allow-Origin': '*', 'Access-Control-Allow-Headers': 'X-Requested-With, Content-Type, Accept, Origin, Authorization', 'Access-Control-Allow-Methods': 'GET, POST, PUT, DELETE, PATCH, OPTIONS', 'X-Content-Type-Options': 'nosniff, nosniff', 'X-XSS-Protection': '1;mode=block, 1;mode=block', 'X-Frame-Options': 'SAMEORIGIN, SAMEORIGIN', 'Content-Security-Policy': 'frame-ancestors https://www.tgos.tw, frame-ancestors https://www.tgos.tw'}\n"
     ]
    }
   ],
   "source": [
    "# 印出當前 headers\n",
    "print(r.headers)"
   ]
  },
  {
   "cell_type": "code",
   "execution_count": 4,
   "metadata": {},
   "outputs": [
    {
     "name": "stdout",
     "output_type": "stream",
     "text": [
      "application/json\n"
     ]
    }
   ],
   "source": [
    "# 印出 content-type\n",
    "print(r.headers['Content-Type'])"
   ]
  },
  {
   "cell_type": "code",
   "execution_count": null,
   "metadata": {
    "scrolled": true
   },
   "outputs": [],
   "source": [
    "'''\n",
    "案例：鄉鎮天氣預報-台灣未來1週天氣預報\n",
    "\n",
    "說明頁面: https://opendata.cwb.gov.tw/dataset/statisticAll/F-D0047-091\n",
    "'''\n",
    "\n",
    "# 授權碼\n",
    "auth_code = \"\"\n",
    "\n",
    "response = requests.get(f\"https://opendata.cwb.gov.tw/fileapi/v1/opendataapi/F-D0047-091?Authorization={auth_code}&downloadType=WEB&format=JSON\")\n",
    "\n",
    "# 將 json 轉成物件\n",
    "obj = json.loads(response.text)\n",
    "\n",
    "# 印出每一個縣市的名稱與座標\n",
    "for objLocation in obj[\"cwbopendata\"][\"dataset\"][\"locations\"][\"location\"]:\n",
    "    print(f\"縣市名稱: {objLocation['locationName']}, lat: {objLocation['lat']}, lon: {objLocation['lon']}\")\n",
    "\n",
    "print()\n",
    "\n",
    "# 印出每一個縣市的一週天氣\n",
    "for objLocation in obj[\"cwbopendata\"][\"dataset\"][\"locations\"][\"location\"]:\n",
    "    print(f\"=== 縣市名稱: {objLocation['locationName']} ===\")\n",
    "    print()\n",
    "    for objWeatherElement in objLocation[\"weatherElement\"]:\n",
    "        if objWeatherElement['elementName'] == 'T':\n",
    "            print(f\"{objWeatherElement['description']}\")\n",
    "            print()\n",
    "            for objTime in objWeatherElement[\"time\"]:\n",
    "                print(f\"開始時間: {objTime['startTime']}, 結束時間: {objTime['endTime']}\")\n",
    "                print(f\"溫度: {objTime['elementValue']['measures']} {objTime['elementValue']['value']}\")\n",
    "                print()\n",
    "        \n",
    "    "
   ]
  }
 ],
 "metadata": {
  "kernelspec": {
   "display_name": "Python 3",
   "language": "python",
   "name": "python3"
  },
  "language_info": {
   "codemirror_mode": {
    "name": "ipython",
    "version": 3
   },
   "file_extension": ".py",
   "mimetype": "text/x-python",
   "name": "python",
   "nbconvert_exporter": "python",
   "pygments_lexer": "ipython3",
   "version": "3.7.9"
  }
 },
 "nbformat": 4,
 "nbformat_minor": 4
}

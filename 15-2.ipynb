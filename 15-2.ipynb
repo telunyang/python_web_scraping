{
 "cells": [
  {
   "cell_type": "code",
   "execution_count": 1,
   "metadata": {},
   "outputs": [
    {
     "name": "stdout",
     "output_type": "stream",
     "text": [
      "ㄖㄣˊㄕㄨㄞˋㄓㄣㄏㄠˇ\n"
     ]
    }
   ],
   "source": [
    "from selenium import webdriver\n",
    "from selenium.common.exceptions import TimeoutException\n",
    "from selenium.webdriver.support.ui import WebDriverWait\n",
    "from selenium.webdriver.support import expected_conditions as EC\n",
    "from selenium.webdriver.common.by import By\n",
    "from time import sleep\n",
    "\n",
    "# 使用 Chrome 的 WebDriver\n",
    "driver = webdriver.Chrome()\n",
    "\n",
    "# 開啟網頁\n",
    "driver.get(\"http://crptransfer.moe.gov.tw/\")\n",
    "\n",
    "# 尋找網頁中的搜尋框\n",
    "inputElement = driver.find_element_by_name(\"SN\")\n",
    "\n",
    "# 在搜尋框中輸入文字\n",
    "inputElement.send_keys(\"人帥真好\")\n",
    "\n",
    "# 睡個幾秒\n",
    "sleep(2)\n",
    "\n",
    "# 送出搜尋\n",
    "inputElement.submit()\n",
    "\n",
    "# 搜尋結果的 CSS Selector\n",
    "cssSelector = \"body > table > tbody > tr:nth-child(1) > td > main > article > div > table > tbody > tr:nth-child(2) > td\"\n",
    "\n",
    "try:\n",
    "    # 等待網頁搜尋結果\n",
    "    WebDriverWait(driver, 10).until(EC.visibility_of_element_located((By.CSS_SELECTOR, cssSelector)))\n",
    "    \n",
    "    # 取得第一頁搜尋結果\n",
    "    result = driver.find_element_by_css_selector(cssSelector)\n",
    "    \n",
    "    # 輸出想要爬取的文字\n",
    "    print(result.text)\n",
    "    \n",
    "    # 睡個幾秒\n",
    "    sleep(3)\n",
    "except TimeoutException:\n",
    "    print('等待逾時！')\n",
    "finally:\n",
    "    # 關閉瀏覽器\n",
    "    driver.quit()"
   ]
  }
 ],
 "metadata": {
  "kernelspec": {
   "display_name": "Python 3",
   "language": "python",
   "name": "python3"
  },
  "language_info": {
   "codemirror_mode": {
    "name": "ipython",
    "version": 3
   },
   "file_extension": ".py",
   "mimetype": "text/x-python",
   "name": "python",
   "nbconvert_exporter": "python",
   "pygments_lexer": "ipython3",
   "version": "3.8.8"
  }
 },
 "nbformat": 4,
 "nbformat_minor": 4
}

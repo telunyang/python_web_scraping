{
 "cells": [
  {
   "cell_type": "markdown",
   "metadata": {},
   "source": [
    "### 補充: Set 的用法\n",
    "#### 特點\n",
    "- 無序號、索引概念\n",
    "- 無索引(隨機出現)\n",
    "- 沒有重覆(一樣的只會出現一次)\n",
    "\n",
    "#### 基本概念\n",
    "- 一筆筆讀資料 : for 迴圈 \n",
    "- 總共有幾筆資料: len()\n",
    "- 添加一筆資料: add()\n",
    "- 添加多筆資料: update() (參數放的是 list)\n",
    "- 查詢陣列中有沒有我要的資料: in (只回傳 true 或 false)\n",
    "- 刪除元素: discard() or remove()\n",
    "- 清空: clear()、del"
   ]
  },
  {
   "cell_type": "code",
   "execution_count": 1,
   "metadata": {},
   "outputs": [
    {
     "name": "stdout",
     "output_type": "stream",
     "text": [
      "{'真好玩', '爬蟲', '網路'}\n",
      "{'真好玩', '爬蟲', '網路'}\n"
     ]
    }
   ],
   "source": [
    "# Set 初始化: 第一種\n",
    "mySet01 = {\"網路\", \"爬蟲\", \"真好玩\"}\n",
    "\n",
    "print(mySet01)\n",
    "\n",
    "# Set 初始化: 第二種 (裡面放 tuple)\n",
    "mySet02 = set( (\"網路\", \"爬蟲\", \"真好玩\") )\n",
    "\n",
    "print(mySet02)"
   ]
  },
  {
   "cell_type": "code",
   "execution_count": 2,
   "metadata": {},
   "outputs": [
    {
     "name": "stdout",
     "output_type": "stream",
     "text": [
      "真好玩\n",
      "爬蟲\n",
      "網路\n"
     ]
    }
   ],
   "source": [
    "# 一筆筆讀資料 : for 迴圈\n",
    "for data in mySet02: \n",
    "    print(data)"
   ]
  },
  {
   "cell_type": "code",
   "execution_count": 3,
   "metadata": {},
   "outputs": [
    {
     "name": "stdout",
     "output_type": "stream",
     "text": [
      "3\n"
     ]
    }
   ],
   "source": [
    "# 總共有幾筆資料: len()\n",
    "print( len(mySet02) )"
   ]
  },
  {
   "cell_type": "code",
   "execution_count": 4,
   "metadata": {},
   "outputs": [
    {
     "ename": "TypeError",
     "evalue": "'set' object is not subscriptable",
     "output_type": "error",
     "traceback": [
      "\u001b[1;31m---------------------------------------------------------------------------\u001b[0m",
      "\u001b[1;31mTypeError\u001b[0m                                 Traceback (most recent call last)",
      "\u001b[1;32m<ipython-input-4-a7aab546c07f>\u001b[0m in \u001b[0;36m<module>\u001b[1;34m\u001b[0m\n\u001b[0;32m      1\u001b[0m \u001b[1;31m# 因為沒有序號、索引的概念，所以無法透過指定索引輸出\u001b[0m\u001b[1;33m\u001b[0m\u001b[1;33m\u001b[0m\u001b[1;33m\u001b[0m\u001b[0m\n\u001b[1;32m----> 2\u001b[1;33m \u001b[0mprint\u001b[0m\u001b[1;33m(\u001b[0m \u001b[0mmySet01\u001b[0m\u001b[1;33m[\u001b[0m\u001b[1;36m0\u001b[0m\u001b[1;33m]\u001b[0m \u001b[1;33m)\u001b[0m\u001b[1;33m\u001b[0m\u001b[1;33m\u001b[0m\u001b[0m\n\u001b[0m",
      "\u001b[1;31mTypeError\u001b[0m: 'set' object is not subscriptable"
     ]
    }
   ],
   "source": [
    "# 因為沒有序號、索引的概念，所以無法透過指定索引輸出\n",
    "print( mySet01[0] )"
   ]
  },
  {
   "cell_type": "code",
   "execution_count": 5,
   "metadata": {},
   "outputs": [
    {
     "name": "stdout",
     "output_type": "stream",
     "text": [
      "{'真好玩', '爬蟲', '網路', '嗎?'}\n",
      "{'對不對?', '真好玩', '爬蟲', '網路'}\n",
      "{'真好玩', '爬蟲', '網路', '嗎?'}\n"
     ]
    }
   ],
   "source": [
    "# 添加一筆資料: add()\n",
    "mySet01.add(\"嗎?\")\n",
    "mySet02.add(\"對不對?\")\n",
    "\n",
    "print(mySet01)\n",
    "print(mySet02)\n",
    "\n",
    "# 此時新增重複的，資料不會增加\n",
    "mySet01.add(\"真好玩\")\n",
    "print(mySet01)"
   ]
  },
  {
   "cell_type": "code",
   "execution_count": 6,
   "metadata": {},
   "outputs": [
    {
     "name": "stdout",
     "output_type": "stream",
     "text": [
      "{'丙', '爬蟲', '乙', '嗎?', '真好玩', '網路', '甲'}\n",
      "{'爬蟲', '真好玩', '丑', '寅', '子', '網路', '對不對?'}\n"
     ]
    }
   ],
   "source": [
    "# 添加多筆資料: update()\n",
    "mySet01.update([\"甲\", \"乙\", \"丙\"])\n",
    "mySet02.update([\"子\", \"丑\", \"寅\"])\n",
    "\n",
    "print(mySet01)\n",
    "print(mySet02)"
   ]
  },
  {
   "cell_type": "code",
   "execution_count": 7,
   "metadata": {},
   "outputs": [
    {
     "name": "stdout",
     "output_type": "stream",
     "text": [
      "True\n",
      "False\n",
      "有資料\n"
     ]
    }
   ],
   "source": [
    "# 查詢陣列中有沒有我要的資料: in (只回傳 true 或 false)\n",
    "print( \"甲\" in mySet01 )\n",
    "print( \"甲\" in mySet02 )\n",
    "\n",
    "if \"乙\" in mySet01:\n",
    "    print(\"有資料\")\n",
    "else:\n",
    "    print(\"找不到資料\")"
   ]
  },
  {
   "cell_type": "code",
   "execution_count": 8,
   "metadata": {},
   "outputs": [
    {
     "name": "stdout",
     "output_type": "stream",
     "text": [
      "{'爬蟲', '乙', '嗎?', '真好玩', '網路', '甲'}\n",
      "{'爬蟲', '真好玩', '寅', '子', '網路', '對不對?'}\n"
     ]
    }
   ],
   "source": [
    "# 刪除元素: discard() or remove()\n",
    "mySet01.discard(\"丙\")\n",
    "print(mySet01)\n",
    "\n",
    "mySet02.remove(\"丑\")\n",
    "print(mySet02)"
   ]
  },
  {
   "cell_type": "code",
   "execution_count": 9,
   "metadata": {},
   "outputs": [
    {
     "name": "stdout",
     "output_type": "stream",
     "text": [
      "set()\n"
     ]
    },
    {
     "ename": "NameError",
     "evalue": "name 'mySet02' is not defined",
     "output_type": "error",
     "traceback": [
      "\u001b[1;31m---------------------------------------------------------------------------\u001b[0m",
      "\u001b[1;31mNameError\u001b[0m                                 Traceback (most recent call last)",
      "\u001b[1;32m<ipython-input-9-b6276d9e9fa5>\u001b[0m in \u001b[0;36m<module>\u001b[1;34m\u001b[0m\n\u001b[0;32m      6\u001b[0m \u001b[1;34m''' del 會將 set 變數從記憶體中刪除，所以刪除完後，變數會變成未宣告的狀態'''\u001b[0m\u001b[1;33m\u001b[0m\u001b[1;33m\u001b[0m\u001b[0m\n\u001b[0;32m      7\u001b[0m \u001b[1;32mdel\u001b[0m \u001b[0mmySet02\u001b[0m\u001b[1;33m\u001b[0m\u001b[1;33m\u001b[0m\u001b[0m\n\u001b[1;32m----> 8\u001b[1;33m \u001b[0mprint\u001b[0m\u001b[1;33m(\u001b[0m\u001b[0mmySet02\u001b[0m\u001b[1;33m)\u001b[0m\u001b[1;33m\u001b[0m\u001b[1;33m\u001b[0m\u001b[0m\n\u001b[0m",
      "\u001b[1;31mNameError\u001b[0m: name 'mySet02' is not defined"
     ]
    }
   ],
   "source": [
    "# 清空: clear()、del\n",
    "'''.clear() 會清空 set 變數，但變數依然存在，所以會印出空 set'''\n",
    "mySet01.clear()\n",
    "print(mySet01)\n",
    "\n",
    "''' del 會將 set 變數從記憶體中刪除，所以刪除完後，變數會變成未宣告的狀態'''\n",
    "del mySet02\n",
    "print(mySet02)"
   ]
  }
 ],
 "metadata": {
  "kernelspec": {
   "display_name": "Python 3",
   "language": "python",
   "name": "python3"
  },
  "language_info": {
   "codemirror_mode": {
    "name": "ipython",
    "version": 3
   },
   "file_extension": ".py",
   "mimetype": "text/x-python",
   "name": "python",
   "nbconvert_exporter": "python",
   "pygments_lexer": "ipython3",
   "version": "3.7.9"
  }
 },
 "nbformat": 4,
 "nbformat_minor": 4
}

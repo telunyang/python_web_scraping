{
 "cells": [
  {
   "cell_type": "code",
   "execution_count": 1,
   "metadata": {},
   "outputs": [],
   "source": [
    "# 匯入套件\n",
    "from bs4 import BeautifulSoup\n",
    "import requests\n",
    "\n",
    "# PTT NBA 板\n",
    "url = \"https://www.ptt.cc/bbs/NBA/index.html\" \n",
    "\n",
    "# 用 requests 的 get 方法把網頁抓下來\n",
    "response = requests.get(url)  \n",
    "\n",
    "# 指定 lxml 作為解析器\n",
    "soup = BeautifulSoup(response.text, \"lxml\") "
   ]
  },
  {
   "cell_type": "code",
   "execution_count": 2,
   "metadata": {},
   "outputs": [
    {
     "name": "stdout",
     "output_type": "stream",
     "text": [
      "看板 NBA 文章列表 - 批踢踢實業坊\n",
      "批踢踢實業坊\n"
     ]
    }
   ],
   "source": [
    "# 取得單一節點的文字內容 (select_one 會回傳單一 bs element 物件，select 會回傳 list)\n",
    "print(soup.select_one('title').get_text())\n",
    "print(soup.select('a')[0].get_text())"
   ]
  },
  {
   "cell_type": "code",
   "execution_count": null,
   "metadata": {},
   "outputs": [],
   "source": [
    "# 透過迭代取得所有 a 的文字內容\n",
    "for a in soup.select('a'):\n",
    "    print(a.get_text())"
   ]
  },
  {
   "cell_type": "code",
   "execution_count": null,
   "metadata": {},
   "outputs": [],
   "source": [
    "# 透過迭代取得所有 a 的屬性 href\n",
    "for a in soup.select('a'):\n",
    "    if a.has_attr('href'):\n",
    "        print(a['href']) # a.get(\"href\")\n",
    "    else:\n",
    "        print()\n",
    "        print(\"=\" * 50)\n",
    "        print(f\"連結[{a.get_text()}] 沒有 href 屬性\")\n",
    "        print(\"=\" * 50)\n",
    "        print()"
   ]
  }
 ],
 "metadata": {
  "kernelspec": {
   "display_name": "Python 3",
   "language": "python",
   "name": "python3"
  },
  "language_info": {
   "codemirror_mode": {
    "name": "ipython",
    "version": 3
   },
   "file_extension": ".py",
   "mimetype": "text/x-python",
   "name": "python",
   "nbconvert_exporter": "python",
   "pygments_lexer": "ipython3",
   "version": "3.8.8"
  }
 },
 "nbformat": 4,
 "nbformat_minor": 4
}

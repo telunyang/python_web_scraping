{
 "cells": [
  {
   "cell_type": "code",
   "execution_count": 1,
   "metadata": {},
   "outputs": [],
   "source": [
    "# 匯入套件\n",
    "from bs4 import BeautifulSoup\n",
    "import requests\n",
    "\n",
    "# PTT NBA 板\n",
    "url = \"https://www.ptt.cc/bbs/NBA/index.html\" \n",
    "\n",
    "# 用 requests 的 get 方法把網頁抓下來\n",
    "response = requests.get(url)  \n",
    "\n",
    "# 指定 lxml 作為解析器\n",
    "soup = BeautifulSoup(response.text, \"lxml\") "
   ]
  },
  {
   "cell_type": "code",
   "execution_count": 2,
   "metadata": {},
   "outputs": [
    {
     "name": "stdout",
     "output_type": "stream",
     "text": [
      "看板 NBA 文章列表 - 批踢踢實業坊\n",
      "批踢踢實業坊\n"
     ]
    }
   ],
   "source": [
    "# 取得單一節點的文字內容 (select 會回傳 list)\n",
    "print(soup.select('title')[0].get_text())\n",
    "print(soup.select('a')[0].get_text())"
   ]
  },
  {
   "cell_type": "code",
   "execution_count": 3,
   "metadata": {},
   "outputs": [
    {
     "name": "stdout",
     "output_type": "stream",
     "text": [
      "批踢踢實業坊\n",
      "看板 NBA\n",
      "關於我們\n",
      "聯絡資訊\n",
      "看板\n",
      "精華區\n",
      "最舊\n",
      "‹ 上頁\n",
      "下頁 ›\n",
      "最新\n",
      "[花邊] 唐西奇斥資270萬美元 入手達拉斯豪宅\n",
      "搜尋同標題文章\n",
      "搜尋看板內 thnlkj0665 的文章\n",
      "[討論] Aldridge為什麼都不會想去強隊拿冠軍\n",
      "搜尋同標題文章\n",
      "搜尋看板內 seabox 的文章\n",
      "[公告] 板規v6.8\n",
      "搜尋同標題文章\n",
      "搜尋看板內 Vedan 的文章\n",
      "[公告] 第一次被退文，可在三天後刪除退文\n",
      "搜尋同標題文章\n",
      "搜尋看板內 Vedan 的文章\n",
      "[情報] Playoffs Schedule 19–20\n",
      "搜尋同標題文章\n",
      "搜尋看板內 Acetoxy 的文章\n",
      "[公告] 季後賽條款於10/14零時解除\n",
      "搜尋同標題文章\n",
      "搜尋看板內 namie810303 的文章\n"
     ]
    }
   ],
   "source": [
    "# 透過迭代取得所有 a 的文字內容\n",
    "for a in soup.select('a'):\n",
    "    print(a.get_text())"
   ]
  },
  {
   "cell_type": "code",
   "execution_count": 4,
   "metadata": {},
   "outputs": [
    {
     "name": "stdout",
     "output_type": "stream",
     "text": [
      "/bbs/\n",
      "/bbs/NBA/index.html\n",
      "/about.html\n",
      "/contact.html\n",
      "/bbs/NBA/index.html\n",
      "/man/NBA/index.html\n",
      "/bbs/NBA/index1.html\n",
      "/bbs/NBA/index6506.html\n",
      "\n",
      "==================================================\n",
      "連結[下頁 ›] 沒有 href 屬性\n",
      "==================================================\n",
      "\n",
      "/bbs/NBA/index.html\n",
      "/bbs/NBA/M.1605187585.A.CF9.html\n",
      "/bbs/NBA/search?q=thread%3A%5B%E8%8A%B1%E9%82%8A%5D+%E5%94%90%E8%A5%BF%E5%A5%87%E6%96%A5%E8%B3%87270%E8%90%AC%E7%BE%8E%E5%85%83+%E5%85%A5%E6%89%8B%E9%81%94%E6%8B%89%E6%96%AF%E8%B1%AA%E5%AE%85\n",
      "/bbs/NBA/search?q=author%3Athnlkj0665\n",
      "/bbs/NBA/M.1605194928.A.0DE.html\n",
      "/bbs/NBA/search?q=thread%3A%5B%E8%A8%8E%E8%AB%96%5D+Aldridge%E7%82%BA%E4%BB%80%E9%BA%BC%E9%83%BD%E4%B8%8D%E6%9C%83%E6%83%B3%E5%8E%BB%E5%BC%B7%E9%9A%8A%E6%8B%BF%E5%86%A0%E8%BB%8D\n",
      "/bbs/NBA/search?q=author%3Aseabox\n",
      "/bbs/NBA/M.1558698194.A.1DC.html\n",
      "/bbs/NBA/search?q=thread%3A%5B%E5%85%AC%E5%91%8A%5D+%E6%9D%BF%E8%A6%8Fv6.8\n",
      "/bbs/NBA/search?q=author%3AVedan\n",
      "/bbs/NBA/M.1583725468.A.281.html\n",
      "/bbs/NBA/search?q=thread%3A%5B%E5%85%AC%E5%91%8A%5D+%E7%AC%AC%E4%B8%80%E6%AC%A1%E8%A2%AB%E9%80%80%E6%96%87%EF%BC%8C%E5%8F%AF%E5%9C%A8%E4%B8%89%E5%A4%A9%E5%BE%8C%E5%88%AA%E9%99%A4%E9%80%80%E6%96%87\n",
      "/bbs/NBA/search?q=author%3AVedan\n",
      "/bbs/NBA/M.1597695044.A.F65.html\n",
      "/bbs/NBA/search?q=thread%3A%5B%E6%83%85%E5%A0%B1%5D+Playoffs+Schedule+19%E2%80%9320\n",
      "/bbs/NBA/search?q=author%3AAcetoxy\n",
      "/bbs/NBA/M.1602599945.A.C45.html\n",
      "/bbs/NBA/search?q=thread%3A%5B%E5%85%AC%E5%91%8A%5D+%E5%AD%A3%E5%BE%8C%E8%B3%BD%E6%A2%9D%E6%AC%BE%E6%96%BC10%2F14%E9%9B%B6%E6%99%82%E8%A7%A3%E9%99%A4\n",
      "/bbs/NBA/search?q=author%3Anamie810303\n"
     ]
    }
   ],
   "source": [
    "# 透過迭代取得所有 a 的屬性 href\n",
    "for a in soup.select('a'):\n",
    "    if a.has_attr('href'):\n",
    "        print(a['href'])\n",
    "    else:\n",
    "        print()\n",
    "        print(\"=\" * 50)\n",
    "        print(f\"連結[{a.get_text()}] 沒有 href 屬性\")\n",
    "        print(\"=\" * 50)\n",
    "        print()"
   ]
  }
 ],
 "metadata": {
  "kernelspec": {
   "display_name": "Python 3",
   "language": "python",
   "name": "python3"
  },
  "language_info": {
   "codemirror_mode": {
    "name": "ipython",
    "version": 3
   },
   "file_extension": ".py",
   "mimetype": "text/x-python",
   "name": "python",
   "nbconvert_exporter": "python",
   "pygments_lexer": "ipython3",
   "version": "3.7.9"
  }
 },
 "nbformat": 4,
 "nbformat_minor": 4
}

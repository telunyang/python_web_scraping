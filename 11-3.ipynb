{
 "cells": [
  {
   "cell_type": "code",
   "execution_count": 1,
   "metadata": {},
   "outputs": [],
   "source": [
    "# 匯入套件\n",
    "from bs4 import BeautifulSoup\n",
    "import requests\n",
    "\n",
    "# PTT NBA 板\n",
    "url = \"https://www.ptt.cc/bbs/NBA/index.html\" \n",
    "\n",
    "# 用 requests 的 get 方法把網頁抓下來\n",
    "response = requests.get(url)  \n",
    "\n",
    "# 指定 lxml 作為解析器\n",
    "soup = BeautifulSoup(response.text, \"lxml\") "
   ]
  },
  {
   "cell_type": "code",
   "execution_count": 2,
   "metadata": {},
   "outputs": [
    {
     "name": "stdout",
     "output_type": "stream",
     "text": [
      "看板 NBA 文章列表 - 批踢踢實業坊\n",
      "批踢踢實業坊\n"
     ]
    }
   ],
   "source": [
    "# 取得單一節點的文字內容 (select_one 會回傳單一 bs element 物件，select 會回傳 list)\n",
    "print(soup.select_one('title').get_text())\n",
    "print(soup.select('a')[0].get_text())"
   ]
  },
  {
   "cell_type": "code",
   "execution_count": 3,
   "metadata": {},
   "outputs": [
    {
     "name": "stdout",
     "output_type": "stream",
     "text": [
      "批踢踢實業坊\n",
      "看板 NBA\n",
      "關於我們\n",
      "聯絡資訊\n",
      "看板\n",
      "精華區\n",
      "最舊\n",
      "‹ 上頁\n",
      "下頁 ›\n",
      "最新\n",
      "[Live] 熱身賽   七六人隊 VS 暴龍隊\n",
      "搜尋同標題文章\n",
      "搜尋看板內 thnlkj0665 的文章\n",
      "[情報] 富保羅告知76人西門在費城感到內心非常\n",
      "搜尋同標題文章\n",
      "搜尋看板內 arod1414 的文章\n",
      "[公告] 板規v8.6\n",
      "搜尋同標題文章\n",
      "搜尋看板內 Induction 的文章\n",
      "[公告] NBA板救濟專案啟動 & 借用板主位置\n",
      "搜尋同標題文章\n",
      "搜尋看板內 Vedan 的文章\n",
      "[情報] 2021-22 自由市場 開市總整理   (9/3)\n",
      "搜尋同標題文章\n",
      "搜尋看板內 laigei 的文章\n",
      "[情報] 2021-22 自由市場 球隊異動表格 (9/3)\n",
      "搜尋同標題文章\n",
      "搜尋看板內 laigei 的文章\n",
      "[情報] 季前熱身賽賽程 21–22\n",
      "搜尋同標題文章\n",
      "搜尋看板內 laptic 的文章\n"
     ]
    }
   ],
   "source": [
    "# 透過迭代取得所有 a 的文字內容\n",
    "for a in soup.select('a'):\n",
    "    print(a.get_text())"
   ]
  },
  {
   "cell_type": "code",
   "execution_count": 4,
   "metadata": {},
   "outputs": [
    {
     "name": "stdout",
     "output_type": "stream",
     "text": [
      "/bbs/\n",
      "/bbs/NBA/index.html\n",
      "/about.html\n",
      "/contact.html\n",
      "/bbs/NBA/index.html\n",
      "/man/NBA/index.html\n",
      "/bbs/NBA/index1.html\n",
      "/bbs/NBA/index6497.html\n",
      "==================================================\n",
      "連結[下頁 ›] 沒有 href 屬性\n",
      "==================================================\n",
      "/bbs/NBA/index.html\n",
      "/bbs/NBA/M.1633390721.A.D7E.html\n",
      "/bbs/NBA/search?q=thread%3A%5BLive%5D+%E7%86%B1%E8%BA%AB%E8%B3%BD+++%E4%B8%83%E5%85%AD%E4%BA%BA%E9%9A%8A+VS+%E6%9A%B4%E9%BE%8D%E9%9A%8A\n",
      "/bbs/NBA/search?q=author%3Athnlkj0665\n",
      "/bbs/NBA/M.1633393661.A.6A6.html\n",
      "/bbs/NBA/search?q=thread%3A%5B%E6%83%85%E5%A0%B1%5D+%E5%AF%8C%E4%BF%9D%E7%BE%85%E5%91%8A%E7%9F%A576%E4%BA%BA%E8%A5%BF%E9%96%80%E5%9C%A8%E8%B2%BB%E5%9F%8E%E6%84%9F%E5%88%B0%E5%85%A7%E5%BF%83%E9%9D%9E%E5%B8%B8\n",
      "/bbs/NBA/search?q=author%3Aarod1414\n",
      "/bbs/NBA/M.1623237350.A.918.html\n",
      "/bbs/NBA/search?q=thread%3A%5B%E5%85%AC%E5%91%8A%5D+%E6%9D%BF%E8%A6%8Fv8.6\n",
      "/bbs/NBA/search?q=author%3AInduction\n",
      "/bbs/NBA/M.1626883322.A.872.html\n",
      "/bbs/NBA/search?q=thread%3A%5B%E5%85%AC%E5%91%8A%5D+NBA%E6%9D%BF%E6%95%91%E6%BF%9F%E5%B0%88%E6%A1%88%E5%95%9F%E5%8B%95+%26+%E5%80%9F%E7%94%A8%E6%9D%BF%E4%B8%BB%E4%BD%8D%E7%BD%AE\n",
      "/bbs/NBA/search?q=author%3AVedan\n",
      "/bbs/NBA/M.1627458582.A.571.html\n",
      "/bbs/NBA/search?q=thread%3A%5B%E6%83%85%E5%A0%B1%5D+2021-22+%E8%87%AA%E7%94%B1%E5%B8%82%E5%A0%B4+%E9%96%8B%E5%B8%82%E7%B8%BD%E6%95%B4%E7%90%86+++%289%2F3%29\n",
      "/bbs/NBA/search?q=author%3Alaigei\n",
      "/bbs/NBA/M.1627629263.A.65C.html\n",
      "/bbs/NBA/search?q=thread%3A%5B%E6%83%85%E5%A0%B1%5D+2021-22+%E8%87%AA%E7%94%B1%E5%B8%82%E5%A0%B4+%E7%90%83%E9%9A%8A%E7%95%B0%E5%8B%95%E8%A1%A8%E6%A0%BC+%289%2F3%29\n",
      "/bbs/NBA/search?q=author%3Alaigei\n",
      "/bbs/NBA/M.1632707110.A.6D0.html\n",
      "/bbs/NBA/search?q=thread%3A%5B%E6%83%85%E5%A0%B1%5D+%E5%AD%A3%E5%89%8D%E7%86%B1%E8%BA%AB%E8%B3%BD%E8%B3%BD%E7%A8%8B+21%E2%80%9322\n",
      "/bbs/NBA/search?q=author%3Alaptic\n"
     ]
    }
   ],
   "source": [
    "# 透過迭代取得所有 a 的屬性 href\n",
    "for a in soup.select('a'):\n",
    "    if a.has_attr('href'):\n",
    "        print(a['href']) # a.get(\"href\")\n",
    "    else:\n",
    "        print(\"=\" * 50)\n",
    "        print(f\"連結[{a.get_text()}] 沒有 href 屬性\")\n",
    "        print(\"=\" * 50)"
   ]
  }
 ],
 "metadata": {
  "kernelspec": {
   "display_name": "Python 3",
   "language": "python",
   "name": "python3"
  },
  "language_info": {
   "codemirror_mode": {
    "name": "ipython",
    "version": 3
   },
   "file_extension": ".py",
   "mimetype": "text/x-python",
   "name": "python",
   "nbconvert_exporter": "python",
   "pygments_lexer": "ipython3",
   "version": "3.8.8"
  }
 },
 "nbformat": 4,
 "nbformat_minor": 4
}

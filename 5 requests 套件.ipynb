{
 "cells": [
  {
   "cell_type": "code",
   "execution_count": 1,
   "metadata": {},
   "outputs": [],
   "source": [
    "# 使用 requests 工具\n",
    "import requests\n",
    "\n",
    "# 使用 json 工具\n",
    "import json"
   ]
  },
  {
   "cell_type": "code",
   "execution_count": 2,
   "metadata": {},
   "outputs": [
    {
     "name": "stdout",
     "output_type": "stream",
     "text": [
      "200\n",
      "utf-8\n",
      "{\n",
      "  \"args\": {}, \n",
      "  \"headers\": {\n",
      "    \"Accept\": \"*/*\", \n",
      "    \"Accept-Encoding\": \"gzip, deflate\", \n",
      "    \"Host\": \"httpbin.org\", \n",
      "    \"User-Agent\": \"python-requests/2.32.3\", \n",
      "    \"X-Amzn-Trace-Id\": \"Root=1-6745ecd4-0a75fcbe7702d20931e7a90b\"\n",
      "  }, \n",
      "  \"origin\": \"36.227.233.45\", \n",
      "  \"url\": \"https://httpbin.org/get\"\n",
      "}\n",
      "\n"
     ]
    }
   ],
   "source": [
    "# 使用 GET 方式下載普通網頁\n",
    "res = requests.get('https://httpbin.org/get')\n",
    "\n",
    "# 伺服器回應的狀態碼\n",
    "# 參考網頁: https://reurl.cc/2DRpan\n",
    "print(res.status_code)\n",
    "\n",
    "# 回傳資料的編碼\n",
    "print(res.encoding)\n",
    "\n",
    "# 指定回傳資料的編碼\n",
    "# response.encoding = 'utf-8'\n",
    "\n",
    "# 輸出網頁 HTML 原始碼\n",
    "print(res.text)"
   ]
  },
  {
   "cell_type": "code",
   "execution_count": 3,
   "metadata": {},
   "outputs": [
    {
     "name": "stdout",
     "output_type": "stream",
     "text": [
      "https://httpbin.org/get?key1=value1&key2=value2\n",
      "{\n",
      "  \"args\": {\n",
      "    \"key1\": \"value1\", \n",
      "    \"key2\": \"value2\"\n",
      "  }, \n",
      "  \"headers\": {\n",
      "    \"Accept\": \"*/*\", \n",
      "    \"Accept-Encoding\": \"gzip, deflate\", \n",
      "    \"Host\": \"httpbin.org\", \n",
      "    \"User-Agent\": \"python-requests/2.32.3\", \n",
      "    \"X-Amzn-Trace-Id\": \"Root=1-6745ecd8-1696077c21c2906613d346ea\"\n",
      "  }, \n",
      "  \"origin\": \"36.227.233.45\", \n",
      "  \"url\": \"https://httpbin.org/get?key1=value1&key2=value2\"\n",
      "}\n",
      "\n"
     ]
    }
   ],
   "source": [
    "# GET 方法的 query string\n",
    "my_params = {\n",
    "    'key1': 'value1', \n",
    "    'key2': 'value2'\n",
    "}\n",
    "\n",
    "# 將 query string 加入 GET 請求中\n",
    "res = requests.get('https://httpbin.org/get', params = my_params)\n",
    "\n",
    "# 觀察 URL\n",
    "print(res.url)\n",
    "\n",
    "# 輸出網頁 HTML 原始碼\n",
    "print(res.text)"
   ]
  },
  {
   "cell_type": "code",
   "execution_count": 4,
   "metadata": {},
   "outputs": [
    {
     "name": "stdout",
     "output_type": "stream",
     "text": [
      "{\n",
      "  \"args\": {}, \n",
      "  \"data\": \"\", \n",
      "  \"files\": {}, \n",
      "  \"form\": {\n",
      "    \"key1\": \"value1\", \n",
      "    \"key2\": \"value2\"\n",
      "  }, \n",
      "  \"headers\": {\n",
      "    \"Accept\": \"*/*\", \n",
      "    \"Accept-Encoding\": \"gzip, deflate\", \n",
      "    \"Content-Length\": \"23\", \n",
      "    \"Content-Type\": \"application/x-www-form-urlencoded\", \n",
      "    \"Host\": \"httpbin.org\", \n",
      "    \"User-Agent\": \"python-requests/2.32.3\", \n",
      "    \"X-Amzn-Trace-Id\": \"Root=1-6745ecdb-772bc21c654fbd8b02d0ac49\"\n",
      "  }, \n",
      "  \"json\": null, \n",
      "  \"origin\": \"36.227.233.45\", \n",
      "  \"url\": \"https://httpbin.org/post\"\n",
      "}\n",
      "\n"
     ]
    }
   ],
   "source": [
    "# POST 方法的 form data\n",
    "my_data = {\n",
    "    'key1': 'value1', \n",
    "    'key2': 'value2'\n",
    "}\n",
    "\n",
    "# 將 form data 加入 POST 請求中\n",
    "res = requests.post('https://httpbin.org/post', data = my_data)\n",
    "\n",
    "# 輸出網頁 HTML 原始碼\n",
    "print(res.text)"
   ]
  },
  {
   "cell_type": "code",
   "execution_count": null,
   "metadata": {},
   "outputs": [],
   "source": [
    "# 要上傳的檔案 (變數名稱為 my_filename)\n",
    "my_files = {\n",
    "    'my_filename': open('turingcerts.jpg', 'rb')\n",
    "}\n",
    "\n",
    "# 將檔案加入 POST 請求中\n",
    "res = requests.post('https://httpbin.org/post', files = my_files)\n",
    "\n",
    "# 輸出網頁 HTML 原始碼\n",
    "print(res.text)"
   ]
  },
  {
   "cell_type": "code",
   "execution_count": 5,
   "metadata": {},
   "outputs": [
    {
     "name": "stdout",
     "output_type": "stream",
     "text": [
      "{\n",
      "  \"args\": {}, \n",
      "  \"headers\": {\n",
      "    \"Accept\": \"*/*\", \n",
      "    \"Accept-Encoding\": \"gzip, deflate\", \n",
      "    \"Host\": \"httpbin.org\", \n",
      "    \"User-Agent\": \"Mozilla/5.0 (Windows NT 10.0; Win64; x64) AppleWebKit/537.36 (KHTML, like Gecko) Chrome/99.0.4844.82 Safari/537.36\", \n",
      "    \"X-Amzn-Trace-Id\": \"Root=1-6745ecdf-26dcb6703bfaccb147712a2c\"\n",
      "  }, \n",
      "  \"origin\": \"36.227.233.45\", \n",
      "  \"url\": \"https://httpbin.org/get\"\n",
      "}\n",
      "\n"
     ]
    }
   ],
   "source": [
    "# 自訂標頭\n",
    "my_headers = {\n",
    "    'user-agent': 'Mozilla/5.0 (Windows NT 10.0; Win64; x64) AppleWebKit/537.36 (KHTML, like Gecko) Chrome/99.0.4844.82 Safari/537.36'\n",
    "}\n",
    "\n",
    "# 將自訂標頭加入 GET 請求中\n",
    "res = requests.get('https://httpbin.org/get', headers = my_headers)\n",
    "\n",
    "# 輸出網頁 HTML 原始碼\n",
    "print(res.text)"
   ]
  },
  {
   "cell_type": "code",
   "execution_count": 6,
   "metadata": {},
   "outputs": [
    {
     "name": "stdout",
     "output_type": "stream",
     "text": [
      "{\n",
      "  \"args\": {}, \n",
      "  \"headers\": {\n",
      "    \"Accept\": \"*/*\", \n",
      "    \"Accept-Encoding\": \"gzip, deflate\", \n",
      "    \"Cookie\": \"key1=value1; key2=value2\", \n",
      "    \"Host\": \"httpbin.org\", \n",
      "    \"User-Agent\": \"python-requests/2.32.3\", \n",
      "    \"X-Amzn-Trace-Id\": \"Root=1-6745ece2-7059ced94f02b91d4ac43ef4\"\n",
      "  }, \n",
      "  \"origin\": \"36.227.233.45\", \n",
      "  \"url\": \"https://httpbin.org/get\"\n",
      "}\n",
      "\n"
     ]
    }
   ],
   "source": [
    "# 自訂 cookie 格式\n",
    "my_cookies = {\n",
    "    'key1': 'value1', \n",
    "    'key2': 'value2'\n",
    "}\n",
    "\n",
    "# 將 cookie 加入 GET 請求\n",
    "res = requests.get('https://httpbin.org/get', cookies = my_cookies)\n",
    "\n",
    "# 輸出網頁 HTML 原始碼\n",
    "print(res.text)"
   ]
  },
  {
   "cell_type": "code",
   "execution_count": 9,
   "metadata": {},
   "outputs": [
    {
     "name": "stdout",
     "output_type": "stream",
     "text": [
      "Success\n",
      "4386\n",
      "1\n",
      "==================================================\n",
      "Id: 3437\n",
      "Name: 《扶風堂》披薩。義麵。吉拉朵\n",
      "Address: 臺北市松山區敦化北路165巷5號1樓\n",
      "Latitude: 25.0548617\n",
      "Longitude: 121.5503157\n",
      "ImgByte: https://greenliving.moenv.gov.tw/DownLoadFile/GreenRestaurant/Client/124.11.64.74/2023/11/24/a66a9dac-19b3-412b-ab23-dbbe7e56fde5.jpg\n",
      "==================================================\n",
      "Id: 5082\n",
      "Name: 《念•饗》NIAN SANG\n",
      "Address: 臺北市大安區延吉街242-3號1樓\n",
      "Latitude: 25.0357216\n",
      "Longitude: 121.5555417\n",
      "ImgByte: https://greenliving.moenv.gov.tw/DownLoadFile/GreenRestaurant/Client/182.233.70.51/2024/08/14/173568e7-3708-4250-91d3-dd765fb788a5.jpg\n",
      "==================================================\n",
      "Id: 3432\n",
      "Name: 6：35 Brunch & Dinner(大安旗艦店)\n",
      "Address: 臺北市大安區復興南路二段288號\n",
      "Latitude: 25.0240436\n",
      "Longitude: 121.5432347\n",
      "ImgByte: https://greenliving.moenv.gov.tw/DownLoadFile/GreenRestaurant/Client/122.147.144.178/2023/11/24/5af6883d-e4ff-49b5-8c8f-82f8fc5d9c08.png\n",
      "==================================================\n",
      "Id: 3689\n",
      "Name: 88號樂章-88 La Plaza\n",
      "Address: 臺北市內湖區民善街88號5樓\n",
      "Latitude: 25.0604224\n",
      "Longitude: 121.5752559\n",
      "ImgByte: https://greenliving.moenv.gov.tw/DownLoadFile/GreenRestaurant/Client/114.34.167.137/2023/11/29/84df961c-5922-47fc-84a7-89fd1e7224ca.jpg\n",
      "==================================================\n",
      "Id: 4682\n",
      "Name: 89 LOOP Sports\n",
      "Address: 臺北市中正區羅斯福路四段134號2樓\n",
      "Latitude: 25.0129485\n",
      "Longitude: 121.5358227\n",
      "ImgByte: https://greenliving.moenv.gov.tw/DownLoadFile/GreenRestaurant/Client/220.128.103.111/2024/04/23/line_oa_chat_240417_131348.jpg\n",
      "==================================================\n",
      "Id: 4812\n",
      "Name: 989就愛海鮮粥\n",
      "Address: 臺北市中正區羅斯福路四段52巷16弄1號\n",
      "Latitude: 25.0146589\n",
      "Longitude: 121.5335291\n",
      "ImgByte: https://greenliving.moenv.gov.tw/DownLoadFile/GreenRestaurant/Client/182.233.70.51/2024/05/20/aa173d34-6d1a-456c-a7b1-11b80d48f56b.jpg\n",
      "==================================================\n",
      "Id: 4987\n",
      "Name: Allegro樂格輕食\n",
      "Address: 臺北市中正區中山南路21-1號\n",
      "Latitude: 25.0371269\n",
      "Longitude: 121.5193364\n",
      "ImgByte: https://greenliving.moenv.gov.tw/DownLoadFile/GreenRestaurant/Client/211.20.18.227/2024/06/27/85d253ee-9e33-47a8-955d-cae4b5d78d8c.jpg\n",
      "==================================================\n",
      "Id: 664\n",
      "Name: Aunt Stella 詩特莉\n",
      "Address: 臺北市大安區忠孝東路三段300號B3\n",
      "Latitude: 25.041212\n",
      "Longitude: 121.543057\n",
      "ImgByte: https://greenliving.moenv.gov.tw/DownLoadFile/GreenRestaurant/Client/203.74.121.37/2021/07/09/1a983b14-53c8-4ded-8cb9-10bbf2aefcc6.jpg\n",
      "==================================================\n"
     ]
    }
   ],
   "source": [
    "'''\n",
    "資訊平台: https://greenlifestyle.moenv.gov.tw/\n",
    "綠色餐廳: https://greenlifestyle.moenv.gov.tw/categories/restaurant\n",
    "預設連結 https://greenliving.moenv.gov.tw/newPublic/APIs/Restaurant4\n",
    "分頁連結 https://greenliving.moenv.gov.tw/newPublic/APIs/Restaurant4/1\n",
    "'''\n",
    "\n",
    "# 請求網址\n",
    "url = 'https://greenliving.moenv.gov.tw/newPublic/APIs/Restaurant4/1'\n",
    "res = requests.get(url)\n",
    "\n",
    "# 將 json 轉成物件\n",
    "obj = json.loads(res.text) # 或使用 obj = res.json()\n",
    "\n",
    "# 輸出對應節點的文字\n",
    "print(obj['Result'])\n",
    "print(obj['RowsCount'])\n",
    "print(obj['PageIndex'])\n",
    "\n",
    "print(\"=\" * 50)\n",
    "\n",
    "# 輸出部分節點的文字\n",
    "for o in obj['Detail']:\n",
    "    # 沒有座標的資料就略過\n",
    "    if o['Latitude'] == 0 or o['Longitude'] == 0: continue\n",
    "    \n",
    "    # 輸出資料\n",
    "    print(f\"Id: {o['Id']}\")\n",
    "    print(f\"Name: {o['Name']}\")\n",
    "    print(f\"Address: {o['Address']}\")\n",
    "    print(f\"Latitude: {o['Latitude']}\")\n",
    "    print(f\"Longitude: {o['Longitude']}\")\n",
    "    print(f\"ImgByte: {o['ImgByte']}\")\n",
    "    print(\"=\" * 50)"
   ]
  }
 ],
 "metadata": {
  "kernelspec": {
   "display_name": "test",
   "language": "python",
   "name": "python3"
  },
  "language_info": {
   "codemirror_mode": {
    "name": "ipython",
    "version": 3
   },
   "file_extension": ".py",
   "mimetype": "text/x-python",
   "name": "python",
   "nbconvert_exporter": "python",
   "pygments_lexer": "ipython3",
   "version": "3.10.14"
  }
 },
 "nbformat": 4,
 "nbformat_minor": 4
}

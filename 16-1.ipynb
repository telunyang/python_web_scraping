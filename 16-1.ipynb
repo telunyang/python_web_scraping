{
 "cells": [
  {
   "cell_type": "code",
   "execution_count": 1,
   "metadata": {},
   "outputs": [],
   "source": [
    "# 匯入套件\n",
    "from selenium import webdriver\n",
    "from selenium.common.exceptions import TimeoutException\n",
    "from selenium.webdriver.support.ui import WebDriverWait\n",
    "from selenium.webdriver.support import expected_conditions as EC\n",
    "from selenium.webdriver.common.by import By\n",
    "from time import sleep"
   ]
  },
  {
   "cell_type": "code",
   "execution_count": 2,
   "metadata": {},
   "outputs": [
    {
     "name": "stdout",
     "output_type": "stream",
     "text": [
      "https://tw.yahoo.com/\n"
     ]
    }
   ],
   "source": [
    "'''\n",
    "強制等待\n",
    "'''\n",
    "# 使用 Chrome 的 WebDriver\n",
    "driver = webdriver.Chrome()\n",
    "\n",
    "# 走訪網址\n",
    "driver.get('https://tw.yahoo.com/')\n",
    "\n",
    "# 印出網址\n",
    "print(driver.current_url)\n",
    "\n",
    "# 強制等待 3 秒再往下一步 (下一行程式)\n",
    "sleep(3)\n",
    "\n",
    "# 關閉瀏覽器\n",
    "driver.quit()"
   ]
  },
  {
   "cell_type": "code",
   "execution_count": 3,
   "metadata": {},
   "outputs": [
    {
     "name": "stdout",
     "output_type": "stream",
     "text": [
      "https://tw.yahoo.com/\n"
     ]
    }
   ],
   "source": [
    "'''\n",
    "隱性等待\n",
    "'''\n",
    "# 使用 Chrome 的 WebDriver\n",
    "driver = webdriver.Chrome()\n",
    "\n",
    "# 走訪網址\n",
    "driver.get('https://tw.yahoo.com/')\n",
    "\n",
    "# 印出網址\n",
    "print(driver.current_url)\n",
    "\n",
    "# 最高等 30 秒\n",
    "driver.implicitly_wait(30)\n",
    "\n",
    "# 關閉瀏覽器\n",
    "driver.quit()"
   ]
  },
  {
   "cell_type": "code",
   "execution_count": 4,
   "metadata": {},
   "outputs": [
    {
     "name": "stdout",
     "output_type": "stream",
     "text": [
      "https://www.youtube.com/\n"
     ]
    }
   ],
   "source": [
    "'''\n",
    "顯性等待\n",
    "'''\n",
    "# 使用 Chrome 的 WebDriver\n",
    "driver = webdriver.Chrome()\n",
    "\n",
    "# 走訪網址\n",
    "driver.get('https://www.youtube.com/?gl=TW')\n",
    "\n",
    "try:\n",
    "    # 滿足條件（10秒內找到元素），則往下一步\n",
    "    WebDriverWait(driver, 10).until(EC.presence_of_element_located( (By.LINK_TEXT, '首頁') ))\n",
    "    \n",
    "    # 印出首頁連結\n",
    "    print(driver.find_element_by_link_text('首頁').get_attribute('href'))\n",
    "    \n",
    "except TimeoutException:\n",
    "    print('等待逾時！')\n",
    "finally:\n",
    "    # 關閉瀏覽器\n",
    "    driver.quit()"
   ]
  }
 ],
 "metadata": {
  "kernelspec": {
   "display_name": "Python 3",
   "language": "python",
   "name": "python3"
  },
  "language_info": {
   "codemirror_mode": {
    "name": "ipython",
    "version": 3
   },
   "file_extension": ".py",
   "mimetype": "text/x-python",
   "name": "python",
   "nbconvert_exporter": "python",
   "pygments_lexer": "ipython3",
   "version": "3.7.9"
  }
 },
 "nbformat": 4,
 "nbformat_minor": 4
}

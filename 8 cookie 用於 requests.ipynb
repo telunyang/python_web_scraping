{
 "cells": [
  {
   "cell_type": "markdown",
   "id": "af7c99e7",
   "metadata": {},
   "source": [
    "# 以 PTT Gossiiping (八卦版) 為例"
   ]
  },
  {
   "cell_type": "code",
   "execution_count": 1,
   "id": "cd2ac08a",
   "metadata": {},
   "outputs": [
    {
     "name": "stdout",
     "output_type": "stream",
     "text": [
      "[新聞] 「雲豹小公主」現身 賴品妤遭追問利益輸\n",
      "https://www.ptt.cc/bbs/Gossiping/M.1692166156.A.B8D.html\n",
      "[問卦] 鬼月有陰陽眼的人 會特別困擾嗎？\n",
      "https://www.ptt.cc/bbs/Gossiping/M.1692166161.A.2DE.html\n",
      "[問卦] 這沙小粉專死猴子系列\n",
      "https://www.ptt.cc/bbs/Gossiping/M.1692166280.A.DB0.html\n",
      "[問卦] 投資是不是真的很重要\n",
      "https://www.ptt.cc/bbs/Gossiping/M.1692166335.A.44C.html\n",
      "[問卦] 女生說「考慮看看」\n",
      "https://www.ptt.cc/bbs/Gossiping/M.1692166367.A.6A6.html\n",
      "Re: [爆卦] 再援百億給巴拉圭建社宅  打造南美洲的台\n",
      "https://www.ptt.cc/bbs/Gossiping/M.1692166373.A.A1E.html\n",
      "[問卦] 其實山道猴很爽吧？\n",
      "https://www.ptt.cc/bbs/Gossiping/M.1692166412.A.825.html\n",
      "[新聞] 冰品、配料稽查17件不合格！2件冰淇淋\n",
      "https://www.ptt.cc/bbs/Gossiping/M.1692166449.A.DBA.html\n",
      "Re: [問卦] 台灣房價是不是很不符合常理\n",
      "https://www.ptt.cc/bbs/Gossiping/M.1692166502.A.2F2.html\n",
      "[問卦] 台積電去國外之後台灣是不是不重要了？\n",
      "https://www.ptt.cc/bbs/Gossiping/M.1692166515.A.DD6.html\n",
      "[新聞] 侯友宜指賴清德台獨立場未變 還有台獨GPS\n",
      "https://www.ptt.cc/bbs/Gossiping/M.1692166553.A.A02.html\n",
      "[公告] 八卦板板規(2023.03.01)\n",
      "https://www.ptt.cc/bbs/Gossiping/M.1677600392.A.D12.html\n",
      "[協尋] 8/6凌晨4點 新莊中正路與富國路交叉 行車\n",
      "https://www.ptt.cc/bbs/Gossiping/M.1691302175.A.358.html\n",
      "[協尋] 8/11 約晚上九點北市辛亥路一段跟溫州街 \n",
      "https://www.ptt.cc/bbs/Gossiping/M.1691835442.A.ABC.html\n",
      "[公告] 勿PO買賣大麻當法務部跟板主死了嗎?水桶\n",
      "https://www.ptt.cc/bbs/Gossiping/M.1692105056.A.FAE.html\n"
     ]
    }
   ],
   "source": [
    "import requests as req\n",
    "from bs4 import BeautifulSoup as bs\n",
    "\n",
    " # PTT Gossiiping (八卦版) \n",
    "url = \"https://www.ptt.cc/bbs/Gossiping/index.html\"\n",
    "\n",
    "# 首頁網址\n",
    "prefix = 'https://www.ptt.cc'\n",
    "\n",
    "# 設定 cookie\n",
    "my_cookies = {\n",
    "    \"over18\": \"1\"\n",
    "}\n",
    "\n",
    "# 用 requests 的 get 方法把網頁抓下來\n",
    "res = req.get(url, cookies = my_cookies) \n",
    "\n",
    "# 指定 lxml 作為解析器\n",
    "soup = bs(res.text, \"lxml\")\n",
    "\n",
    "# 顯示連結列表\n",
    "for a in soup.select('div.r-ent > div.title > a'):\n",
    "    print(a.get_text())\n",
    "    print(prefix + a['href'])"
   ]
  }
 ],
 "metadata": {
  "kernelspec": {
   "display_name": "Python 3 (ipykernel)",
   "language": "python",
   "name": "python3"
  },
  "language_info": {
   "codemirror_mode": {
    "name": "ipython",
    "version": 3
   },
   "file_extension": ".py",
   "mimetype": "text/x-python",
   "name": "python",
   "nbconvert_exporter": "python",
   "pygments_lexer": "ipython3",
   "version": "3.10.11"
  }
 },
 "nbformat": 4,
 "nbformat_minor": 5
}

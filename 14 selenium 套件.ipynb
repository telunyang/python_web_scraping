{
 "cells": [
  {
   "cell_type": "code",
   "execution_count": null,
   "metadata": {},
   "outputs": [],
   "source": [
    "'''\n",
    "參考網頁:\n",
    "[1] 下載 Chrome Web Driver\n",
    "https://chromedriver.chromium.org/downloads\n",
    "[2] Webdriver Manager for Python\n",
    "https://github.com/SergeyPirogov/webdriver_manager\n",
    "'''\n",
    "\n",
    "# 操作 browser 的 API\n",
    "from selenium.webdriver.chrome.service import Service\n",
    "from selenium import webdriver\n",
    "\n",
    "# 匯入套件\n",
    "from bs4 import BeautifulSoup as bs\n",
    "\n",
    "# 強制等待 (執行期間休息一下)\n",
    "from time import sleep\n",
    "\n",
    "# 使用 Chrome 的 WebDriver\n",
    "service = Service(executable_path=\"./chromedriver.exe\")\n",
    "driver = webdriver.Chrome(service=service)\n",
    "\n",
    "# 開啟 數位時代 首頁\n",
    "driver.get(\"https://www.bnext.com.tw/\")\n",
    "\n",
    "# 取得檢視原始碼的內容 (page_source 取得的 html，是動態的、使用者操作過後的結果)\n",
    "html = driver.page_source\n",
    "\n",
    "# 印出 html (也可以跟 Beautifulsoup 整合)\n",
    "# print(html)\n",
    "\n",
    "# 指定 lxml 作為解析器\n",
    "soup = bs(html, \"lxml\")\n",
    "\n",
    "# 取得 上方選單 元素\n",
    "div = soup.select_one('div.center.block-large-show')\n",
    "\n",
    "# 顯示內文\n",
    "print(div.get_text())\n",
    "\n",
    "# 休眠幾秒\n",
    "sleep(3)\n",
    "\n",
    "# 關閉瀏覽器\n",
    "driver.quit()"
   ]
  }
 ],
 "metadata": {
  "kernelspec": {
   "display_name": "Python 3 (ipykernel)",
   "language": "python",
   "name": "python3"
  },
  "language_info": {
   "codemirror_mode": {
    "name": "ipython",
    "version": 3
   },
   "file_extension": ".py",
   "mimetype": "text/x-python",
   "name": "python",
   "nbconvert_exporter": "python",
   "pygments_lexer": "ipython3",
   "version": "3.9.12"
  }
 },
 "nbformat": 4,
 "nbformat_minor": 4
}

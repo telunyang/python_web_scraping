{
 "cells": [
  {
   "cell_type": "markdown",
   "metadata": {},
   "source": [
    "# 正規表達式 Regular Expression"
   ]
  },
  {
   "cell_type": "code",
   "execution_count": null,
   "metadata": {},
   "outputs": [],
   "source": [
    "# 匯入 regex 套件\n",
    "import re"
   ]
  },
  {
   "cell_type": "code",
   "execution_count": null,
   "metadata": {},
   "outputs": [],
   "source": [
    "# search\n",
    "'''\n",
    "說明\n",
    "re.search 會將整個字串進行搜尋，\n",
    "但只會比對到第一組，\n",
    "match[0]是regex所代表的整個完整比對的字串，\n",
    "match[1]是第一組()中的內容，\n",
    "match[2]是第二組()中的內容...\n",
    "'''\n",
    "regex01 = r'[a-zA-Z]([12])\\d{8}'\n",
    "string01 = \"A123456789, S299888777\"\n",
    "match01 = re.search(regex01, string01)\n",
    "print(match01)\n",
    "print(match01[0])\n",
    "print(match01[1])\n",
    "\n",
    "'''\n",
    "補充:\n",
    "match.group() 或 match.group(0) 是regex所代表的整個完整比對的字串，\n",
    "match.group(1)是第一組()中的內容，\n",
    "match.group(2)是第二組()中的內容...\n",
    "'''\n",
    "print(match01.group(0))\n",
    "print(match01.group(1))"
   ]
  },
  {
   "cell_type": "code",
   "execution_count": null,
   "metadata": {},
   "outputs": [],
   "source": [
    "# findall\n",
    "'''\n",
    "說明\n",
    "re.findall 會將所有配對到的字串\n",
    "回傳成一個 list\n",
    "'''\n",
    "regex02 = r'[0-9]+'\n",
    "string02 = \"0911111111, 0922222222, 0933333333\"\n",
    "listMatch02 = re.findall(regex02, string02)\n",
    "print(listMatch02)\n",
    "print(listMatch02[0])\n",
    "print(listMatch02[2])"
   ]
  },
  {
   "cell_type": "code",
   "execution_count": null,
   "metadata": {},
   "outputs": [],
   "source": [
    "# finditer\n",
    "'''\n",
    "說明\n",
    "re.finditer 會將所有配對到的字串\n",
    "以迭代的方式呈現，若沒有配對到，則回傳 None\n",
    "'''\n",
    "regex03 = r'[0-9]+'\n",
    "string03 = \"0911111111, 0922222222, 0933333333\"\n",
    "iterableMatch03 = re.finditer(regex03, string03)\n",
    "if iterableMatch03 != None:\n",
    "    for match in iterableMatch03:\n",
    "        print(match[0])"
   ]
  },
  {
   "cell_type": "code",
   "execution_count": null,
   "metadata": {},
   "outputs": [],
   "source": [
    "# match\n",
    "'''\n",
    "說明\n",
    "re.match 與 re.search 的差別，\n",
    "在於 match 會從字串的「開頭」開始比對，\n",
    "比對不到，便回傳 None\n",
    "'''\n",
    "regex04 = r'2[0-9]{3}\\/[0-1]?[0-9]{1}\\/([0-3]?[0-9])'\n",
    "string04 = \"2022/06/30\"\n",
    "match04 = re.match(regex04, string04)\n",
    "print(match04)\n",
    "print(match04[0])\n",
    "print(match04[1])"
   ]
  },
  {
   "cell_type": "code",
   "execution_count": null,
   "metadata": {},
   "outputs": [],
   "source": [
    "# split\n",
    "'''\n",
    "說明\n",
    "re.split 類似 string.split('separator')，\n",
    "只是用正規表達式來作為 separator，\n",
    "並回傳 list\n",
    "'''\n",
    "regex06 = r'\\d'\n",
    "string06 = \"One1Two2Three3Four4\"\n",
    "listMatch06 = re.split(regex06, string06)\n",
    "print(listMatch06)"
   ]
  },
  {
   "cell_type": "code",
   "execution_count": null,
   "metadata": {},
   "outputs": [],
   "source": [
    "# sub\n",
    "'''\n",
    "說明\n",
    "re.sub(regex, replace_string, test_string)\n",
    "將 regex 所代表的文字，改成 replace_string，文字來源是 test_string\n",
    "'''\n",
    "regex07 = r\"\\D\"\n",
    "string07 = \"5-20 #1314\"\n",
    "strResult = re.sub(regex07, \"\", string07)\n",
    "print(strResult)"
   ]
  },
  {
   "cell_type": "markdown",
   "metadata": {},
   "source": [
    "# 環視\n",
    "| 名稱 | 語法 | 說明 |\n",
    "|:---:|:---:|:---:|\n",
    "| 正向環視 | (?=) | 這位置右邊要出現什麼 |\n",
    "| 正向環視否定 | (?!) | 這位置右邊不能出現什麼 |\n",
    "| 反向環視 | (?<=) | 這位置左邊要出現什麼 |\n",
    "| 反向環視否定 | (?<!) | 這位置左邊不能出現什麼 |"
   ]
  },
  {
   "cell_type": "code",
   "execution_count": null,
   "metadata": {},
   "outputs": [],
   "source": [
    "# 環視 (例如去除中文字旁邊的空白)\n",
    "regex08 = r\"\\s(?![a-zA-Z])\" # 也可以寫成 r\"(?<![a-zA-Z])\\s\"\n",
    "string08 = \"一 天 一 蘋 果 醫 生 遠 離 我。An apple a day keeps the doctor away.\"\n",
    "strResult = re.sub(regex08, '', string08)\n",
    "print(strResult)"
   ]
  },
  {
   "cell_type": "code",
   "execution_count": null,
   "metadata": {},
   "outputs": [],
   "source": [
    "# 環視 (加入千分位)\n",
    "regex09 = r'(?<=\\d)(?=(\\d{3})+\\b)'\n",
    "string09 = '1234567890'\n",
    "strResult = re.sub(regex09, ',', string09)\n",
    "print(strResult)"
   ]
  },
  {
   "cell_type": "markdown",
   "metadata": {},
   "source": [
    "---\n",
    "# 具名群組"
   ]
  },
  {
   "cell_type": "code",
   "execution_count": null,
   "metadata": {},
   "outputs": [],
   "source": [
    "'''\n",
    "補充:\n",
    "除了 .group(n) 以外，\n",
    "還可以用 key 來代替 n。\n",
    "'''\n",
    "# 身分證字號\n",
    "regex08 = r'[A-Z](?P<gender>[12])\\d{8}'\n",
    "string08 = \"A100000001\"\n",
    "match08 = re.match(regex08, string08)\n",
    "\n",
    "# 完整配對的文字\n",
    "print(match08[0])\n",
    "print(match08.group(0))\n",
    "print(match08.group())\n",
    "\n",
    "# 具名(類似key)所代表的值，也可以用索引代號來取得\n",
    "print(match08.group('gender'))\n",
    "print(match08['gender'])\n",
    "print(match08[1])"
   ]
  },
  {
   "cell_type": "markdown",
   "metadata": {},
   "source": [
    "# 參考資料\n",
    "1. [Python3 正则表达式](https://www.runoob.com/python3/python3-reg-expressions.html \"Python3 正则表达式\")\n",
    "2. [正則表達式-全型英數中文字、常用符號unicode對照表](https://blog.typeart.cc/%E6%AD%A3%E5%89%87%E8%A1%A8%E9%81%94%E5%BC%8F-%E5%85%A8%E5%9E%8B%E8%8B%B1%E6%95%B8%E4%B8%AD%E6%96%87%E5%AD%97%E3%80%81%E5%B8%B8%E7%94%A8%E7%AC%A6%E8%99%9Funicode%E5%B0%8D%E7%85%A7%E8%A1%A8/ \"正則表達式-全型英數中文字、常用符號unicode對照表\")\n",
    "3. [匹配中文字符的正則表達式： [/u4e00-/u9fa5]](https://www.itread01.com/content/1513168876.html \"匹配中文字符的正則表達式： [/u4e00-/u9fa5]\")\n",
    "4. [【Regular Expression】正向環視、反向環視](https://toyo0103.blogspot.com/2017/01/regular-expression.html \"【Regular Expression】正向環視、反向環視\")"
   ]
  }
 ],
 "metadata": {
  "kernelspec": {
   "display_name": "Python 3.9.12 ('base')",
   "language": "python",
   "name": "python3"
  },
  "language_info": {
   "codemirror_mode": {
    "name": "ipython",
    "version": 3
   },
   "file_extension": ".py",
   "mimetype": "text/x-python",
   "name": "python",
   "nbconvert_exporter": "python",
   "pygments_lexer": "ipython3",
   "version": "3.9.12"
  },
  "vscode": {
   "interpreter": {
    "hash": "585a938ec471c889bf0cce0aed741a99eaf47ca09c0fa8393793bc5bfe77ba11"
   }
  }
 },
 "nbformat": 4,
 "nbformat_minor": 4
}

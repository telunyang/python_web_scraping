{
 "cells": [
  {
   "cell_type": "code",
   "execution_count": null,
   "metadata": {},
   "outputs": [],
   "source": [
    "# 使用 requests 工具\n",
    "import requests\n",
    "\n",
    "# 使用 json 工具\n",
    "import json"
   ]
  },
  {
   "cell_type": "code",
   "execution_count": null,
   "metadata": {},
   "outputs": [],
   "source": [
    "# 使用 GET 方式下載普通網頁\n",
    "res = requests.get('https://httpbin.org/get')\n",
    "\n",
    "# 伺服器回應的狀態碼\n",
    "# 參考網頁: https://reurl.cc/2DRpan\n",
    "print(res.status_code)\n",
    "\n",
    "# 回傳資料的編碼\n",
    "print(res.encoding)\n",
    "\n",
    "# 指定回傳資料的編碼\n",
    "# response.encoding = 'utf-8'\n",
    "\n",
    "# 輸出網頁 HTML 原始碼\n",
    "print(res.text)"
   ]
  },
  {
   "cell_type": "code",
   "execution_count": null,
   "metadata": {},
   "outputs": [],
   "source": [
    "# GET 方法的 query string\n",
    "my_params = {\n",
    "    'key1': 'value1', \n",
    "    'key2': 'value2'\n",
    "}\n",
    "\n",
    "# 將 query string 加入 GET 請求中\n",
    "res = requests.get('https://httpbin.org/get', params = my_params)\n",
    "\n",
    "# 觀察 URL\n",
    "print(res.url)\n",
    "\n",
    "# 輸出網頁 HTML 原始碼\n",
    "print(res.text)"
   ]
  },
  {
   "cell_type": "code",
   "execution_count": null,
   "metadata": {},
   "outputs": [],
   "source": [
    "# POST 方法的 form data\n",
    "my_data = {\n",
    "    'key1': 'value1', \n",
    "    'key2': 'value2'\n",
    "}\n",
    "\n",
    "# 將 form data 加入 POST 請求中\n",
    "res = requests.post('https://httpbin.org/post', data = my_data)\n",
    "\n",
    "# 輸出網頁 HTML 原始碼\n",
    "print(res.text)"
   ]
  },
  {
   "cell_type": "code",
   "execution_count": null,
   "metadata": {},
   "outputs": [],
   "source": [
    "# 要上傳的檔案 (變數名稱為 my_filename)\n",
    "my_files = {\n",
    "    'my_filename': open('turingcerts.jpg', 'rb')\n",
    "}\n",
    "\n",
    "# 將檔案加入 POST 請求中\n",
    "res = requests.post('https://httpbin.org/post', files = my_files)\n",
    "\n",
    "# 輸出網頁 HTML 原始碼\n",
    "print(res.text)"
   ]
  },
  {
   "cell_type": "code",
   "execution_count": null,
   "metadata": {},
   "outputs": [],
   "source": [
    "# 自訂標頭\n",
    "my_headers = {\n",
    "    'user-agent': 'Mozilla/5.0 (Windows NT 10.0; Win64; x64) AppleWebKit/537.36 (KHTML, like Gecko) Chrome/99.0.4844.82 Safari/537.36'\n",
    "}\n",
    "\n",
    "# 將自訂標頭加入 GET 請求中\n",
    "res = requests.get('https://httpbin.org/get', headers = my_headers)\n",
    "\n",
    "# 輸出網頁 HTML 原始碼\n",
    "print(res.text)"
   ]
  },
  {
   "cell_type": "code",
   "execution_count": null,
   "metadata": {},
   "outputs": [],
   "source": [
    "# 自訂 cookie 格式\n",
    "my_cookies = {\n",
    "    \"first_cookie\": \"hello\",\n",
    "    \"second_cookie\": \"world\"\n",
    "}\n",
    "\n",
    "# 將 cookie 加入 GET 請求\n",
    "res = requests.get('https://httpbin.org/get', cookies = my_cookies)\n",
    "\n",
    "# 輸出網頁 HTML 原始碼\n",
    "print(res.text)"
   ]
  },
  {
   "cell_type": "code",
   "execution_count": null,
   "metadata": {},
   "outputs": [],
   "source": [
    "# 參考網址: https://data.taipei/#/application\n",
    "url = 'https://data.taipei/api/v1/dataset/d706f428-b2c7-4591-9ebf-9f5cd7408f47?scope=resourceAquire'\n",
    "res = requests.get(url)\n",
    "\n",
    "# 將 json 轉成物件\n",
    "obj = json.loads(res.text)\n",
    "\n",
    "# 輸出對應節點的文字\n",
    "print(obj['result']['limit'])\n",
    "print(obj['result']['offset'])\n",
    "\n",
    "# 輸出部分節點的文字\n",
    "for o in obj['result']['results']:\n",
    "    print(f\"_id: {o['_id']}\")\n",
    "    print(f\"餐廳名稱: {o['餐廳名稱']}\")\n",
    "    print(f\"餐館電話: {o['餐館電話']}\")\n",
    "    print(f\"餐館地址: {o['餐館地址']}\")\n",
    "    print(\"=\" * 50)"
   ]
  }
 ],
 "metadata": {
  "kernelspec": {
   "display_name": "Python 3 (ipykernel)",
   "language": "python",
   "name": "python3"
  },
  "language_info": {
   "codemirror_mode": {
    "name": "ipython",
    "version": 3
   },
   "file_extension": ".py",
   "mimetype": "text/x-python",
   "name": "python",
   "nbconvert_exporter": "python",
   "pygments_lexer": "ipython3",
   "version": "3.9.12"
  }
 },
 "nbformat": 4,
 "nbformat_minor": 4
}

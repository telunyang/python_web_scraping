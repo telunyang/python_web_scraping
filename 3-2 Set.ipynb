{
 "cells": [
  {
   "cell_type": "markdown",
   "metadata": {},
   "source": [
    "### 補充: Set 的用法\n",
    "#### 特點\n",
    "- 無序號、索引概念\n",
    "- 無索引(隨機出現)\n",
    "- 沒有重覆(一樣的只會出現一次)\n",
    "\n",
    "#### 基本概念\n",
    "- 一筆筆讀資料 : for 迴圈 \n",
    "- 總共有幾筆資料: len()\n",
    "- 添加一筆資料: add()\n",
    "- 添加多筆資料: update() (參數放的是 list)\n",
    "- 查詢陣列中有沒有我要的資料: in (只回傳 true 或 false)\n",
    "- 刪除元素: discard() or remove()\n",
    "- 清空: clear()、del"
   ]
  },
  {
   "cell_type": "code",
   "execution_count": null,
   "metadata": {},
   "outputs": [],
   "source": [
    "# Set 初始化: 第一種\n",
    "mySet01 = {\"網路\", \"爬蟲\", \"真好玩\"}\n",
    "\n",
    "print(mySet01)\n",
    "\n",
    "# Set 初始化: 第二種 (裡面放 tuple)\n",
    "mySet02 = set( (\"網路\", \"爬蟲\", \"真好玩\") )\n",
    "\n",
    "print(mySet02)"
   ]
  },
  {
   "cell_type": "code",
   "execution_count": null,
   "metadata": {},
   "outputs": [],
   "source": [
    "# 一筆筆讀資料 : for 迴圈\n",
    "for data in mySet02: \n",
    "    print(data)"
   ]
  },
  {
   "cell_type": "code",
   "execution_count": null,
   "metadata": {},
   "outputs": [],
   "source": [
    "# 總共有幾筆資料: len()\n",
    "print( len(mySet02) )"
   ]
  },
  {
   "cell_type": "code",
   "execution_count": null,
   "metadata": {},
   "outputs": [],
   "source": [
    "# 因為沒有序號、索引的概念，所以無法透過指定索引輸出\n",
    "print( mySet01[0] )"
   ]
  },
  {
   "cell_type": "code",
   "execution_count": null,
   "metadata": {},
   "outputs": [],
   "source": [
    "# 添加一筆資料: add()\n",
    "mySet01.add(\"嗎?\")\n",
    "mySet02.add(\"對不對?\")\n",
    "\n",
    "print(mySet01)\n",
    "print(mySet02)\n",
    "\n",
    "# 此時新增重複的，資料不會增加\n",
    "mySet01.add(\"真好玩\")\n",
    "print(mySet01)"
   ]
  },
  {
   "cell_type": "code",
   "execution_count": null,
   "metadata": {},
   "outputs": [],
   "source": [
    "# 添加多筆資料: update()\n",
    "mySet01.update([\"甲\", \"乙\", \"丙\"])\n",
    "mySet02.update([\"子\", \"丑\", \"寅\"])\n",
    "\n",
    "print(mySet01)\n",
    "print(mySet02)"
   ]
  },
  {
   "cell_type": "code",
   "execution_count": null,
   "metadata": {},
   "outputs": [],
   "source": [
    "# 查詢陣列中有沒有我要的資料: in (只回傳 true 或 false)\n",
    "print( \"甲\" in mySet01 )\n",
    "print( \"甲\" in mySet02 )\n",
    "\n",
    "if \"乙\" in mySet01:\n",
    "    print(\"有資料\")\n",
    "else:\n",
    "    print(\"找不到資料\")"
   ]
  },
  {
   "cell_type": "code",
   "execution_count": null,
   "metadata": {},
   "outputs": [],
   "source": [
    "# 刪除元素: discard() or remove()\n",
    "mySet01.discard(\"丙\")\n",
    "print(mySet01)\n",
    "\n",
    "mySet02.remove(\"丑\")\n",
    "print(mySet02)"
   ]
  },
  {
   "cell_type": "code",
   "execution_count": null,
   "metadata": {},
   "outputs": [],
   "source": [
    "# 清空: clear()、del\n",
    "'''.clear() 會清空 set 變數，但變數依然存在，所以會印出空 set'''\n",
    "mySet01.clear()\n",
    "print(mySet01)\n",
    "\n",
    "''' del 會將 set 變數從記憶體中刪除，所以刪除完後，變數會變成未宣告的狀態'''\n",
    "del mySet02\n",
    "print(mySet02)"
   ]
  }
 ],
 "metadata": {
  "kernelspec": {
   "display_name": "Python 3 (ipykernel)",
   "language": "python",
   "name": "python3"
  },
  "language_info": {
   "codemirror_mode": {
    "name": "ipython",
    "version": 3
   },
   "file_extension": ".py",
   "mimetype": "text/x-python",
   "name": "python",
   "nbconvert_exporter": "python",
   "pygments_lexer": "ipython3",
   "version": "3.9.13"
  }
 },
 "nbformat": 4,
 "nbformat_minor": 4
}

{
 "cells": [
  {
   "cell_type": "code",
   "execution_count": 1,
   "metadata": {},
   "outputs": [],
   "source": [
    "# 匯入套件 \n",
    "import re"
   ]
  },
  {
   "cell_type": "code",
   "execution_count": 2,
   "metadata": {},
   "outputs": [
    {
     "name": "stdout",
     "output_type": "stream",
     "text": [
      "https://www.instagram.com/darreninfo.cc/\n",
      "www.instagram.com\n",
      "darreninfo.cc\n",
      "www.instagram.com\n",
      "darreninfo.cc\n",
      "www.instagram.com\n",
      "darreninfo.cc\n"
     ]
    }
   ],
   "source": [
    "# named group\n",
    "regex01 = r'https?:\\/\\/(?P<domain_name>[a-z]+\\.[a-z]+\\.[a-z]+)+\\/(?P<ig_id>[a-z.]+)\\/'\n",
    "string01 = \"https://www.instagram.com/darreninfo.cc/\"\n",
    "match01 = re.match(regex01, string01)\n",
    "'''\n",
    "說明\n",
    "除了 .group(n) 以外，\n",
    "還可以做用 name，\n",
    "作為 key 來存取 group()\n",
    "'''\n",
    "print(match01.group())\n",
    "print(match01.group('domain_name'))\n",
    "print(match01.group('ig_id'))\n",
    "print(match01['domain_name'])\n",
    "print(match01['ig_id'])\n",
    "print(match01[1])\n",
    "print(match01[2])"
   ]
  },
  {
   "cell_type": "code",
   "execution_count": 3,
   "metadata": {},
   "outputs": [
    {
     "name": "stdout",
     "output_type": "stream",
     "text": [
      "telunyang@gmail.com\n",
      "telunyang\n",
      "gmail.com\n"
     ]
    }
   ],
   "source": [
    "# E-mail\n",
    "'''\n",
    "說明\n",
    "透過 named group 取得 username、domain name\n",
    "'''\n",
    "regex02 = r'(?P<username>[a-zA-Z0-9]+)@(?P<domain_name>[0-9A-Za-z]+\\.[0-9A-Za-z]+)'\n",
    "string02 = \"telunyang@gmail.com\"\n",
    "match02 = re.match(regex02, string02)\n",
    "print(match02.group())\n",
    "print(match02.group('username'))\n",
    "print(match02.group('domain_name'))"
   ]
  },
  {
   "cell_type": "code",
   "execution_count": 4,
   "metadata": {},
   "outputs": [
    {
     "name": "stdout",
     "output_type": "stream",
     "text": [
      "https://www.iiiedu.org.tw/location/\n",
      "www.iiiedu.org.tw\n",
      "location\n"
     ]
    }
   ],
   "source": [
    "# url\n",
    "regex03 = r'https?:\\/\\/(?P<domain_name>[a-z.]+)\\/(?P<path>[a-z]+)\\/'\n",
    "string03 = \"https://www.iiiedu.org.tw/location/\"\n",
    "match03 = re.match(regex03, string03)\n",
    "print(match03.group())\n",
    "print(match03.group('domain_name'))\n",
    "print(match03.group('path'))"
   ]
  }
 ],
 "metadata": {
  "kernelspec": {
   "display_name": "Python 3",
   "language": "python",
   "name": "python3"
  },
  "language_info": {
   "codemirror_mode": {
    "name": "ipython",
    "version": 3
   },
   "file_extension": ".py",
   "mimetype": "text/x-python",
   "name": "python",
   "nbconvert_exporter": "python",
   "pygments_lexer": "ipython3",
   "version": "3.8.8"
  }
 },
 "nbformat": 4,
 "nbformat_minor": 4
}

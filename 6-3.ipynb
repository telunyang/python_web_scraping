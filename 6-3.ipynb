{
 "cells": [
  {
   "cell_type": "code",
   "execution_count": 1,
   "metadata": {},
   "outputs": [],
   "source": [
    "# 匯入套件 \n",
    "import re"
   ]
  },
  {
   "cell_type": "code",
   "execution_count": 2,
   "metadata": {},
   "outputs": [
    {
     "name": "stdout",
     "output_type": "stream",
     "text": [
      "abcd{111:333,444:555}cdefg123456\n",
      "111:333,444:555\n",
      "123456\n",
      "111:333,444:555\n",
      "123456\n",
      "111:333,444:555\n",
      "123456\n"
     ]
    }
   ],
   "source": [
    "# named group\n",
    "regex01 = r'[a-zA-Z]+\\{(?P<value>.*?)\\}[a-zA-Z]+(?P<number>[0-9]+)'\n",
    "string01 = \"abcd{111:333,444:555}cdefg123456\"\n",
    "match01 = re.match(regex01, string01)\n",
    "'''\n",
    "說明\n",
    "除了 .group(n) 以外，\n",
    "還可以做用 name，\n",
    "作為 key 來存取 group()\n",
    "'''\n",
    "print(match01.group())\n",
    "print(match01.group('value'))\n",
    "print(match01.group('number'))\n",
    "print(match01['value'])\n",
    "print(match01['number'])\n",
    "print(match01[1])\n",
    "print(match01[2])"
   ]
  },
  {
   "cell_type": "code",
   "execution_count": 3,
   "metadata": {},
   "outputs": [
    {
     "name": "stdout",
     "output_type": "stream",
     "text": [
      "telunyang@gmail.com\n",
      "telunyang\n",
      "gmail.com\n"
     ]
    }
   ],
   "source": [
    "# E-mail\n",
    "'''\n",
    "說明\n",
    "透過 named group 取得 username、domain name\n",
    "'''\n",
    "regex02 = r'(?P<username>[a-zA-Z0-9]+)@(?P<domain_name>[0-9A-Za-z]+\\.[0-9A-Za-z]+)'\n",
    "string02 = \"telunyang@gmail.com\"\n",
    "match02 = re.match(regex02, string02)\n",
    "print(match02.group())\n",
    "print(match02.group('username'))\n",
    "print(match02.group('domain_name'))"
   ]
  },
  {
   "cell_type": "code",
   "execution_count": 4,
   "metadata": {},
   "outputs": [
    {
     "name": "stdout",
     "output_type": "stream",
     "text": [
      "https://www.iiiedu.org.tw/location/\n",
      "www.iiiedu.org.tw\n",
      "location\n"
     ]
    }
   ],
   "source": [
    "# url\n",
    "regex03 = r'https?:\\/\\/(?P<domain_name>[a-z.]+)\\/(?P<path>[a-z]+)\\/'\n",
    "string03 = \"https://www.iiiedu.org.tw/location/\"\n",
    "match03 = re.match(regex03, string03)\n",
    "print(match03.group())\n",
    "print(match03.group('domain_name'))\n",
    "print(match03.group('path'))"
   ]
  }
 ],
 "metadata": {
  "kernelspec": {
   "display_name": "Python 3",
   "language": "python",
   "name": "python3"
  },
  "language_info": {
   "codemirror_mode": {
    "name": "ipython",
    "version": 3
   },
   "file_extension": ".py",
   "mimetype": "text/x-python",
   "name": "python",
   "nbconvert_exporter": "python",
   "pygments_lexer": "ipython3",
   "version": "3.7.9"
  }
 },
 "nbformat": 4,
 "nbformat_minor": 4
}

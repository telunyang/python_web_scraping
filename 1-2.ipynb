{
 "cells": [
  {
   "cell_type": "code",
   "execution_count": null,
   "metadata": {},
   "outputs": [],
   "source": [
    "from selenium import webdriver\n",
    "from selenium.common.exceptions import TimeoutException\n",
    "from selenium.webdriver.support.ui import WebDriverWait\n",
    "from selenium.webdriver.support import expected_conditions as EC\n",
    "from selenium.webdriver.common.by import By\n",
    "from time import sleep\n",
    "\n",
    "# 使用 Chrome 的 WebDriver\n",
    "driver = webdriver.Chrome()\n",
    "\n",
    "# 開啟 Google 首頁\n",
    "driver.get(\"https://www.google.com\")\n",
    "\n",
    "# 尋找網頁中的搜尋框\n",
    "inputElement = driver.find_element_by_name(\"q\")\n",
    "\n",
    "# 在搜尋框中輸入文字\n",
    "inputElement.send_keys(\"Selenium\")\n",
    "\n",
    "# 送出搜尋\n",
    "inputElement.submit()\n",
    "\n",
    "# Google 搜尋結果的 XPath\n",
    "xpath = \"//div[@class='g']//h3[@class='LC20lb DKV0Md']\"\n",
    "\n",
    "try:\n",
    "    # 等待網頁搜尋結果\n",
    "    WebDriverWait(driver, 10).until(EC.visibility_of_element_located((By.XPATH, xpath)))\n",
    "\n",
    "    # 取得第一頁搜尋結果\n",
    "    page1_results = driver.find_elements_by_xpath(xpath)\n",
    "\n",
    "    # 輸出搜尋結果\n",
    "    for item in page1_results:\n",
    "        print(item.text)\n",
    "    \n",
    "    # 睡個幾秒\n",
    "    sleep(6)\n",
    "    \n",
    "    # 關閉瀏覽器\n",
    "    driver.quit()\n",
    "\n",
    "except TimeoutException:\n",
    "    print('等待逾時！')\n",
    "    driver.quit()"
   ]
  }
 ],
 "metadata": {
  "kernelspec": {
   "display_name": "Python 3",
   "language": "python",
   "name": "python3"
  },
  "language_info": {
   "codemirror_mode": {
    "name": "ipython",
    "version": 3
   },
   "file_extension": ".py",
   "mimetype": "text/x-python",
   "name": "python",
   "nbconvert_exporter": "python",
   "pygments_lexer": "ipython3",
   "version": "3.7.9"
  }
 },
 "nbformat": 4,
 "nbformat_minor": 4
}

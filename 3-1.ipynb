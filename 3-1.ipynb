{
 "cells": [
  {
   "cell_type": "code",
   "execution_count": 4,
   "metadata": {},
   "outputs": [
    {
     "name": "stdout",
     "output_type": "stream",
     "text": [
      "num 大於 5\n"
     ]
    }
   ],
   "source": [
    "# if 敘述\n",
    "num = 10\n",
    "\n",
    "if num > 5:\n",
    "    print(\"num 大於 5\")"
   ]
  },
  {
   "cell_type": "code",
   "execution_count": 5,
   "metadata": {},
   "outputs": [
    {
     "name": "stdout",
     "output_type": "stream",
     "text": [
      "名稱是 apple\n"
     ]
    }
   ],
   "source": [
    "# if else 敘述\n",
    "name = 'apple'\n",
    "\n",
    "if name == 'apple':\n",
    "    print('名稱是 apple')\n",
    "else:\n",
    "    print(\"名稱不是 apple\")"
   ]
  },
  {
   "cell_type": "code",
   "execution_count": 6,
   "metadata": {},
   "outputs": [
    {
     "name": "stdout",
     "output_type": "stream",
     "text": [
      "名稱: darren\n"
     ]
    }
   ],
   "source": [
    "# if elif else\n",
    "name = 'darren'\n",
    "\n",
    "if name == \"alex\":\n",
    "    print(\"名稱: alex\")\n",
    "elif name == \"bill\":\n",
    "    print(\"名稱: bill\")\n",
    "elif name == \"carl\":\n",
    "    print(\"名稱: carl\")\n",
    "elif name == \"darren\":\n",
    "    print(\"名稱: darren\")\n",
    "else:\n",
    "    print(\"Not found\")"
   ]
  }
 ],
 "metadata": {
  "kernelspec": {
   "display_name": "Python 3",
   "language": "python",
   "name": "python3"
  },
  "language_info": {
   "codemirror_mode": {
    "name": "ipython",
    "version": 3
   },
   "file_extension": ".py",
   "mimetype": "text/x-python",
   "name": "python",
   "nbconvert_exporter": "python",
   "pygments_lexer": "ipython3",
   "version": "3.7.9"
  }
 },
 "nbformat": 4,
 "nbformat_minor": 4
}

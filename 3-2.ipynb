{
 "cells": [
  {
   "cell_type": "code",
   "execution_count": 1,
   "metadata": {},
   "outputs": [
    {
     "name": "stdout",
     "output_type": "stream",
     "text": [
      "12345"
     ]
    }
   ],
   "source": [
    "# while 迴圈\n",
    "count = 1\n",
    "while count <= 5:\n",
    "    print(count, end=\"\")\n",
    "    count = count + 1"
   ]
  },
  {
   "cell_type": "code",
   "execution_count": 2,
   "metadata": {},
   "outputs": [
    {
     "name": "stdout",
     "output_type": "stream",
     "text": [
      "5,6,7,"
     ]
    }
   ],
   "source": [
    "# for 迴圈 01\n",
    "'''\n",
    "用法\n",
    "range(n, m)\n",
    "說明\n",
    "會走訪 n 到 m-1 的數字\n",
    "'''\n",
    "for i in range(5,8):\n",
    "    print(i, end = \",\")"
   ]
  },
  {
   "cell_type": "code",
   "execution_count": 3,
   "metadata": {},
   "outputs": [
    {
     "name": "stdout",
     "output_type": "stream",
     "text": [
      "5,7,9,11,13,15,17,19,"
     ]
    }
   ],
   "source": [
    "# for 迴圈 02\n",
    "'''\n",
    "用法\n",
    "range(n, m, step)\n",
    "說明\n",
    "以每step為間距，走訪 n 到 m-1 的數字\n",
    "'''\n",
    "for i in range(5,20,2):\n",
    "    print(i, end = \",\")"
   ]
  }
 ],
 "metadata": {
  "kernelspec": {
   "display_name": "Python 3",
   "language": "python",
   "name": "python3"
  },
  "language_info": {
   "codemirror_mode": {
    "name": "ipython",
    "version": 3
   },
   "file_extension": ".py",
   "mimetype": "text/x-python",
   "name": "python",
   "nbconvert_exporter": "python",
   "pygments_lexer": "ipython3",
   "version": "3.7.9"
  }
 },
 "nbformat": 4,
 "nbformat_minor": 4
}

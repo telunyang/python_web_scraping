{
 "cells": [
  {
   "cell_type": "code",
   "execution_count": 1,
   "metadata": {},
   "outputs": [],
   "source": [
    "# 匯入套件\n",
    "import requests, json"
   ]
  },
  {
   "cell_type": "code",
   "execution_count": 2,
   "metadata": {},
   "outputs": [
    {
     "name": "stdout",
     "output_type": "stream",
     "text": [
      "財團法人台北市文化基金會\n",
      "台北市文化基金會（台北偶戲館樓上）\n"
     ]
    }
   ],
   "source": [
    "# 參考網址: https://data.taipei/#/application\n",
    "r = requests.get('https://data.taipei/opendata/datalist/apiAccess?scope=resourceAquire&rid=35aa3c53-28fb-423c-91b6-2c22432d0d70&limit=100&offset=0');\n",
    "\n",
    "# 將 json 轉成物件\n",
    "obj = json.loads(r.text)\n",
    "\n",
    "# 輸出對應節點的文字\n",
    "print(obj['result']['results'][0]['ShowGroupName'])\n",
    "print(obj['result']['results'][0]['Location'])"
   ]
  },
  {
   "cell_type": "code",
   "execution_count": 3,
   "metadata": {},
   "outputs": [
    {
     "name": "stdout",
     "output_type": "stream",
     "text": [
      "==================================================\n",
      "Location: 台北市文化基金會（台北偶戲館樓上）, ShowGroupName: 財團法人台北市文化基金會\n",
      "Location: 中華民國象棋文化協會名揚分會, ShowGroupName: 中華民國象棋文化協會名揚分會\n",
      "Location: 中華民國象棋文化協會名揚分會, ShowGroupName: 中華民國象棋文化協會名揚分會\n",
      "Location: 名揚象棋會館, ShowGroupName: 中華民國象棋文化協會名揚分會\n",
      "Location: 中華民國象棋文化協會名揚分會會館, ShowGroupName: 中華民國象棋文化協會名揚分會\n"
     ]
    }
   ],
   "source": [
    "print(\"=\" * 50)\n",
    "\n",
    "# 輸出部分節點的文字\n",
    "for index, result in enumerate(obj['result']['results']):\n",
    "    if index == 5:\n",
    "        break\n",
    "    print(f\"Location: {result['Location']}, ShowGroupName: {result['ShowGroupName']}\")"
   ]
  },
  {
   "cell_type": "code",
   "execution_count": 4,
   "metadata": {},
   "outputs": [
    {
     "name": "stdout",
     "output_type": "stream",
     "text": [
      "台北市基督徒救世會\n",
      "網路活動\n"
     ]
    }
   ],
   "source": [
    "# 參考網址: https://data.taipei/#/application\n",
    "r = requests.get('https://data.taipei/opendata/datalist/apiAccess?scope=resourceAquire&rid=35aa3c53-28fb-423c-91b6-2c22432d0d70&limit=100&offset=100');\n",
    "\n",
    "# 將 json 轉成物件\n",
    "obj = json.loads(r.text)\n",
    "\n",
    "# 輸出對應節點的文字\n",
    "print(obj['result']['results'][0]['ShowGroupName'])\n",
    "print(obj['result']['results'][0]['Location'])"
   ]
  },
  {
   "cell_type": "code",
   "execution_count": 5,
   "metadata": {},
   "outputs": [
    {
     "name": "stdout",
     "output_type": "stream",
     "text": [
      "==================================================\n",
      "Location: 網路活動, ShowGroupName: 台北市基督徒救世會\n",
      "Location: 網路活動, ShowGroupName: 台北市基督徒救世會\n",
      "Location: 台北市青島西路7號4樓, ShowGroupName: 台北女青年會\n",
      "Location: 臺中市屯區藝文中心演藝廳, ShowGroupName: 童歡藝術有限公司\n",
      "Location: 臺北市中山區新生北路二段58巷36號四樓, ShowGroupName: 紙文物維護學會\n"
     ]
    }
   ],
   "source": [
    "print(\"=\" * 50)\n",
    "\n",
    "# 輸出部分節點的文字\n",
    "for index, result in enumerate(obj['result']['results']):\n",
    "    if index == 5:\n",
    "        break\n",
    "    print(f\"Location: {result['Location']}, ShowGroupName: {result['ShowGroupName']}\")"
   ]
  },
  {
   "cell_type": "code",
   "execution_count": 6,
   "metadata": {},
   "outputs": [
    {
     "name": "stdout",
     "output_type": "stream",
     "text": [
      "易禧創意\n",
      "易禧創意設計中心\n"
     ]
    }
   ],
   "source": [
    "# 參考網址: https://data.taipei/#/application\n",
    "r = requests.get('https://data.taipei/opendata/datalist/apiAccess?scope=resourceAquire&rid=35aa3c53-28fb-423c-91b6-2c22432d0d70&limit=100&offset=300');\n",
    "\n",
    "# 將 json 轉成物件\n",
    "obj = json.loads(r.text)\n",
    "\n",
    "# 輸出對應節點的文字\n",
    "print(obj['result']['results'][0]['ShowGroupName'])\n",
    "print(obj['result']['results'][0]['Location'])"
   ]
  },
  {
   "cell_type": "code",
   "execution_count": 7,
   "metadata": {},
   "outputs": [
    {
     "name": "stdout",
     "output_type": "stream",
     "text": [
      "==================================================\n",
      "Location: 易禧創意設計中心, ShowGroupName: 易禧創意\n",
      "Location: 台北市中山區中山北路二段18號, ShowGroupName: 台北之家\n",
      "Location: 台北市中山區中山北路二段18號, ShowGroupName: 台北之家\n",
      "Location: 台北市中山區中山北路二段18號, ShowGroupName: 台北之家\n",
      "Location: 台北市中山區中山北路二段18號, ShowGroupName: 台北之家\n"
     ]
    }
   ],
   "source": [
    "print(\"=\" * 50)\n",
    "\n",
    "# 輸出部分節點的文字\n",
    "for index, result in enumerate(obj['result']['results']):\n",
    "    if index == 5:\n",
    "        break\n",
    "    print(f\"Location: {result['Location']}, ShowGroupName: {result['ShowGroupName']}\")"
   ]
  }
 ],
 "metadata": {
  "kernelspec": {
   "display_name": "Python 3",
   "language": "python",
   "name": "python3"
  },
  "language_info": {
   "codemirror_mode": {
    "name": "ipython",
    "version": 3
   },
   "file_extension": ".py",
   "mimetype": "text/x-python",
   "name": "python",
   "nbconvert_exporter": "python",
   "pygments_lexer": "ipython3",
   "version": "3.7.9"
  }
 },
 "nbformat": 4,
 "nbformat_minor": 4
}

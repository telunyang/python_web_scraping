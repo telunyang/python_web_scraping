{
 "cells": [
  {
   "cell_type": "code",
   "execution_count": 1,
   "metadata": {},
   "outputs": [
    {
     "name": "stdout",
     "output_type": "stream",
     "text": [
      "==================================================\n",
      "Location: 台北市文化基金會（台北偶戲館樓上）, ShowGroupName: 財團法人台北市文化基金會\n",
      "Location: 中華民國象棋文化協會名揚分會, ShowGroupName: 中華民國象棋文化協會名揚分會\n",
      "Location: 中華民國象棋文化協會名揚分會, ShowGroupName: 中華民國象棋文化協會名揚分會\n",
      "Location: 名揚象棋會館, ShowGroupName: 中華民國象棋文化協會名揚分會\n",
      "Location: 中華民國象棋文化協會名揚分會會館, ShowGroupName: 中華民國象棋文化協會名揚分會\n"
     ]
    }
   ],
   "source": [
    "# 匯入套件\n",
    "import requests, json\n",
    "\n",
    "'''參考網址: https://data.taipei/#/application'''\n",
    "\n",
    "limit = 5 # 一次幾筆\n",
    "offset = 0 # 從第幾筆開始\n",
    "\n",
    "r = requests.get(f'https://data.taipei/opendata/datalist/apiAccess?scope=resourceAquire&rid=35aa3c53-28fb-423c-91b6-2c22432d0d70&offset={offset}&limit={limit}');\n",
    "\n",
    "# 將 json 轉成物件\n",
    "obj = json.loads(r.text)\n",
    "\n",
    "print(\"=\" * 50)\n",
    "\n",
    "# 輸出部分節點的文字\n",
    "for index, result in enumerate(obj['result']['results']):\n",
    "    if index == 5:\n",
    "        break\n",
    "    print(f\"Location: {result['Location']}, ShowGroupName: {result['ShowGroupName']}\")\n",
    "    \n",
    "# 存為 .json 格式的檔案\n",
    "fp = open(\"opendata.json\", \"w\", encoding=\"utf-8\")\n",
    "fp.write( json.dumps(obj, ensure_ascii=False) )\n",
    "fp.close()"
   ]
  }
 ],
 "metadata": {
  "kernelspec": {
   "display_name": "Python 3",
   "language": "python",
   "name": "python3"
  },
  "language_info": {
   "codemirror_mode": {
    "name": "ipython",
    "version": 3
   },
   "file_extension": ".py",
   "mimetype": "text/x-python",
   "name": "python",
   "nbconvert_exporter": "python",
   "pygments_lexer": "ipython3",
   "version": "3.8.8"
  }
 },
 "nbformat": 4,
 "nbformat_minor": 4
}

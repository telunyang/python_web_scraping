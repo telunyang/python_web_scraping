{
 "cells": [
  {
   "cell_type": "code",
   "execution_count": 1,
   "metadata": {},
   "outputs": [],
   "source": [
    "import requests as rq\n",
    "from bs4 import BeautifulSoup\n",
    "import pprint as pp\n",
    "\n",
    " # PTT NBA 板\n",
    "url = \"https://www.ptt.cc/bbs/NBA/index.html\"\n",
    "\n",
    "# 用 requests 的 get 方法把網頁抓下來\n",
    "response = rq.get(url) \n",
    "\n",
    "# 指定 lxml 作為解析器\n",
    "soup = BeautifulSoup(response.text, \"lxml\") "
   ]
  },
  {
   "cell_type": "code",
   "execution_count": 2,
   "metadata": {},
   "outputs": [
    {
     "name": "stdout",
     "output_type": "stream",
     "text": [
      "<a href=\"/bbs/\" id=\"logo\">批踢踢實業坊</a>\n",
      "----分隔線----\n"
     ]
    }
   ],
   "source": [
    "# 第一個 <a></a>\n",
    "print(soup.find(\"a\")) \n",
    "print(\"=\" * 30)"
   ]
  },
  {
   "cell_type": "code",
   "execution_count": null,
   "metadata": {},
   "outputs": [],
   "source": [
    "# 全部 <a></a>，此時回傳 list\n",
    "pp.pprint(soup.find_all(\"a\")) \n",
    "print(\"=\" * 30)"
   ]
  },
  {
   "cell_type": "code",
   "execution_count": 4,
   "metadata": {},
   "outputs": [
    {
     "name": "stdout",
     "output_type": "stream",
     "text": [
      "<a class=\"right small\" href=\"/about.html\">關於我們</a>\n"
     ]
    }
   ],
   "source": [
    "# 指定 list 某個元素的 html\n",
    "print(soup.find_all(\"a\")[2]) "
   ]
  }
 ],
 "metadata": {
  "kernelspec": {
   "display_name": "Python 3",
   "language": "python",
   "name": "python3"
  },
  "language_info": {
   "codemirror_mode": {
    "name": "ipython",
    "version": 3
   },
   "file_extension": ".py",
   "mimetype": "text/x-python",
   "name": "python",
   "nbconvert_exporter": "python",
   "pygments_lexer": "ipython3",
   "version": "3.8.8"
  }
 },
 "nbformat": 4,
 "nbformat_minor": 4
}

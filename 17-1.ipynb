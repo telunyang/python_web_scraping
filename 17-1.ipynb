{
 "cells": [
  {
   "cell_type": "code",
   "execution_count": 1,
   "metadata": {},
   "outputs": [],
   "source": [
    "# 匯入套件\n",
    "from selenium import webdriver\n",
    "from selenium.common.exceptions import TimeoutException\n",
    "from selenium.webdriver.support.ui import WebDriverWait\n",
    "from selenium.webdriver.support import expected_conditions as EC\n",
    "from selenium.webdriver.common.by import By\n",
    "from time import sleep\n",
    "\n",
    "'''\n",
    "selenium 啓動 Chrome 的進階配置參數\n",
    "參考網址：https://stackoverflow.max-everyday.com/2019/12/selenium-chrome-options/\n",
    "'''\n",
    "# 啟動瀏覽器工具的選項\n",
    "options = webdriver.ChromeOptions()\n",
    "# options.add_argument(\"--headless\")              #不開啟實體瀏覽器背景執行\n",
    "options.add_argument(\"--start-maximized\")         #最大化視窗\n",
    "options.add_argument(\"--incognito\")               #開啟無痕模式\n",
    "options.add_argument(\"--disable-popup-blocking \") #禁用彈出攔截\n",
    "\n",
    "# 使用 Chrome 的 WebDriver (含 options)\n",
    "driver = webdriver.Chrome( options = options )\n",
    "\n",
    "# 走訪網址\n",
    "driver.get('https://www.facebook.com/')\n",
    "\n",
    "# 輸入帳號\n",
    "inputEmail = driver.find_element_by_id('email') \n",
    "inputEmail.send_keys(\"你的帳號\")\n",
    "\n",
    "# 輸入密碼\n",
    "inputPwd = driver.find_element_by_id('pass')\n",
    "inputPwd.send_keys(\"你的密碼\")\n",
    "\n",
    "# 按下登入/送出鈕\n",
    "btnSubmit = driver.find_element_by_id('u_0_b')\n",
    "btnSubmit.click()\n",
    "\n",
    "# 強制等待 10 秒\n",
    "sleep(10)\n",
    "\n",
    "# 關閉瀏覽器\n",
    "driver.quit()"
   ]
  }
 ],
 "metadata": {
  "kernelspec": {
   "display_name": "Python 3",
   "language": "python",
   "name": "python3"
  },
  "language_info": {
   "codemirror_mode": {
    "name": "ipython",
    "version": 3
   },
   "file_extension": ".py",
   "mimetype": "text/x-python",
   "name": "python",
   "nbconvert_exporter": "python",
   "pygments_lexer": "ipython3",
   "version": "3.7.9"
  }
 },
 "nbformat": 4,
 "nbformat_minor": 4
}

{
 "cells": [
  {
   "cell_type": "code",
   "execution_count": 1,
   "metadata": {},
   "outputs": [],
   "source": [
    "# 匯入相關套件\n",
    "from selenium import webdriver\n",
    "from time import sleep\n",
    "\n",
    "'''\n",
    "selenium 啓動 Chrome 的進階配置參數\n",
    "參考網址：https://stackoverflow.max-everyday.com/2019/12/selenium-chrome-options/\n",
    "'''\n",
    "# 啟動瀏覽器工具的選項\n",
    "options = webdriver.ChromeOptions()\n",
    "# options.add_argument(\"--headless\")              #不開啟實體瀏覽器背景執行\n",
    "options.add_argument(\"--start-maximized\")         #最大化視窗\n",
    "options.add_argument(\"--incognito\")               #開啟無痕模式\n",
    "options.add_argument(\"--disable-popup-blocking \") #禁用彈出攔截\n",
    "\n",
    "# 使用 Chrome 的 WebDriver\n",
    "driver = webdriver.Chrome(options = options)\n",
    "\n",
    "# 開啟 Google 首頁\n",
    "driver.get(\"https://tw.yahoo.com\")\n",
    "\n",
    "# 休眠幾秒\n",
    "sleep(5)\n",
    "\n",
    "# 關閉瀏覽器\n",
    "driver.quit()"
   ]
  }
 ],
 "metadata": {
  "kernelspec": {
   "display_name": "Python 3",
   "language": "python",
   "name": "python3"
  },
  "language_info": {
   "codemirror_mode": {
    "name": "ipython",
    "version": 3
   },
   "file_extension": ".py",
   "mimetype": "text/x-python",
   "name": "python",
   "nbconvert_exporter": "python",
   "pygments_lexer": "ipython3",
   "version": "3.8.8"
  }
 },
 "nbformat": 4,
 "nbformat_minor": 4
}
